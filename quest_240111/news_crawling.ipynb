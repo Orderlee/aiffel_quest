{
 "cells": [
  {
   "cell_type": "code",
   "execution_count": 1,
   "id": "7ee73790",
   "metadata": {},
   "outputs": [],
   "source": [
    "import requests\n",
    "import pandas as pd\n",
    "from bs4 import BeautifulSoup\n",
    "\n",
    "# 페이지 수 카테고리, 날짜를 입력값으로 받음\n",
    "def make_urllist(page_num, code, date):\n",
    "    urllist = []\n",
    "    for i in range(1, page_num +1):\n",
    "        url = 'https://news.naver.com/main/list.nhn?mode=LSD&mid=sec&sid1='+str(code)+'&date='+str(date)+'&page='+str(i)\n",
    "        headers = {'User-Agent': 'Mozilla/5.0 (X11; Linux x86_64) AppleWebKit/537.36 (KHTML, like Gecko) Chrome/54.0.2840.90 Safari/537.36'}\n",
    "        news = requests.get(url, headers=headers)\n",
    "        \n",
    "        # BeautifulSoup의 인스턴스 생성, 파서는 html.parser를 사용\n",
    "        soup = BeautifulSoup(news.content, 'html.parser')\n",
    "\n",
    "        news_list = soup.select('.newsflash_body .type06_headline li dl')\n",
    "#         print(news_list)\n",
    "        news_list.extend(soup.select('.newsflash_body .type06 li dl'))\n",
    "\n",
    "        for line in news_list:\n",
    "            urllist.append(line.a.get('href'))\n",
    "        \n",
    "    return urllist\n"
   ]
  },
  {
   "cell_type": "code",
   "execution_count": 2,
   "id": "2dcd9403",
   "metadata": {
    "scrolled": true
   },
   "outputs": [
    {
     "name": "stdout",
     "output_type": "stream",
     "text": [
      "뉴스 기사의 개수: 40\n"
     ]
    }
   ],
   "source": [
    "url_list = make_urllist(2, 105, 20240110)\n",
    "print('뉴스 기사의 개수:', len(url_list))"
   ]
  },
  {
   "cell_type": "code",
   "execution_count": 3,
   "id": "a816cda9",
   "metadata": {},
   "outputs": [
    {
     "data": {
      "text/plain": [
       "['https://n.news.naver.com/mnews/article/092/0002317735?sid=105',\n",
       " 'https://n.news.naver.com/mnews/article/119/0002788401?sid=105',\n",
       " 'https://n.news.naver.com/mnews/article/442/0000168851?sid=105',\n",
       " 'https://n.news.naver.com/mnews/article/056/0011639816?sid=105',\n",
       " 'https://n.news.naver.com/mnews/article/030/0003172546?sid=105',\n",
       " 'https://n.news.naver.com/mnews/article/092/0002317734?sid=105',\n",
       " 'https://n.news.naver.com/mnews/article/092/0002317733?sid=105',\n",
       " 'https://n.news.naver.com/mnews/article/056/0011639754?sid=105',\n",
       " 'https://n.news.naver.com/mnews/article/056/0011639773?sid=105',\n",
       " 'https://n.news.naver.com/mnews/article/032/0003272716?sid=105',\n",
       " 'https://n.news.naver.com/mnews/article/366/0000961467?sid=105',\n",
       " 'https://n.news.naver.com/mnews/article/009/0005242853?sid=105',\n",
       " 'https://n.news.naver.com/mnews/article/011/0004285384?sid=105',\n",
       " 'https://n.news.naver.com/mnews/article/020/0003541975?sid=105',\n",
       " 'https://n.news.naver.com/mnews/article/056/0011639693?sid=105',\n",
       " 'https://n.news.naver.com/mnews/article/009/0005242851?sid=105',\n",
       " 'https://n.news.naver.com/mnews/article/031/0000803763?sid=105',\n",
       " 'https://n.news.naver.com/mnews/article/001/0014437359?sid=105',\n",
       " 'https://n.news.naver.com/mnews/article/092/0002317730?sid=105',\n",
       " 'https://n.news.naver.com/mnews/article/469/0000779745?sid=105',\n",
       " 'https://n.news.naver.com/mnews/article/023/0003809962?sid=105',\n",
       " 'https://n.news.naver.com/mnews/article/092/0002317729?sid=105',\n",
       " 'https://n.news.naver.com/mnews/article/016/0002250554?sid=105',\n",
       " 'https://n.news.naver.com/mnews/article/092/0002317728?sid=105',\n",
       " 'https://n.news.naver.com/mnews/article/092/0002317727?sid=105',\n",
       " 'https://n.news.naver.com/mnews/article/092/0002317726?sid=105',\n",
       " 'https://n.news.naver.com/mnews/article/016/0002250547?sid=105',\n",
       " 'https://n.news.naver.com/mnews/article/366/0000961463?sid=105',\n",
       " 'https://n.news.naver.com/mnews/article/092/0002317725?sid=105',\n",
       " 'https://n.news.naver.com/mnews/article/009/0005242828?sid=105',\n",
       " 'https://n.news.naver.com/mnews/article/092/0002317724?sid=105',\n",
       " 'https://n.news.naver.com/mnews/article/092/0002317723?sid=105',\n",
       " 'https://n.news.naver.com/mnews/article/011/0004285373?sid=105',\n",
       " 'https://n.news.naver.com/mnews/article/469/0000779743?sid=105',\n",
       " 'https://n.news.naver.com/mnews/article/011/0004285372?sid=105',\n",
       " 'https://n.news.naver.com/mnews/article/011/0004285371?sid=105',\n",
       " 'https://n.news.naver.com/mnews/article/005/0001665944?sid=105',\n",
       " 'https://n.news.naver.com/mnews/article/011/0004285370?sid=105',\n",
       " 'https://n.news.naver.com/mnews/article/016/0002250541?sid=105',\n",
       " 'https://n.news.naver.com/mnews/article/020/0003541969?sid=105']"
      ]
     },
     "execution_count": 3,
     "metadata": {},
     "output_type": "execute_result"
    }
   ],
   "source": [
    "url_list"
   ]
  },
  {
   "cell_type": "code",
   "execution_count": 4,
   "id": "a83dd7c1",
   "metadata": {},
   "outputs": [],
   "source": [
    "from newspaper import Article\n",
    "\n",
    "idx2word = {'101':'경제','102':'사회','103':'생활/문화','105':'IT/과학'}\n",
    "\n",
    "# 입력값을 urllist 와 카테고리로 받음\n",
    "def make_data(urllist, code):\n",
    "    text_list = []\n",
    "#     content_list = [] # 기사내용 저장 시간을 위해서 패스\n",
    "    for url in urllist:\n",
    "        article = Article(url, language='ko')\n",
    "        article.download()\n",
    "        article.parse()\n",
    "        text_list.append(article.title)\n",
    "#         content_list.append(article.text) # 기사내용 저장 시간을 위해서 패스\n",
    "    \n",
    "    # 'news'라는 열에 text_list를 추가하여 'content'열에 content_list를 추가하여 Dataframe 생성\n",
    "#     df = pd.DataFrame({'news':text_list,'content':content_list})\n",
    "    df = pd.DataFrame({'news':text_list})\n",
    "    \n",
    "    df['code'] = idx2word[str(code)]\n",
    "    \n",
    "    return df"
   ]
  },
  {
   "cell_type": "code",
   "execution_count": 5,
   "id": "a4398f45",
   "metadata": {},
   "outputs": [
    {
     "data": {
      "text/html": [
       "<div>\n",
       "<style scoped>\n",
       "    .dataframe tbody tr th:only-of-type {\n",
       "        vertical-align: middle;\n",
       "    }\n",
       "\n",
       "    .dataframe tbody tr th {\n",
       "        vertical-align: top;\n",
       "    }\n",
       "\n",
       "    .dataframe thead th {\n",
       "        text-align: right;\n",
       "    }\n",
       "</style>\n",
       "<table border=\"1\" class=\"dataframe\">\n",
       "  <thead>\n",
       "    <tr style=\"text-align: right;\">\n",
       "      <th></th>\n",
       "      <th>news</th>\n",
       "      <th>code</th>\n",
       "    </tr>\n",
       "  </thead>\n",
       "  <tbody>\n",
       "    <tr>\n",
       "      <th>0</th>\n",
       "      <td>레노버, 안드로이드·윈도 결합 씽크북 신제품 공개</td>\n",
       "      <td>사회</td>\n",
       "    </tr>\n",
       "    <tr>\n",
       "      <th>1</th>\n",
       "      <td>과기정통부, 미국 CES서 디지털 청년인재 상호교류 마련</td>\n",
       "      <td>사회</td>\n",
       "    </tr>\n",
       "    <tr>\n",
       "      <th>2</th>\n",
       "      <td>[뉴스] 파란 수국꽃 에디션? 커스텀 PC 맛집, 써멀테이크가 CES에 떴다</td>\n",
       "      <td>사회</td>\n",
       "    </tr>\n",
       "    <tr>\n",
       "      <th>3</th>\n",
       "      <td>방심위 여권위원, 회의 중 야권위원 욕설에 임시회 소집…해촉 건의할 듯</td>\n",
       "      <td>사회</td>\n",
       "    </tr>\n",
       "    <tr>\n",
       "      <th>4</th>\n",
       "      <td>네오드림스, CES에서 헬스케어 AI 코칭기기 'ArimoX' 선보여</td>\n",
       "      <td>사회</td>\n",
       "    </tr>\n",
       "    <tr>\n",
       "      <th>5</th>\n",
       "      <td>테솔로, CES서 로봇 그리퍼 'DG-3F' 선봬</td>\n",
       "      <td>사회</td>\n",
       "    </tr>\n",
       "    <tr>\n",
       "      <th>6</th>\n",
       "      <td>첨단 소재·원격 협업·카테크서 활로 찾는 카메라 업체들</td>\n",
       "      <td>사회</td>\n",
       "    </tr>\n",
       "    <tr>\n",
       "      <th>7</th>\n",
       "      <td>대전시, ‘CES 2024’에서 첫 단독 전시관 운영</td>\n",
       "      <td>사회</td>\n",
       "    </tr>\n",
       "    <tr>\n",
       "      <th>8</th>\n",
       "      <td>미국 ‘CES 2024’ 광주 전시관 개관…전남은 수출 계약</td>\n",
       "      <td>사회</td>\n",
       "    </tr>\n",
       "    <tr>\n",
       "      <th>9</th>\n",
       "      <td>넥슨, 116억 과징금 맞고서야 시정 조치</td>\n",
       "      <td>사회</td>\n",
       "    </tr>\n",
       "    <tr>\n",
       "      <th>10</th>\n",
       "      <td>방심위 모레 전체회의 소집…\"야권 위원 해촉 건의\"</td>\n",
       "      <td>사회</td>\n",
       "    </tr>\n",
       "    <tr>\n",
       "      <th>11</th>\n",
       "      <td>“가짜뉴스에 속든 말든, 돈만 벌면 장땡”…‘조회수 팔이’ 부작용 속출</td>\n",
       "      <td>사회</td>\n",
       "    </tr>\n",
       "    <tr>\n",
       "      <th>12</th>\n",
       "      <td>방심위 모레 전체회의 소집…“야권 위원 해촉 건의”</td>\n",
       "      <td>사회</td>\n",
       "    </tr>\n",
       "    <tr>\n",
       "      <th>13</th>\n",
       "      <td>[CES 2024] 지드래곤, 롯데 칼리버스 부스 깜짝 방문</td>\n",
       "      <td>사회</td>\n",
       "    </tr>\n",
       "    <tr>\n",
       "      <th>14</th>\n",
       "      <td>고도화되는 허위조작 정보…“책임 강화해야”</td>\n",
       "      <td>사회</td>\n",
       "    </tr>\n",
       "    <tr>\n",
       "      <th>15</th>\n",
       "      <td>라스베이거스 점령한 ‘한국안마’…“내 차례 언제” 몇십미터 줄섰다는데 [CES 2024]</td>\n",
       "      <td>사회</td>\n",
       "    </tr>\n",
       "    <tr>\n",
       "      <th>16</th>\n",
       "      <td>철 모를 때 찍은 '엽기영상'에 후회막심…\"지워주겠습니다\"</td>\n",
       "      <td>사회</td>\n",
       "    </tr>\n",
       "    <tr>\n",
       "      <th>17</th>\n",
       "      <td>AI시대 저작권 결전…챗GPT, '세기의 소송' 줄줄이 직면</td>\n",
       "      <td>사회</td>\n",
       "    </tr>\n",
       "    <tr>\n",
       "      <th>18</th>\n",
       "      <td>HD한국조선해양, 연초부터 25척 수주…\"2.8조원 규모\"</td>\n",
       "      <td>사회</td>\n",
       "    </tr>\n",
       "    <tr>\n",
       "      <th>19</th>\n",
       "      <td>116억 원 '철퇴'에...넥슨, 확률형 아이템 '큐브' 판매 중단하기로</td>\n",
       "      <td>사회</td>\n",
       "    </tr>\n",
       "    <tr>\n",
       "      <th>20</th>\n",
       "      <td>침묵의 마스크·휴대용 전자레인지... 아이디어 쏟아진 ‘유레카 파크’</td>\n",
       "      <td>사회</td>\n",
       "    </tr>\n",
       "    <tr>\n",
       "      <th>21</th>\n",
       "      <td>강구영 KAI 사장, CES 방문…\"미래기술 찾는다\"</td>\n",
       "      <td>사회</td>\n",
       "    </tr>\n",
       "    <tr>\n",
       "      <th>22</th>\n",
       "      <td>“월 100만원 벌기도 힘들어요” 퇴사하고 유튜버, 한때 유행이었는데…확 줄었다</td>\n",
       "      <td>사회</td>\n",
       "    </tr>\n",
       "    <tr>\n",
       "      <th>23</th>\n",
       "      <td>보다나, 2024 대한민국 퍼스트브랜드 헤어스타일러 부문 수상</td>\n",
       "      <td>사회</td>\n",
       "    </tr>\n",
       "    <tr>\n",
       "      <th>24</th>\n",
       "      <td>보스, '스마트 울트라 사운드바' 출시…119만원</td>\n",
       "      <td>사회</td>\n",
       "    </tr>\n",
       "    <tr>\n",
       "      <th>25</th>\n",
       "      <td>쿠쿠, 공기청정기 판매량 전월 대비 33%↑</td>\n",
       "      <td>사회</td>\n",
       "    </tr>\n",
       "    <tr>\n",
       "      <th>26</th>\n",
       "      <td>[영상] 삼성 CEO도 주목한 연설인데…로레알은 2천명 앞에서 아이폰 [비즈360]</td>\n",
       "      <td>사회</td>\n",
       "    </tr>\n",
       "    <tr>\n",
       "      <th>27</th>\n",
       "      <td>복지부 “의학계 ‘의대 350명 증원’ 의견 의미안둬...의대 증원 더 속도낼 것”</td>\n",
       "      <td>사회</td>\n",
       "    </tr>\n",
       "    <tr>\n",
       "      <th>28</th>\n",
       "      <td>인텔, 자동차용 프로세서 시장 본격 진출 선언</td>\n",
       "      <td>사회</td>\n",
       "    </tr>\n",
       "    <tr>\n",
       "      <th>29</th>\n",
       "      <td>“어릴 때 올린 댓글, 지워주세요”…잊힐 권리 지원 확대된다</td>\n",
       "      <td>사회</td>\n",
       "    </tr>\n",
       "    <tr>\n",
       "      <th>30</th>\n",
       "      <td>코웨이, '2024 대한민국 퍼스트브랜드' 4관왕</td>\n",
       "      <td>사회</td>\n",
       "    </tr>\n",
       "    <tr>\n",
       "      <th>31</th>\n",
       "      <td>폴라리스쓰리디, 나두모두와 업무 자동화 솔루션 개발 맞손</td>\n",
       "      <td>사회</td>\n",
       "    </tr>\n",
       "    <tr>\n",
       "      <th>32</th>\n",
       "      <td>보쉬의 혁신</td>\n",
       "      <td>사회</td>\n",
       "    </tr>\n",
       "    <tr>\n",
       "      <th>33</th>\n",
       "      <td>[현장]삼성전자 한종희 \"올해 안에 AI 어시스턴트 빅스비로 가전과 대화하게 해주겠다\"</td>\n",
       "      <td>사회</td>\n",
       "    </tr>\n",
       "    <tr>\n",
       "      <th>34</th>\n",
       "      <td>진화하는 AMD 기술력</td>\n",
       "      <td>사회</td>\n",
       "    </tr>\n",
       "    <tr>\n",
       "      <th>35</th>\n",
       "      <td>혁신 거듭하는 아마존</td>\n",
       "      <td>사회</td>\n",
       "    </tr>\n",
       "    <tr>\n",
       "      <th>36</th>\n",
       "      <td>카카오게임즈 ‘아키에이지 워’ 캐릭터 선물하기 시스템 업데이트</td>\n",
       "      <td>사회</td>\n",
       "    </tr>\n",
       "    <tr>\n",
       "      <th>37</th>\n",
       "      <td>오랜 유통 노하우로 변신할 월마트</td>\n",
       "      <td>사회</td>\n",
       "    </tr>\n",
       "    <tr>\n",
       "      <th>38</th>\n",
       "      <td>“틱톡 챌린지, 제발 지워주세요” 흑역사 지우고픈 사람 1만명 몰렸다</td>\n",
       "      <td>사회</td>\n",
       "    </tr>\n",
       "    <tr>\n",
       "      <th>39</th>\n",
       "      <td>동아ST, 이스라엘 일레븐테라퓨틱스와 RNA 유전자 치료제 개발 협력</td>\n",
       "      <td>사회</td>\n",
       "    </tr>\n",
       "  </tbody>\n",
       "</table>\n",
       "</div>"
      ],
      "text/plain": [
       "                                                 news code\n",
       "0                         레노버, 안드로이드·윈도 결합 씽크북 신제품 공개   사회\n",
       "1                     과기정통부, 미국 CES서 디지털 청년인재 상호교류 마련   사회\n",
       "2          [뉴스] 파란 수국꽃 에디션? 커스텀 PC 맛집, 써멀테이크가 CES에 떴다   사회\n",
       "3             방심위 여권위원, 회의 중 야권위원 욕설에 임시회 소집…해촉 건의할 듯   사회\n",
       "4              네오드림스, CES에서 헬스케어 AI 코칭기기 'ArimoX' 선보여   사회\n",
       "5                         테솔로, CES서 로봇 그리퍼 'DG-3F' 선봬   사회\n",
       "6                      첨단 소재·원격 협업·카테크서 활로 찾는 카메라 업체들   사회\n",
       "7                       대전시, ‘CES 2024’에서 첫 단독 전시관 운영   사회\n",
       "8                   미국 ‘CES 2024’ 광주 전시관 개관…전남은 수출 계약   사회\n",
       "9                             넥슨, 116억 과징금 맞고서야 시정 조치   사회\n",
       "10                       방심위 모레 전체회의 소집…\"야권 위원 해촉 건의\"   사회\n",
       "11            “가짜뉴스에 속든 말든, 돈만 벌면 장땡”…‘조회수 팔이’ 부작용 속출   사회\n",
       "12                       방심위 모레 전체회의 소집…“야권 위원 해촉 건의”   사회\n",
       "13                  [CES 2024] 지드래곤, 롯데 칼리버스 부스 깜짝 방문   사회\n",
       "14                            고도화되는 허위조작 정보…“책임 강화해야”   사회\n",
       "15  라스베이거스 점령한 ‘한국안마’…“내 차례 언제” 몇십미터 줄섰다는데 [CES 2024]   사회\n",
       "16                   철 모를 때 찍은 '엽기영상'에 후회막심…\"지워주겠습니다\"   사회\n",
       "17                  AI시대 저작권 결전…챗GPT, '세기의 소송' 줄줄이 직면   사회\n",
       "18                   HD한국조선해양, 연초부터 25척 수주…\"2.8조원 규모\"   사회\n",
       "19           116억 원 '철퇴'에...넥슨, 확률형 아이템 '큐브' 판매 중단하기로   사회\n",
       "20             침묵의 마스크·휴대용 전자레인지... 아이디어 쏟아진 ‘유레카 파크’   사회\n",
       "21                      강구영 KAI 사장, CES 방문…\"미래기술 찾는다\"   사회\n",
       "22       “월 100만원 벌기도 힘들어요” 퇴사하고 유튜버, 한때 유행이었는데…확 줄었다   사회\n",
       "23                 보다나, 2024 대한민국 퍼스트브랜드 헤어스타일러 부문 수상   사회\n",
       "24                        보스, '스마트 울트라 사운드바' 출시…119만원   사회\n",
       "25                           쿠쿠, 공기청정기 판매량 전월 대비 33%↑   사회\n",
       "26     [영상] 삼성 CEO도 주목한 연설인데…로레알은 2천명 앞에서 아이폰 [비즈360]   사회\n",
       "27     복지부 “의학계 ‘의대 350명 증원’ 의견 의미안둬...의대 증원 더 속도낼 것”   사회\n",
       "28                          인텔, 자동차용 프로세서 시장 본격 진출 선언   사회\n",
       "29                  “어릴 때 올린 댓글, 지워주세요”…잊힐 권리 지원 확대된다   사회\n",
       "30                        코웨이, '2024 대한민국 퍼스트브랜드' 4관왕   사회\n",
       "31                    폴라리스쓰리디, 나두모두와 업무 자동화 솔루션 개발 맞손   사회\n",
       "32                                             보쉬의 혁신   사회\n",
       "33   [현장]삼성전자 한종희 \"올해 안에 AI 어시스턴트 빅스비로 가전과 대화하게 해주겠다\"   사회\n",
       "34                                       진화하는 AMD 기술력   사회\n",
       "35                                        혁신 거듭하는 아마존   사회\n",
       "36                 카카오게임즈 ‘아키에이지 워’ 캐릭터 선물하기 시스템 업데이트   사회\n",
       "37                                 오랜 유통 노하우로 변신할 월마트   사회\n",
       "38             “틱톡 챌린지, 제발 지워주세요” 흑역사 지우고픈 사람 1만명 몰렸다   사회\n",
       "39             동아ST, 이스라엘 일레븐테라퓨틱스와 RNA 유전자 치료제 개발 협력   사회"
      ]
     },
     "execution_count": 5,
     "metadata": {},
     "output_type": "execute_result"
    }
   ],
   "source": [
    "data = make_data(url_list, 102)\n",
    "data"
   ]
  },
  {
   "cell_type": "code",
   "execution_count": 6,
   "id": "2d777d72",
   "metadata": {},
   "outputs": [
    {
     "data": {
      "text/plain": [
       "[101, 102, 103, 105]"
      ]
     },
     "execution_count": 6,
     "metadata": {},
     "output_type": "execute_result"
    }
   ],
   "source": [
    "code_list = [101, 102, 103, 105]\n",
    "code_list"
   ]
  },
  {
   "cell_type": "code",
   "execution_count": 7,
   "id": "fa3a5158",
   "metadata": {},
   "outputs": [],
   "source": [
    "def make_total_data(page_num, code_list, date):\n",
    "    df = None\n",
    "    \n",
    "    for code in code_list:\n",
    "        url_list = make_urllist(page_num, code, date)\n",
    "        df_temp = make_data(url_list, code)\n",
    "        print(str(code)+\"번 코드에 데이터를 만들었습니다.\")\n",
    "        \n",
    "        \n",
    "        if df is not None:\n",
    "            df = pd.concat([df, df_temp]) \n",
    "        else:\n",
    "            df = df_temp\n",
    "            \n",
    "    return df"
   ]
  },
  {
   "cell_type": "code",
   "execution_count": 8,
   "id": "56def72d",
   "metadata": {},
   "outputs": [
    {
     "name": "stdout",
     "output_type": "stream",
     "text": [
      "101번 코드에 데이터를 만들었습니다.\n",
      "102번 코드에 데이터를 만들었습니다.\n",
      "103번 코드에 데이터를 만들었습니다.\n",
      "105번 코드에 데이터를 만들었습니다.\n"
     ]
    }
   ],
   "source": [
    "# 데이터 생성\n",
    "df = make_total_data(4, code_list, 20240110)"
   ]
  },
  {
   "cell_type": "code",
   "execution_count": 9,
   "id": "9f1f034b",
   "metadata": {},
   "outputs": [],
   "source": [
    "# page_num = [1,2,3,4,5]\n",
    "# date = [20240101, 20240102, 20240103, 20240104]\n",
    "\n",
    "# df_list = []\n",
    "\n",
    "# for d in date:\n",
    "#     for page in page_num:\n",
    "#         df_temp = make_total_data(page, code_list, d)\n",
    "#         df_list.append(df_temp)\n",
    "# # for page in page_num:\n",
    "# #     for d in date:\n",
    "# #         df_temp = make_total_data(page, code_list, d)\n",
    "# #         df_list.append(df_temp)\n",
    "\n",
    "\n",
    "# df = pd.concat(df_list)"
   ]
  },
  {
   "cell_type": "code",
   "execution_count": 10,
   "id": "cf1bde53",
   "metadata": {},
   "outputs": [
    {
     "name": "stdout",
     "output_type": "stream",
     "text": [
      "뉴스 기사의 개수:  320\n"
     ]
    }
   ],
   "source": [
    "print('뉴스 기사의 개수: ', len(df))"
   ]
  },
  {
   "cell_type": "code",
   "execution_count": 11,
   "id": "cf2b8142",
   "metadata": {},
   "outputs": [
    {
     "data": {
      "text/html": [
       "<div>\n",
       "<style scoped>\n",
       "    .dataframe tbody tr th:only-of-type {\n",
       "        vertical-align: middle;\n",
       "    }\n",
       "\n",
       "    .dataframe tbody tr th {\n",
       "        vertical-align: top;\n",
       "    }\n",
       "\n",
       "    .dataframe thead th {\n",
       "        text-align: right;\n",
       "    }\n",
       "</style>\n",
       "<table border=\"1\" class=\"dataframe\">\n",
       "  <thead>\n",
       "    <tr style=\"text-align: right;\">\n",
       "      <th></th>\n",
       "      <th>news</th>\n",
       "      <th>code</th>\n",
       "    </tr>\n",
       "  </thead>\n",
       "  <tbody>\n",
       "    <tr>\n",
       "      <th>0</th>\n",
       "      <td>강원~울릉 연안여객선 이용객 7만여 명 감소</td>\n",
       "      <td>경제</td>\n",
       "    </tr>\n",
       "    <tr>\n",
       "      <th>1</th>\n",
       "      <td>지난달 강원 고용률 0.8%p 상승…실업률 0.5%p 하락</td>\n",
       "      <td>경제</td>\n",
       "    </tr>\n",
       "    <tr>\n",
       "      <th>2</th>\n",
       "      <td>티웨이항공 여객기, 착륙 중 새와 충돌…\"인명피해 없어\"</td>\n",
       "      <td>경제</td>\n",
       "    </tr>\n",
       "    <tr>\n",
       "      <th>3</th>\n",
       "      <td>티웨이항공 여객기, 인천공항 착륙 중 조류 충돌</td>\n",
       "      <td>경제</td>\n",
       "    </tr>\n",
       "    <tr>\n",
       "      <th>4</th>\n",
       "      <td>티웨이항공 여객기, 인천공항 착륙 중 조류 충돌</td>\n",
       "      <td>경제</td>\n",
       "    </tr>\n",
       "    <tr>\n",
       "      <th>...</th>\n",
       "      <td>...</td>\n",
       "      <td>...</td>\n",
       "    </tr>\n",
       "    <tr>\n",
       "      <th>75</th>\n",
       "      <td>넥슨, '메이플스토리' 큐브 판매 중단 발표</td>\n",
       "      <td>IT/과학</td>\n",
       "    </tr>\n",
       "    <tr>\n",
       "      <th>76</th>\n",
       "      <td>유니티 슈퍼소닉, 신규 A</td>\n",
       "      <td>IT/과학</td>\n",
       "    </tr>\n",
       "    <tr>\n",
       "      <th>77</th>\n",
       "      <td>'물오른' T1 vs '확 바뀐' 젠지, 개막전 불꽃 대결 예고</td>\n",
       "      <td>IT/과학</td>\n",
       "    </tr>\n",
       "    <tr>\n",
       "      <th>78</th>\n",
       "      <td>'구글 연합군' 합류한 LG…\"TV·노트북·車, 모든 것을 하나로 연결\"</td>\n",
       "      <td>IT/과학</td>\n",
       "    </tr>\n",
       "    <tr>\n",
       "      <th>79</th>\n",
       "      <td>카카오엔터프라이즈, 토마토시스템과 대학 클라우드 전환 지원</td>\n",
       "      <td>IT/과학</td>\n",
       "    </tr>\n",
       "  </tbody>\n",
       "</table>\n",
       "<p>320 rows × 2 columns</p>\n",
       "</div>"
      ],
      "text/plain": [
       "                                        news   code\n",
       "0                   강원~울릉 연안여객선 이용객 7만여 명 감소     경제\n",
       "1           지난달 강원 고용률 0.8%p 상승…실업률 0.5%p 하락     경제\n",
       "2            티웨이항공 여객기, 착륙 중 새와 충돌…\"인명피해 없어\"     경제\n",
       "3                 티웨이항공 여객기, 인천공항 착륙 중 조류 충돌     경제\n",
       "4                 티웨이항공 여객기, 인천공항 착륙 중 조류 충돌     경제\n",
       "..                                       ...    ...\n",
       "75                  넥슨, '메이플스토리' 큐브 판매 중단 발표  IT/과학\n",
       "76                            유니티 슈퍼소닉, 신규 A  IT/과학\n",
       "77       '물오른' T1 vs '확 바뀐' 젠지, 개막전 불꽃 대결 예고  IT/과학\n",
       "78  '구글 연합군' 합류한 LG…\"TV·노트북·車, 모든 것을 하나로 연결\"  IT/과학\n",
       "79          카카오엔터프라이즈, 토마토시스템과 대학 클라우드 전환 지원  IT/과학\n",
       "\n",
       "[320 rows x 2 columns]"
      ]
     },
     "execution_count": 11,
     "metadata": {},
     "output_type": "execute_result"
    }
   ],
   "source": [
    "df"
   ]
  },
  {
   "cell_type": "code",
   "execution_count": 12,
   "id": "807a966e",
   "metadata": {},
   "outputs": [
    {
     "name": "stdout",
     "output_type": "stream",
     "text": [
      "/aiffel/aiffel/aiffel_quest/quest_240111/news_data.csv 파일 저장!\n"
     ]
    }
   ],
   "source": [
    "import os\n",
    "\n",
    "csv_path = os.getenv('HOME') + \"/aiffel/aiffel_quest/quest_240111/news_data.csv\"\n",
    "df.to_csv(csv_path, index=False)\n",
    "\n",
    "#파일이 있는지 없는지 확인 후 저장\n",
    "if os.path.exists(csv_path):\n",
    "    print('{} 파일 저장!'.format(csv_path))"
   ]
  },
  {
   "cell_type": "code",
   "execution_count": 13,
   "id": "f1498e73",
   "metadata": {},
   "outputs": [
    {
     "data": {
      "text/html": [
       "<div>\n",
       "<style scoped>\n",
       "    .dataframe tbody tr th:only-of-type {\n",
       "        vertical-align: middle;\n",
       "    }\n",
       "\n",
       "    .dataframe tbody tr th {\n",
       "        vertical-align: top;\n",
       "    }\n",
       "\n",
       "    .dataframe thead th {\n",
       "        text-align: right;\n",
       "    }\n",
       "</style>\n",
       "<table border=\"1\" class=\"dataframe\">\n",
       "  <thead>\n",
       "    <tr style=\"text-align: right;\">\n",
       "      <th></th>\n",
       "      <th>news</th>\n",
       "      <th>code</th>\n",
       "    </tr>\n",
       "  </thead>\n",
       "  <tbody>\n",
       "    <tr>\n",
       "      <th>0</th>\n",
       "      <td>강원~울릉 연안여객선 이용객 7만여 명 감소</td>\n",
       "      <td>경제</td>\n",
       "    </tr>\n",
       "    <tr>\n",
       "      <th>1</th>\n",
       "      <td>지난달 강원 고용률 0.8%p 상승…실업률 0.5%p 하락</td>\n",
       "      <td>경제</td>\n",
       "    </tr>\n",
       "    <tr>\n",
       "      <th>2</th>\n",
       "      <td>티웨이항공 여객기, 착륙 중 새와 충돌…\"인명피해 없어\"</td>\n",
       "      <td>경제</td>\n",
       "    </tr>\n",
       "    <tr>\n",
       "      <th>3</th>\n",
       "      <td>티웨이항공 여객기, 인천공항 착륙 중 조류 충돌</td>\n",
       "      <td>경제</td>\n",
       "    </tr>\n",
       "    <tr>\n",
       "      <th>4</th>\n",
       "      <td>티웨이항공 여객기, 인천공항 착륙 중 조류 충돌</td>\n",
       "      <td>경제</td>\n",
       "    </tr>\n",
       "    <tr>\n",
       "      <th>...</th>\n",
       "      <td>...</td>\n",
       "      <td>...</td>\n",
       "    </tr>\n",
       "    <tr>\n",
       "      <th>315</th>\n",
       "      <td>넥슨, '메이플스토리' 큐브 판매 중단 발표</td>\n",
       "      <td>IT/과학</td>\n",
       "    </tr>\n",
       "    <tr>\n",
       "      <th>316</th>\n",
       "      <td>유니티 슈퍼소닉, 신규 A</td>\n",
       "      <td>IT/과학</td>\n",
       "    </tr>\n",
       "    <tr>\n",
       "      <th>317</th>\n",
       "      <td>'물오른' T1 vs '확 바뀐' 젠지, 개막전 불꽃 대결 예고</td>\n",
       "      <td>IT/과학</td>\n",
       "    </tr>\n",
       "    <tr>\n",
       "      <th>318</th>\n",
       "      <td>'구글 연합군' 합류한 LG…\"TV·노트북·車, 모든 것을 하나로 연결\"</td>\n",
       "      <td>IT/과학</td>\n",
       "    </tr>\n",
       "    <tr>\n",
       "      <th>319</th>\n",
       "      <td>카카오엔터프라이즈, 토마토시스템과 대학 클라우드 전환 지원</td>\n",
       "      <td>IT/과학</td>\n",
       "    </tr>\n",
       "  </tbody>\n",
       "</table>\n",
       "<p>320 rows × 2 columns</p>\n",
       "</div>"
      ],
      "text/plain": [
       "                                         news   code\n",
       "0                    강원~울릉 연안여객선 이용객 7만여 명 감소     경제\n",
       "1            지난달 강원 고용률 0.8%p 상승…실업률 0.5%p 하락     경제\n",
       "2             티웨이항공 여객기, 착륙 중 새와 충돌…\"인명피해 없어\"     경제\n",
       "3                  티웨이항공 여객기, 인천공항 착륙 중 조류 충돌     경제\n",
       "4                  티웨이항공 여객기, 인천공항 착륙 중 조류 충돌     경제\n",
       "..                                        ...    ...\n",
       "315                  넥슨, '메이플스토리' 큐브 판매 중단 발표  IT/과학\n",
       "316                            유니티 슈퍼소닉, 신규 A  IT/과학\n",
       "317       '물오른' T1 vs '확 바뀐' 젠지, 개막전 불꽃 대결 예고  IT/과학\n",
       "318  '구글 연합군' 합류한 LG…\"TV·노트북·車, 모든 것을 하나로 연결\"  IT/과학\n",
       "319          카카오엔터프라이즈, 토마토시스템과 대학 클라우드 전환 지원  IT/과학\n",
       "\n",
       "[320 rows x 2 columns]"
      ]
     },
     "execution_count": 13,
     "metadata": {},
     "output_type": "execute_result"
    }
   ],
   "source": [
    "df = pd.read_csv(csv_path)\n",
    "df"
   ]
  },
  {
   "cell_type": "code",
   "execution_count": 14,
   "id": "9c5c02dd",
   "metadata": {},
   "outputs": [
    {
     "name": "stderr",
     "output_type": "stream",
     "text": [
      "/tmp/ipykernel_221/4053481844.py:3: FutureWarning: The default value of regex will change from True to False in a future version.\n",
      "  df['news'] = df['news'].str.replace(\"[^ㄱ-ㅎㅏ-ㅣ가-힣 ]\",\"\")\n"
     ]
    },
    {
     "data": {
      "text/plain": [
       "0               강원울릉 연안여객선 이용객 만여 명 감소\n",
       "1                지난달 강원 고용률  상승실업률  하락\n",
       "2          티웨이항공 여객기 착륙 중 새와 충돌인명피해 없어\n",
       "3            티웨이항공 여객기 인천공항 착륙 중 조류 충돌\n",
       "4            티웨이항공 여객기 인천공항 착륙 중 조류 충돌\n",
       "                    ...               \n",
       "315              넥슨 메이플스토리 큐브 판매 중단 발표\n",
       "316                       유니티 슈퍼소닉 신규 \n",
       "317         물오른   확 바뀐 젠지 개막전 불꽃 대결 예고\n",
       "318        구글 연합군 합류한 노트북 모든 것을 하나로 연결\n",
       "319    카카오엔터프라이즈 토마토시스템과 대학 클라우드 전환 지원\n",
       "Name: news, Length: 320, dtype: object"
      ]
     },
     "execution_count": 14,
     "metadata": {},
     "output_type": "execute_result"
    }
   ],
   "source": [
    "# 정규 표현식을 이용해서 한글 외의 문서는 전부 제거\n",
    "\n",
    "df['news'] = df['news'].str.replace(\"[^ㄱ-ㅎㅏ-ㅣ가-힣 ]\",\"\")\n",
    "df['news']"
   ]
  },
  {
   "cell_type": "code",
   "execution_count": 16,
   "id": "09723277",
   "metadata": {},
   "outputs": [
    {
     "name": "stdout",
     "output_type": "stream",
     "text": [
      "news    0\n",
      "code    0\n",
      "dtype: int64\n"
     ]
    }
   ],
   "source": [
    "# 빈값 확인\n",
    "print(df.isnull().sum())"
   ]
  },
  {
   "cell_type": "code",
   "execution_count": 17,
   "id": "7f35d74a",
   "metadata": {},
   "outputs": [
    {
     "name": "stdout",
     "output_type": "stream",
     "text": [
      "뉴스 기사의 개수:  305\n"
     ]
    }
   ],
   "source": [
    "#중복 제거\n",
    "df.drop_duplicates(subset=['news'], inplace=True)\n",
    "\n",
    "print('뉴스 기사의 개수: ', len(df))"
   ]
  },
  {
   "cell_type": "code",
   "execution_count": 18,
   "id": "3aec5650",
   "metadata": {},
   "outputs": [
    {
     "data": {
      "text/plain": [
       "<AxesSubplot:>"
      ]
     },
     "execution_count": 18,
     "metadata": {},
     "output_type": "execute_result"
    },
    {
     "data": {
      "image/png": "[encoded data removed]",
      "text/plain": [
       "<Figure size 432x288 with 1 Axes>"
      ]
     },
     "metadata": {
      "needs_background": "light"
     },
     "output_type": "display_data"
    }
   ],
   "source": [
    "import matplotlib.pyplot as plt\n",
    "plt.rcParams[\"font.family\"] = \"NanumGothic\"\n",
    "\n",
    "df['code'].value_counts().plot(kind = 'bar')"
   ]
  },
  {
   "cell_type": "code",
   "execution_count": 19,
   "id": "3f313428",
   "metadata": {},
   "outputs": [
    {
     "name": "stdout",
     "output_type": "stream",
     "text": [
      "    code  count\n",
      "0  IT/과학     78\n",
      "1     경제     77\n",
      "2     사회     72\n",
      "3  생활/문화     78\n"
     ]
    }
   ],
   "source": [
    "print(df.groupby('code').size().reset_index(name='count'))"
   ]
  },
  {
   "cell_type": "code",
   "execution_count": 20,
   "id": "0d954cbd",
   "metadata": {},
   "outputs": [],
   "source": [
    "import pandas as pd\n",
    "from konlpy.tag import Mecab\n",
    "\n",
    "# Mecab 객체 생성\n",
    "tokenizer = Mecab()\n",
    "\n",
    "def preprocessing_t(data):\n",
    "    text_data = []\n",
    "\n",
    "    for sentence in data:\n",
    "        #- 토큰화\n",
    "        temp_data = tokenizer.morphs(sentence) \n",
    "        text_data.append(temp_data)\n",
    "\n",
    "    text_data = list(map(' '.join, text_data))\n",
    "\n",
    "    return text_data"
   ]
  },
  {
   "cell_type": "code",
   "execution_count": 22,
   "id": "2d78a68a",
   "metadata": {},
   "outputs": [],
   "source": [
    "text_data = preprocessing_t(df['news'])"
   ]
  },
  {
   "cell_type": "code",
   "execution_count": 23,
   "id": "dfe669eb",
   "metadata": {},
   "outputs": [],
   "source": [
    "from sklearn.model_selection import train_test_split\n",
    "from sklearn.feature_extraction.text import CountVectorizer\n",
    "from sklearn.feature_extraction.text import TfidfTransformer\n",
    "from sklearn.naive_bayes import MultinomialNB\n",
    "from sklearn import metrics"
   ]
  },
  {
   "cell_type": "code",
   "execution_count": 24,
   "id": "2edbd34b",
   "metadata": {},
   "outputs": [],
   "source": [
    "#- 훈련 데이터와 테스트 데이터를 분리합니다.\n",
    "X_train, X_test, y_train, y_test = train_test_split(text_data, df['code'], random_state = 2)"
   ]
  },
  {
   "cell_type": "code",
   "execution_count": 25,
   "id": "08d5ac0c",
   "metadata": {},
   "outputs": [
    {
     "name": "stdout",
     "output_type": "stream",
     "text": [
      "훈련용 뉴스 기사의 개수 : 228\n",
      "테스트용 뉴스 기사의 개수 :  77\n",
      "훈련용 레이블의 개수 :  228\n",
      "테스트용 레이블의 개수 :  77\n"
     ]
    }
   ],
   "source": [
    "print('훈련용 뉴스 기사의 개수 :', len(X_train))\n",
    "print('테스트용 뉴스 기사의 개수 : ', len(X_test))\n",
    "print('훈련용 레이블의 개수 : ', len(y_train))\n",
    "print('테스트용 레이블의 개수 : ', len(y_test))"
   ]
  },
  {
   "cell_type": "code",
   "execution_count": 26,
   "id": "6f357223",
   "metadata": {},
   "outputs": [],
   "source": [
    "#- 단어의 수를 카운트하는 사이킷런의 카운트벡터라이저입니다.\n",
    "count_vect = CountVectorizer()\n",
    "X_train_counts = count_vect.fit_transform(X_train)\n",
    "\n",
    "#- 카운트벡터라이저의 결과로부터 TF-IDF 결과를 얻습니다.\n",
    "tfidf_transformer = TfidfTransformer()\n",
    "X_train_tfidf = tfidf_transformer.fit_transform(X_train_counts)\n",
    "\n",
    "#- 나이브 베이즈 분류기를 수행합니다.\n",
    "#- X_train은 TF-IDF 벡터, y_train은 레이블입니다.\n",
    "clf = MultinomialNB().fit(X_train_tfidf, y_train)"
   ]
  },
  {
   "cell_type": "code",
   "execution_count": 27,
   "id": "3b83cc38",
   "metadata": {},
   "outputs": [],
   "source": [
    "def tfidf_vectorizer(data):\n",
    "    data_counts = count_vect.transform(data)\n",
    "    data_tfidf = tfidf_transformer.transform(data_counts)\n",
    "    return data_tfidf"
   ]
  },
  {
   "cell_type": "code",
   "execution_count": 29,
   "id": "e0dd6d94",
   "metadata": {},
   "outputs": [
    {
     "name": "stdout",
     "output_type": "stream",
     "text": [
      "['경제']\n"
     ]
    }
   ],
   "source": [
    "new_sent = preprocessing_t([\"민주당 일각에서 법사위의 체계·자구 심사 기능을 없애야 한다는 \\\n",
    "                           주장이 나오는 데 대해 “체계·자구 심사가 법안 지연의 수단으로 \\\n",
    "                          쓰이는 것은 바람직하지 않다”면서도 “국회를 통과하는 법안 중 위헌\\\n",
    "                          법률이 1년에 10건 넘게 나온다. 그런데 체계·자구 심사까지 없애면 매우 위험하다”고 반박했다.\"])\n",
    "print(clf.predict(tfidf_vectorizer(new_sent)))"
   ]
  },
  {
   "cell_type": "code",
   "execution_count": 30,
   "id": "5fa464cc",
   "metadata": {},
   "outputs": [
    {
     "name": "stdout",
     "output_type": "stream",
     "text": [
      "['사회']\n"
     ]
    }
   ],
   "source": [
    "new_sent = preprocessing_t([\"인도 로맨틱 코미디 영화 <까립까립 싱글>(2017)을 봤을 때 나는 두 눈을 의심했다. \\\n",
    "                          저 사람이 남자 주인공이라고? 노안에 가까운 이목구비와 기름때로 뭉친 파마머리와, \\\n",
    "                          대충 툭툭 던지는 말투 등 전혀 로맨틱하지 않은 외모였다. 반감이 일면서 \\\n",
    "                          ‘난 외모지상주의자가 아니다’라고 자부했던 나에 대해 회의가 들었다.\\\n",
    "                           티브이를 꺼버릴까? 다른 걸 볼까? 그런데, 이상하다. 왜 이렇게 매력 있지? 개구리와\\\n",
    "                            같이 툭 불거진 눈망울 안에는 어떤 인도 배우에게서도 느끼지 못한 \\\n",
    "                            부드러움과 선량함, 무엇보다 슬픔이 있었다. 2시간 뒤 영화가 끝나고 나는 완전히 이 배우에게 빠졌다\"])\n",
    "print(clf.predict(tfidf_vectorizer(new_sent)))"
   ]
  },
  {
   "cell_type": "code",
   "execution_count": 31,
   "id": "84ca8231",
   "metadata": {},
   "outputs": [
    {
     "name": "stdout",
     "output_type": "stream",
     "text": [
      "['IT/과학']\n"
     ]
    }
   ],
   "source": [
    "new_sent = preprocessing_t([\"20분기 연속으로 적자에 시달리는 LG전자가 브랜드 이름부터 성능, 디자인까지 대대적인 변화를 \\\n",
    "                          적용한 LG 벨벳은 등장 전부터 온라인 커뮤니티를 뜨겁게 달궜다. 사용자들은 “디자인이 예쁘다”, \\\n",
    "                          “슬림하다”는 반응을 보이며 LG 벨벳에 대한 기대감을 드러냈다.\"])\n",
    "print(clf.predict(tfidf_vectorizer(new_sent)))"
   ]
  },
  {
   "cell_type": "code",
   "execution_count": 32,
   "id": "71f4f870",
   "metadata": {},
   "outputs": [
    {
     "name": "stdout",
     "output_type": "stream",
     "text": [
      "              precision    recall  f1-score   support\n",
      "\n",
      "       IT/과학       0.48      0.58      0.52        19\n",
      "          경제       0.27      0.44      0.33        16\n",
      "          사회       0.62      0.47      0.53        17\n",
      "       생활/문화       0.73      0.44      0.55        25\n",
      "\n",
      "    accuracy                           0.48        77\n",
      "   macro avg       0.52      0.48      0.49        77\n",
      "weighted avg       0.55      0.48      0.49        77\n",
      "\n"
     ]
    }
   ],
   "source": [
    "y_pred = clf.predict(tfidf_vectorizer(X_test))\n",
    "print(metrics.classification_report(y_test, y_pred))"
   ]
  },
  {
   "cell_type": "markdown",
   "id": "c6b69d46",
   "metadata": {},
   "source": [
    "## 불용어 추가하여 f1-score 확인"
   ]
  },
  {
   "cell_type": "code",
   "execution_count": 33,
   "id": "869a9972",
   "metadata": {},
   "outputs": [
    {
     "name": "stdout",
     "output_type": "stream",
     "text": [
      "78\n"
     ]
    }
   ],
   "source": [
    "stopwords = [\"은\", \"는\", \"이\", \"가\", \"을\", \"를\", \"에\", \"의\", \"와\", \"과\", \"도\", \"로\", \"으로\", \"에서\", \"에게\", \"께\", \"한테\", \"랑\", \"부터\", \"까지\", \"마다\", \"대로\", \"쯤\", \"만큼\", \"처럼\", \"같이\",\"그리고\", \"그러나\", \"하지만\", \"그런데\", \"따라서\", \"또는\", \"또\", \"그래서\", \"하지만\", \"왜냐하면\",\n",
    "            \"있는\", \"있습니다\", \"하는\", \"합니다\", \"된\", \"됩니다\", \"했습니다\", \"하기\", \"해야\", \"될\", \"됨\", \"됐다\", \"했다\", \"이다\", \"이었다\", \"있다\", \"있었다\", \"있을\", \"있음\", \"있게\", \"되다\", \"되었다\", \"되어\", \"되어서\", \"되게\", \"하다\", \"하게\", \"하고\", \"하며\", \"하\",\n",
    "            \"아\", \"어\", \"우\", \"으\", \"오\", \"이\", \"헉\", \"헐\", \"와\", \"우와\", \"오오\", \"아아\"]\n",
    "print(len(stopwords))"
   ]
  },
  {
   "cell_type": "code",
   "execution_count": 34,
   "id": "927387d3",
   "metadata": {},
   "outputs": [],
   "source": [
    "# 토큰화 및 토큰화 과정에서 불용어를 제거하는 함수입니다.\n",
    "def preprocessing(data):\n",
    "    text_data = []\n",
    "\n",
    "    for sentence in data:\n",
    "        temp_data = []\n",
    "        #- 토큰화\n",
    "        temp_data = tokenizer.morphs(sentence) \n",
    "        #- 불용어 제거\n",
    "        temp_data = [word for word in temp_data if not word in stopwords] \n",
    "        text_data.append(temp_data)\n",
    "\n",
    "    text_data = list(map(' '.join, text_data))\n",
    "\n",
    "    return text_data"
   ]
  },
  {
   "cell_type": "code",
   "execution_count": 35,
   "id": "6f863feb",
   "metadata": {},
   "outputs": [
    {
     "name": "stdout",
     "output_type": "stream",
     "text": [
      "강원 울릉 연안 여객선 이용객 만 여 명 감소\n"
     ]
    }
   ],
   "source": [
    "text_data = preprocessing(df['news'])\n",
    "print(text_data[0])"
   ]
  },
  {
   "cell_type": "code",
   "execution_count": 36,
   "id": "18ba6539",
   "metadata": {},
   "outputs": [],
   "source": [
    "#- 훈련 데이터와 테스트 데이터를 분리합니다.\n",
    "X_train, X_test, y_train, y_test = train_test_split(text_data, df['code'], random_state = 2)"
   ]
  },
  {
   "cell_type": "code",
   "execution_count": 37,
   "id": "a76daa65",
   "metadata": {},
   "outputs": [
    {
     "name": "stdout",
     "output_type": "stream",
     "text": [
      "훈련용 뉴스 기사의 개수 : 228\n",
      "테스트용 뉴스 기사의 개수 :  77\n",
      "훈련용 레이블의 개수 :  228\n",
      "테스트용 레이블의 개수 :  77\n"
     ]
    }
   ],
   "source": [
    "print('훈련용 뉴스 기사의 개수 :', len(X_train))\n",
    "print('테스트용 뉴스 기사의 개수 : ', len(X_test))\n",
    "print('훈련용 레이블의 개수 : ', len(y_train))\n",
    "print('테스트용 레이블의 개수 : ', len(y_test))"
   ]
  },
  {
   "cell_type": "code",
   "execution_count": 38,
   "id": "4c0ebdea",
   "metadata": {},
   "outputs": [],
   "source": [
    "#- 단어의 수를 카운트하는 사이킷런의 카운트벡터라이저입니다.\n",
    "count_vect = CountVectorizer()\n",
    "X_train_counts = count_vect.fit_transform(X_train)\n",
    "\n",
    "#- 카운트벡터라이저의 결과로부터 TF-IDF 결과를 얻습니다.\n",
    "tfidf_transformer = TfidfTransformer()\n",
    "X_train_tfidf = tfidf_transformer.fit_transform(X_train_counts)\n",
    "\n",
    "#- 나이브 베이즈 분류기를 수행합니다.\n",
    "#- X_train은 TF-IDF 벡터, y_train은 레이블입니다.\n",
    "clf = MultinomialNB().fit(X_train_tfidf, y_train)"
   ]
  },
  {
   "cell_type": "code",
   "execution_count": 39,
   "id": "0b1c829d",
   "metadata": {},
   "outputs": [],
   "source": [
    "def tfidf_vectorizer(data):\n",
    "    data_counts = count_vect.transform(data)\n",
    "    data_tfidf = tfidf_transformer.transform(data_counts)\n",
    "    return data_tfidf"
   ]
  },
  {
   "cell_type": "code",
   "execution_count": 40,
   "id": "4daaed92",
   "metadata": {},
   "outputs": [
    {
     "name": "stdout",
     "output_type": "stream",
     "text": [
      "              precision    recall  f1-score   support\n",
      "\n",
      "       IT/과학       0.48      0.58      0.52        19\n",
      "          경제       0.24      0.38      0.29        16\n",
      "          사회       0.64      0.53      0.58        17\n",
      "       생활/문화       0.73      0.44      0.55        25\n",
      "\n",
      "    accuracy                           0.48        77\n",
      "   macro avg       0.52      0.48      0.49        77\n",
      "weighted avg       0.55      0.48      0.50        77\n",
      "\n"
     ]
    }
   ],
   "source": [
    "#불용어 추가했을 때\n",
    "y_pred = clf.predict(tfidf_vectorizer(X_test))\n",
    "print(metrics.classification_report(y_test, y_pred))"
   ]
  },
  {
   "cell_type": "markdown",
   "id": "9f736ebe",
   "metadata": {},
   "source": [
    "## 다른 날짜 추가  및 불용어 추가 하여 f1-score 확인"
   ]
  },
  {
   "cell_type": "code",
   "execution_count": 41,
   "id": "b808ff30",
   "metadata": {},
   "outputs": [
    {
     "name": "stdout",
     "output_type": "stream",
     "text": [
      "101번 코드에 데이터를 만들었습니다.\n",
      "102번 코드에 데이터를 만들었습니다.\n",
      "103번 코드에 데이터를 만들었습니다.\n",
      "105번 코드에 데이터를 만들었습니다.\n"
     ]
    }
   ],
   "source": [
    "# 다른 날짜 추가\n",
    "df_temp = make_total_data(4, code_list, 20240109)\n",
    "df = pd.concat([df, df_temp])"
   ]
  },
  {
   "cell_type": "code",
   "execution_count": 42,
   "id": "0abd64a0",
   "metadata": {},
   "outputs": [
    {
     "data": {
      "text/html": [
       "<div>\n",
       "<style scoped>\n",
       "    .dataframe tbody tr th:only-of-type {\n",
       "        vertical-align: middle;\n",
       "    }\n",
       "\n",
       "    .dataframe tbody tr th {\n",
       "        vertical-align: top;\n",
       "    }\n",
       "\n",
       "    .dataframe thead th {\n",
       "        text-align: right;\n",
       "    }\n",
       "</style>\n",
       "<table border=\"1\" class=\"dataframe\">\n",
       "  <thead>\n",
       "    <tr style=\"text-align: right;\">\n",
       "      <th></th>\n",
       "      <th>news</th>\n",
       "      <th>code</th>\n",
       "    </tr>\n",
       "  </thead>\n",
       "  <tbody>\n",
       "    <tr>\n",
       "      <th>0</th>\n",
       "      <td>강원울릉 연안여객선 이용객 만여 명 감소</td>\n",
       "      <td>경제</td>\n",
       "    </tr>\n",
       "    <tr>\n",
       "      <th>1</th>\n",
       "      <td>지난달 강원 고용률  상승실업률  하락</td>\n",
       "      <td>경제</td>\n",
       "    </tr>\n",
       "    <tr>\n",
       "      <th>2</th>\n",
       "      <td>티웨이항공 여객기 착륙 중 새와 충돌인명피해 없어</td>\n",
       "      <td>경제</td>\n",
       "    </tr>\n",
       "    <tr>\n",
       "      <th>3</th>\n",
       "      <td>티웨이항공 여객기 인천공항 착륙 중 조류 충돌</td>\n",
       "      <td>경제</td>\n",
       "    </tr>\n",
       "    <tr>\n",
       "      <th>5</th>\n",
       "      <td>뉴욕개장 인플레 지표실적 발표 기다리며 강보합세</td>\n",
       "      <td>경제</td>\n",
       "    </tr>\n",
       "    <tr>\n",
       "      <th>...</th>\n",
       "      <td>...</td>\n",
       "      <td>...</td>\n",
       "    </tr>\n",
       "    <tr>\n",
       "      <th>75</th>\n",
       "      <td>넥슨, '메이플스토리' 큐브 판매 중단…이용자 신뢰 회복 첫걸음</td>\n",
       "      <td>IT/과학</td>\n",
       "    </tr>\n",
       "    <tr>\n",
       "      <th>76</th>\n",
       "      <td>뉴빌리티-SK쉴더스, CES 2024서 AI CCTV 탑재 ‘순찰 로봇’ 소개</td>\n",
       "      <td>IT/과학</td>\n",
       "    </tr>\n",
       "    <tr>\n",
       "      <th>77</th>\n",
       "      <td>‘143억회 조회수’ 웹툰, 애니로 재탄생…세계가 기다린 ‘나혼렙’</td>\n",
       "      <td>IT/과학</td>\n",
       "    </tr>\n",
       "    <tr>\n",
       "      <th>78</th>\n",
       "      <td>이석배 대표 \"LK-99 보완한 물질 초전도 특성 확인했다\"</td>\n",
       "      <td>IT/과학</td>\n",
       "    </tr>\n",
       "    <tr>\n",
       "      <th>79</th>\n",
       "      <td>카카오엔터 CEO 사임설에 사측 \"확정된 바 없다\"</td>\n",
       "      <td>IT/과학</td>\n",
       "    </tr>\n",
       "  </tbody>\n",
       "</table>\n",
       "<p>625 rows × 2 columns</p>\n",
       "</div>"
      ],
      "text/plain": [
       "                                           news   code\n",
       "0                        강원울릉 연안여객선 이용객 만여 명 감소     경제\n",
       "1                         지난달 강원 고용률  상승실업률  하락     경제\n",
       "2                   티웨이항공 여객기 착륙 중 새와 충돌인명피해 없어     경제\n",
       "3                     티웨이항공 여객기 인천공항 착륙 중 조류 충돌     경제\n",
       "5                    뉴욕개장 인플레 지표실적 발표 기다리며 강보합세     경제\n",
       "..                                          ...    ...\n",
       "75          넥슨, '메이플스토리' 큐브 판매 중단…이용자 신뢰 회복 첫걸음  IT/과학\n",
       "76  뉴빌리티-SK쉴더스, CES 2024서 AI CCTV 탑재 ‘순찰 로봇’ 소개  IT/과학\n",
       "77        ‘143억회 조회수’ 웹툰, 애니로 재탄생…세계가 기다린 ‘나혼렙’  IT/과학\n",
       "78            이석배 대표 \"LK-99 보완한 물질 초전도 특성 확인했다\"  IT/과학\n",
       "79                 카카오엔터 CEO 사임설에 사측 \"확정된 바 없다\"  IT/과학\n",
       "\n",
       "[625 rows x 2 columns]"
      ]
     },
     "execution_count": 42,
     "metadata": {},
     "output_type": "execute_result"
    }
   ],
   "source": [
    "df"
   ]
  },
  {
   "cell_type": "code",
   "execution_count": 43,
   "id": "2d149d95",
   "metadata": {},
   "outputs": [
    {
     "name": "stdout",
     "output_type": "stream",
     "text": [
      "뉴스 기사의 개수:  597\n"
     ]
    }
   ],
   "source": [
    "df.drop_duplicates(subset=['news'], inplace=True)\n",
    "\n",
    "print('뉴스 기사의 개수: ', len(df))"
   ]
  },
  {
   "cell_type": "code",
   "execution_count": 44,
   "id": "27a6c64b",
   "metadata": {},
   "outputs": [
    {
     "name": "stdout",
     "output_type": "stream",
     "text": [
      "강원 울릉 연안 여객선 이용객 만 여 명 감소\n"
     ]
    }
   ],
   "source": [
    "text_data = preprocessing(df['news'])\n",
    "print(text_data[0])"
   ]
  },
  {
   "cell_type": "code",
   "execution_count": 45,
   "id": "bf203d4f",
   "metadata": {},
   "outputs": [],
   "source": [
    "#- 훈련 데이터와 테스트 데이터를 분리합니다.\n",
    "X_train, X_test, y_train, y_test = train_test_split(text_data, df['code'], random_state = 2)"
   ]
  },
  {
   "cell_type": "code",
   "execution_count": 46,
   "id": "b2318a21",
   "metadata": {},
   "outputs": [
    {
     "name": "stdout",
     "output_type": "stream",
     "text": [
      "훈련용 뉴스 기사의 개수 : 447\n",
      "테스트용 뉴스 기사의 개수 :  150\n",
      "훈련용 레이블의 개수 :  447\n",
      "테스트용 레이블의 개수 :  150\n"
     ]
    }
   ],
   "source": [
    "print('훈련용 뉴스 기사의 개수 :', len(X_train))\n",
    "print('테스트용 뉴스 기사의 개수 : ', len(X_test))\n",
    "print('훈련용 레이블의 개수 : ', len(y_train))\n",
    "print('테스트용 레이블의 개수 : ', len(y_test))"
   ]
  },
  {
   "cell_type": "code",
   "execution_count": 47,
   "id": "94d1a5bf",
   "metadata": {},
   "outputs": [],
   "source": [
    "#- 단어의 수를 카운트하는 사이킷런의 카운트벡터라이저입니다.\n",
    "count_vect = CountVectorizer()\n",
    "X_train_counts = count_vect.fit_transform(X_train)\n",
    "\n",
    "#- 카운트벡터라이저의 결과로부터 TF-IDF 결과를 얻습니다.\n",
    "tfidf_transformer = TfidfTransformer()\n",
    "X_train_tfidf = tfidf_transformer.fit_transform(X_train_counts)\n",
    "\n",
    "#- 나이브 베이즈 분류기를 수행합니다.\n",
    "#- X_train은 TF-IDF 벡터, y_train은 레이블입니다.\n",
    "clf = MultinomialNB().fit(X_train_tfidf, y_train)"
   ]
  },
  {
   "cell_type": "code",
   "execution_count": 48,
   "id": "d3d99194",
   "metadata": {},
   "outputs": [],
   "source": [
    "def tfidf_vectorizer(data):\n",
    "    data_counts = count_vect.transform(data)\n",
    "    data_tfidf = tfidf_transformer.transform(data_counts)\n",
    "    return data_tfidf"
   ]
  },
  {
   "cell_type": "code",
   "execution_count": 49,
   "id": "35119a2f",
   "metadata": {},
   "outputs": [
    {
     "name": "stdout",
     "output_type": "stream",
     "text": [
      "              precision    recall  f1-score   support\n",
      "\n",
      "       IT/과학       0.62      0.71      0.66        34\n",
      "          경제       0.44      0.76      0.56        34\n",
      "          사회       0.81      0.58      0.68        36\n",
      "       생활/문화       0.81      0.46      0.58        46\n",
      "\n",
      "    accuracy                           0.61       150\n",
      "   macro avg       0.67      0.63      0.62       150\n",
      "weighted avg       0.68      0.61      0.62       150\n",
      "\n"
     ]
    }
   ],
   "source": [
    "#불용어 추가했을 때\n",
    "y_pred = clf.predict(tfidf_vectorizer(X_test))\n",
    "print(metrics.classification_report(y_test, y_pred))"
   ]
  },
  {
   "cell_type": "markdown",
   "id": "c42c9be3",
   "metadata": {},
   "source": [
    "## 형태소 분석기 변경해서 성능분석"
   ]
  },
  {
   "cell_type": "code",
   "execution_count": null,
   "id": "8f4de2d8",
   "metadata": {},
   "outputs": [],
   "source": [
    "import time\n",
    "from konlpy.tag import Hannanum, Kkma, Komoran, Okt\n",
    "morphs_processors = [('Hannanm', Hannanum()), ('Kkma', Kkma()), ('Komoran', Komoran()), ('Okt', Okt())]\n",
    "\n",
    "sentences = '밤에 귀가하던 여성에게 범죄를 시도한 대 남성이 구속됐다서울 제주경찰서는 \\\n",
    "            상해 혐의로 씨를 구속해 수사하고 있다고 일 밝혔다씨는 지난달 일 피해 여성을 \\\n",
    "            인근 지하철 역에서부터 따라가 폭행을 시도하려다가 도망간 혐의를 받는다피해 \\\n",
    "            여성이 저항하자 놀란 씨는 도망갔으며 신고를 받고 주변을 수색하던 경찰에 \\\n",
    "            체포됐다피해 여성은 이 과정에서 경미한 부상을 입은 것으로 전해졌다'\n",
    "\n",
    "\n",
    "for name, morphs_processor in morphs_processors:\n",
    "    strat_time = time.time()\n",
    "    morphs = [morphs_processor.morphs(sentence) for sentence in sentences]                                          \n",
    "    elapsed_time = time.time() - strat_time\n",
    "    print('morphs_processor name = %20s, %.5f secs' % (name, elapsed_time))"
   ]
  },
  {
   "cell_type": "markdown",
   "id": "4225c21e",
   "metadata": {},
   "source": [
    "### 회고\n",
    "- 데이터가 늘어남에 따라서 f1 score는 좋아졌다.\n",
    "- 불용어까지 제거를 하니 더 늘어났다.\n",
    "- 뉴스기사 본문으로 하지 못해서 아쉬웠다.\n",
    "- 각 형태소 분석기 성능비교하는걸 하지 못했다.\n",
    "- 진행과정에서 헤매는 부분이 많아서 시간을 허비를 많이 했다.\n",
    "- 코드 작성에도 좀 더 생각해야겠다."
   ]
  },
  {
   "cell_type": "markdown",
   "id": "33b92bc5",
   "metadata": {},
   "source": []
  },
  {
   "cell_type": "code",
   "execution_count": null,
   "id": "148499d0",
   "metadata": {},
   "outputs": [],
   "source": []
  },
  {
   "cell_type": "code",
   "execution_count": null,
   "id": "734b6bd6",
   "metadata": {},
   "outputs": [],
   "source": []
  }
 ],
 "metadata": {
  "kernelspec": {
   "display_name": "Python 3 (ipykernel)",
   "language": "python",
   "name": "python3"
  },
  "language_info": {
   "codemirror_mode": {
    "name": "ipython",
    "version": 3
   },
   "file_extension": ".py",
   "mimetype": "text/x-python",
   "name": "python",
   "nbconvert_exporter": "python",
   "pygments_lexer": "ipython3",
   "version": "3.9.7"
  }
 },
 "nbformat": 4,
 "nbformat_minor": 5
}
