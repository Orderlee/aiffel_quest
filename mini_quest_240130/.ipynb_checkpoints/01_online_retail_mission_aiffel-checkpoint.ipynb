{
 "cells": [
  {
   "cell_type": "markdown",
   "id": "5cb5d73c",
   "metadata": {
    "id": "e291d328"
   },
   "source": [
    "## 라이브러리 로드"
   ]
  },
  {
   "cell_type": "code",
   "execution_count": 1,
   "id": "90cd39fb",
   "metadata": {
    "id": "e20112ed"
   },
   "outputs": [],
   "source": [
    "import pandas as pd\n",
    "import numpy as np\n",
    "import matplotlib.pyplot as plt\n",
    "import seaborn as sns"
   ]
  },
  {
   "cell_type": "code",
   "execution_count": 2,
   "id": "853995d4",
   "metadata": {
    "id": "4f082eeb"
   },
   "outputs": [],
   "source": [
    "# !pip install koreanize-matplotlib\n",
    "import koreanize_matplotlib\n",
    "\n",
    "%config InlineBackend.figure_format = 'retina'"
   ]
  },
  {
   "cell_type": "markdown",
   "id": "3d50910c",
   "metadata": {
    "id": "7ed3b0b0"
   },
   "source": [
    "## 데이터 로드\n",
    "* parquet 형식 로드를 위한 라이브러리가 설치되어 있어야 합니다."
   ]
  },
  {
   "cell_type": "code",
   "execution_count": 3,
   "id": "5d7fba3f",
   "metadata": {
    "colab": {
     "base_uri": "https://localhost:8080/"
    },
    "id": "c97514e9",
    "outputId": "644d664f-b989-4f04-fbbd-9ecc898c281d"
   },
   "outputs": [
    {
     "data": {
      "text/plain": [
       "(541909, 8)"
      ]
     },
     "execution_count": 3,
     "metadata": {},
     "output_type": "execute_result"
    }
   ],
   "source": [
    "df = pd.read_parquet(\"https://github.com/corazzon/KaggleStruggle/raw/master/online-retail/data/online_retail.gzip\")\n",
    "df.shape"
   ]
  },
  {
   "cell_type": "code",
   "execution_count": 4,
   "id": "7bc0dd70",
   "metadata": {
    "colab": {
     "base_uri": "https://localhost:8080/",
     "height": 504
    },
    "id": "d15eac16",
    "outputId": "dc876dbc-ca40-42e3-f9d9-5c8df347fa25"
   },
   "outputs": [
    {
     "data": {
      "text/html": [
       "<div>\n",
       "<style scoped>\n",
       "    .dataframe tbody tr th:only-of-type {\n",
       "        vertical-align: middle;\n",
       "    }\n",
       "\n",
       "    .dataframe tbody tr th {\n",
       "        vertical-align: top;\n",
       "    }\n",
       "\n",
       "    .dataframe thead th {\n",
       "        text-align: right;\n",
       "    }\n",
       "</style>\n",
       "<table border=\"1\" class=\"dataframe\">\n",
       "  <thead>\n",
       "    <tr style=\"text-align: right;\">\n",
       "      <th></th>\n",
       "      <th>InvoiceNo</th>\n",
       "      <th>StockCode</th>\n",
       "      <th>Description</th>\n",
       "      <th>Quantity</th>\n",
       "      <th>InvoiceDate</th>\n",
       "      <th>UnitPrice</th>\n",
       "      <th>CustomerID</th>\n",
       "      <th>Country</th>\n",
       "      <th>TotalPrice</th>\n",
       "    </tr>\n",
       "  </thead>\n",
       "  <tbody>\n",
       "    <tr>\n",
       "      <th>0</th>\n",
       "      <td>536365</td>\n",
       "      <td>85123A</td>\n",
       "      <td>WHITE HANGING HEART T-LIGHT HOLDER</td>\n",
       "      <td>6</td>\n",
       "      <td>2010-12-01 08:26:00</td>\n",
       "      <td>2.55</td>\n",
       "      <td>17850.0</td>\n",
       "      <td>United Kingdom</td>\n",
       "      <td>15.30</td>\n",
       "    </tr>\n",
       "    <tr>\n",
       "      <th>1</th>\n",
       "      <td>536365</td>\n",
       "      <td>71053</td>\n",
       "      <td>WHITE METAL LANTERN</td>\n",
       "      <td>6</td>\n",
       "      <td>2010-12-01 08:26:00</td>\n",
       "      <td>3.39</td>\n",
       "      <td>17850.0</td>\n",
       "      <td>United Kingdom</td>\n",
       "      <td>20.34</td>\n",
       "    </tr>\n",
       "    <tr>\n",
       "      <th>2</th>\n",
       "      <td>536365</td>\n",
       "      <td>84406B</td>\n",
       "      <td>CREAM CUPID HEARTS COAT HANGER</td>\n",
       "      <td>8</td>\n",
       "      <td>2010-12-01 08:26:00</td>\n",
       "      <td>2.75</td>\n",
       "      <td>17850.0</td>\n",
       "      <td>United Kingdom</td>\n",
       "      <td>22.00</td>\n",
       "    </tr>\n",
       "    <tr>\n",
       "      <th>3</th>\n",
       "      <td>536365</td>\n",
       "      <td>84029G</td>\n",
       "      <td>KNITTED UNION FLAG HOT WATER BOTTLE</td>\n",
       "      <td>6</td>\n",
       "      <td>2010-12-01 08:26:00</td>\n",
       "      <td>3.39</td>\n",
       "      <td>17850.0</td>\n",
       "      <td>United Kingdom</td>\n",
       "      <td>20.34</td>\n",
       "    </tr>\n",
       "    <tr>\n",
       "      <th>4</th>\n",
       "      <td>536365</td>\n",
       "      <td>84029E</td>\n",
       "      <td>RED WOOLLY HOTTIE WHITE HEART.</td>\n",
       "      <td>6</td>\n",
       "      <td>2010-12-01 08:26:00</td>\n",
       "      <td>3.39</td>\n",
       "      <td>17850.0</td>\n",
       "      <td>United Kingdom</td>\n",
       "      <td>20.34</td>\n",
       "    </tr>\n",
       "  </tbody>\n",
       "</table>\n",
       "</div>"
      ],
      "text/plain": [
       "  InvoiceNo StockCode                          Description  Quantity  \\\n",
       "0    536365    85123A   WHITE HANGING HEART T-LIGHT HOLDER         6   \n",
       "1    536365     71053                  WHITE METAL LANTERN         6   \n",
       "2    536365    84406B       CREAM CUPID HEARTS COAT HANGER         8   \n",
       "3    536365    84029G  KNITTED UNION FLAG HOT WATER BOTTLE         6   \n",
       "4    536365    84029E       RED WOOLLY HOTTIE WHITE HEART.         6   \n",
       "\n",
       "           InvoiceDate  UnitPrice  CustomerID         Country  TotalPrice  \n",
       "0  2010-12-01 08:26:00       2.55     17850.0  United Kingdom       15.30  \n",
       "1  2010-12-01 08:26:00       3.39     17850.0  United Kingdom       20.34  \n",
       "2  2010-12-01 08:26:00       2.75     17850.0  United Kingdom       22.00  \n",
       "3  2010-12-01 08:26:00       3.39     17850.0  United Kingdom       20.34  \n",
       "4  2010-12-01 08:26:00       3.39     17850.0  United Kingdom       20.34  "
      ]
     },
     "execution_count": 4,
     "metadata": {},
     "output_type": "execute_result"
    }
   ],
   "source": [
    "# 주문 가격\n",
    "df[\"TotalPrice\"] = df[\"Quantity\"] * df[\"UnitPrice\"]\n",
    "df.head()"
   ]
  },
  {
   "cell_type": "code",
   "execution_count": 5,
   "id": "4e9aa772",
   "metadata": {
    "colab": {
     "base_uri": "https://localhost:8080/"
    },
    "id": "5f288c34",
    "outputId": "a86a5356-aae8-4002-e1bc-73fd7389947e"
   },
   "outputs": [
    {
     "name": "stdout",
     "output_type": "stream",
     "text": [
      "<class 'pandas.core.frame.DataFrame'>\n",
      "RangeIndex: 541909 entries, 0 to 541908\n",
      "Data columns (total 9 columns):\n",
      " #   Column       Non-Null Count   Dtype   \n",
      "---  ------       --------------   -----   \n",
      " 0   InvoiceNo    541909 non-null  category\n",
      " 1   StockCode    541909 non-null  category\n",
      " 2   Description  540455 non-null  category\n",
      " 3   Quantity     541909 non-null  int32   \n",
      " 4   InvoiceDate  541909 non-null  category\n",
      " 5   UnitPrice    541909 non-null  float64 \n",
      " 6   CustomerID   406829 non-null  float32 \n",
      " 7   Country      541909 non-null  category\n",
      " 8   TotalPrice   541909 non-null  float64 \n",
      "dtypes: category(5), float32(1), float64(2), int32(1)\n",
      "memory usage: 19.3 MB\n"
     ]
    }
   ],
   "source": [
    "df.info()"
   ]
  },
  {
   "cell_type": "markdown",
   "id": "30b156b2",
   "metadata": {
    "id": "1a4839d1"
   },
   "source": [
    "## 미션 1) 모집단과 표본 추출을 하고 TotalPrice에 대해 비교해 주세요.\n",
    "데이터셋에서 무작위로 1000개의 표본을 추출하고, 추출된 표본과 전체 데이터셋의 'TotalPrice'에 대해 평균과 표준편차를 비교하세요. 이를 통해 모집단과 표본의 차이를 설명하고, 중심극한정리가 어떻게 적용되는지 설명하세요.\n",
    "\n",
    "* pandas 의 sample 을 활용할 수 있으며, pandas 의 기술 통계 기능을 활용해 볼 수 있습니다.\n",
    "* 참고 : 슬라이드에서 중심극한정리를 찾아보세요."
   ]
  },
  {
   "cell_type": "code",
   "execution_count": 6,
   "id": "7a364763",
   "metadata": {
    "colab": {
     "base_uri": "https://localhost:8080/"
    },
    "id": "BKpoVPCuRvHa",
    "outputId": "c7c830ed-f59c-4f8e-a27c-a89ca9bfc155"
   },
   "outputs": [
    {
     "data": {
      "text/plain": [
       "InvoiceNo           0\n",
       "StockCode           0\n",
       "Description      1454\n",
       "Quantity            0\n",
       "InvoiceDate         0\n",
       "UnitPrice           0\n",
       "CustomerID     135080\n",
       "Country             0\n",
       "TotalPrice          0\n",
       "dtype: int64"
      ]
     },
     "execution_count": 6,
     "metadata": {},
     "output_type": "execute_result"
    }
   ],
   "source": [
    "df.isnull().sum()"
   ]
  },
  {
   "cell_type": "code",
   "execution_count": 7,
   "id": "55f35637",
   "metadata": {
    "colab": {
     "base_uri": "https://localhost:8080/",
     "height": 300
    },
    "id": "vAgNuBRfrjlw",
    "outputId": "3ea1ce5d-14ce-4f95-bd94-1ff4b171c7e5"
   },
   "outputs": [
    {
     "data": {
      "text/html": [
       "<div>\n",
       "<style scoped>\n",
       "    .dataframe tbody tr th:only-of-type {\n",
       "        vertical-align: middle;\n",
       "    }\n",
       "\n",
       "    .dataframe tbody tr th {\n",
       "        vertical-align: top;\n",
       "    }\n",
       "\n",
       "    .dataframe thead th {\n",
       "        text-align: right;\n",
       "    }\n",
       "</style>\n",
       "<table border=\"1\" class=\"dataframe\">\n",
       "  <thead>\n",
       "    <tr style=\"text-align: right;\">\n",
       "      <th></th>\n",
       "      <th>Quantity</th>\n",
       "      <th>UnitPrice</th>\n",
       "      <th>CustomerID</th>\n",
       "      <th>TotalPrice</th>\n",
       "    </tr>\n",
       "  </thead>\n",
       "  <tbody>\n",
       "    <tr>\n",
       "      <th>count</th>\n",
       "      <td>541909.000000</td>\n",
       "      <td>541909.000000</td>\n",
       "      <td>406829.000000</td>\n",
       "      <td>541909.000000</td>\n",
       "    </tr>\n",
       "    <tr>\n",
       "      <th>mean</th>\n",
       "      <td>9.552250</td>\n",
       "      <td>4.611114</td>\n",
       "      <td>15287.689453</td>\n",
       "      <td>17.987795</td>\n",
       "    </tr>\n",
       "    <tr>\n",
       "      <th>std</th>\n",
       "      <td>218.081158</td>\n",
       "      <td>96.759853</td>\n",
       "      <td>1713.600342</td>\n",
       "      <td>378.810824</td>\n",
       "    </tr>\n",
       "    <tr>\n",
       "      <th>min</th>\n",
       "      <td>-80995.000000</td>\n",
       "      <td>-11062.060000</td>\n",
       "      <td>12346.000000</td>\n",
       "      <td>-168469.600000</td>\n",
       "    </tr>\n",
       "    <tr>\n",
       "      <th>25%</th>\n",
       "      <td>1.000000</td>\n",
       "      <td>1.250000</td>\n",
       "      <td>13953.000000</td>\n",
       "      <td>3.400000</td>\n",
       "    </tr>\n",
       "    <tr>\n",
       "      <th>50%</th>\n",
       "      <td>3.000000</td>\n",
       "      <td>2.080000</td>\n",
       "      <td>15152.000000</td>\n",
       "      <td>9.750000</td>\n",
       "    </tr>\n",
       "    <tr>\n",
       "      <th>75%</th>\n",
       "      <td>10.000000</td>\n",
       "      <td>4.130000</td>\n",
       "      <td>16791.000000</td>\n",
       "      <td>17.400000</td>\n",
       "    </tr>\n",
       "    <tr>\n",
       "      <th>max</th>\n",
       "      <td>80995.000000</td>\n",
       "      <td>38970.000000</td>\n",
       "      <td>18287.000000</td>\n",
       "      <td>168469.600000</td>\n",
       "    </tr>\n",
       "  </tbody>\n",
       "</table>\n",
       "</div>"
      ],
      "text/plain": [
       "            Quantity      UnitPrice     CustomerID     TotalPrice\n",
       "count  541909.000000  541909.000000  406829.000000  541909.000000\n",
       "mean        9.552250       4.611114   15287.689453      17.987795\n",
       "std       218.081158      96.759853    1713.600342     378.810824\n",
       "min    -80995.000000  -11062.060000   12346.000000 -168469.600000\n",
       "25%         1.000000       1.250000   13953.000000       3.400000\n",
       "50%         3.000000       2.080000   15152.000000       9.750000\n",
       "75%        10.000000       4.130000   16791.000000      17.400000\n",
       "max     80995.000000   38970.000000   18287.000000  168469.600000"
      ]
     },
     "execution_count": 7,
     "metadata": {},
     "output_type": "execute_result"
    }
   ],
   "source": [
    "df.describe()"
   ]
  },
  {
   "cell_type": "code",
   "execution_count": 8,
   "id": "0839c25e",
   "metadata": {
    "colab": {
     "base_uri": "https://localhost:8080/",
     "height": 429
    },
    "id": "BV5kU0-jVz8O",
    "outputId": "17037640-6720-4afc-b630-37f0fa83ebc5"
   },
   "outputs": [
    {
     "data": {
      "image/png": "[encoded data removed]",
      "text/plain": [
       "<Figure size 432x288 with 1 Axes>"
      ]
     },
     "metadata": {
      "image/png": {
       "height": 248,
       "width": 392
      },
      "needs_background": "light"
     },
     "output_type": "display_data"
    }
   ],
   "source": [
    "# 0 미만의 값이 있다는 것이 확인\n",
    "df['TotalPrice'].hist();"
   ]
  },
  {
   "cell_type": "code",
   "execution_count": 9,
   "id": "cd5b934c",
   "metadata": {},
   "outputs": [
    {
     "data": {
      "image/png": "[encoded data removed]",
      "text/plain": [
       "<Figure size 432x288 with 1 Axes>"
      ]
     },
     "metadata": {
      "image/png": {
       "height": 248,
       "width": 396
      },
      "needs_background": "light"
     },
     "output_type": "display_data"
    }
   ],
   "source": [
    "sns.boxplot(data=df['TotalPrice']);"
   ]
  },
  {
   "cell_type": "code",
   "execution_count": 10,
   "id": "48646948",
   "metadata": {},
   "outputs": [],
   "source": [
    "def remove_outliers(df, columns):\n",
    "    Q1 = df[columns].quantile(0.25)\n",
    "    Q3 = df[columns].quantile(0.75)\n",
    "    IQR = Q3 - Q1\n",
    "    lower_bound = Q1 - 1.5 * IQR\n",
    "    upper_bound = Q3 + 1.5 * IQR\n",
    "    return df[(df[columns] >= lower_bound) & (df[columns] <= upper_bound)]"
   ]
  },
  {
   "cell_type": "code",
   "execution_count": 11,
   "id": "f01c94fe",
   "metadata": {},
   "outputs": [
    {
     "data": {
      "text/plain": [
       "<AxesSubplot:>"
      ]
     },
     "execution_count": 11,
     "metadata": {},
     "output_type": "execute_result"
    },
    {
     "data": {
      "image/png": "[encoded data removed]",
      "text/plain": [
       "<Figure size 432x288 with 1 Axes>"
      ]
     },
     "metadata": {
      "image/png": {
       "height": 248,
       "width": 371
      },
      "needs_background": "light"
     },
     "output_type": "display_data"
    }
   ],
   "source": [
    "# 이상치 제거\n",
    "df_rm = remove_outliers(df, 'TotalPrice')\n",
    "\n",
    "\n",
    "sns.boxplot(data=df_rm['TotalPrice'])"
   ]
  },
  {
   "cell_type": "code",
   "execution_count": 12,
   "id": "cff93cbd",
   "metadata": {},
   "outputs": [
    {
     "data": {
      "image/png": "[encoded data removed]",
      "text/plain": [
       "<Figure size 432x288 with 1 Axes>"
      ]
     },
     "metadata": {
      "image/png": {
       "height": 248,
       "width": 392
      },
      "needs_background": "light"
     },
     "output_type": "display_data"
    }
   ],
   "source": [
    "df_rm['TotalPrice'].hist();"
   ]
  },
  {
   "cell_type": "code",
   "execution_count": 13,
   "id": "bb3db202",
   "metadata": {
    "colab": {
     "base_uri": "https://localhost:8080/",
     "height": 808
    },
    "id": "433bcfd1",
    "outputId": "96df19d6-abb4-4208-c247-aaf2e4d28faa"
   },
   "outputs": [
    {
     "data": {
      "text/html": [
       "<div>\n",
       "<style scoped>\n",
       "    .dataframe tbody tr th:only-of-type {\n",
       "        vertical-align: middle;\n",
       "    }\n",
       "\n",
       "    .dataframe tbody tr th {\n",
       "        vertical-align: top;\n",
       "    }\n",
       "\n",
       "    .dataframe thead th {\n",
       "        text-align: right;\n",
       "    }\n",
       "</style>\n",
       "<table border=\"1\" class=\"dataframe\">\n",
       "  <thead>\n",
       "    <tr style=\"text-align: right;\">\n",
       "      <th></th>\n",
       "      <th>InvoiceNo</th>\n",
       "      <th>StockCode</th>\n",
       "      <th>Description</th>\n",
       "      <th>Quantity</th>\n",
       "      <th>InvoiceDate</th>\n",
       "      <th>UnitPrice</th>\n",
       "      <th>CustomerID</th>\n",
       "      <th>Country</th>\n",
       "      <th>TotalPrice</th>\n",
       "    </tr>\n",
       "  </thead>\n",
       "  <tbody>\n",
       "    <tr>\n",
       "      <th>107592</th>\n",
       "      <td>545460</td>\n",
       "      <td>21468</td>\n",
       "      <td>BUTTERFLY CROCHET FOOD COVER</td>\n",
       "      <td>1</td>\n",
       "      <td>2011-03-02 17:33:00</td>\n",
       "      <td>3.75</td>\n",
       "      <td>13230.0</td>\n",
       "      <td>United Kingdom</td>\n",
       "      <td>3.75</td>\n",
       "    </tr>\n",
       "    <tr>\n",
       "      <th>244975</th>\n",
       "      <td>558564</td>\n",
       "      <td>23201</td>\n",
       "      <td>JUMBO BAG ALPHABET</td>\n",
       "      <td>6</td>\n",
       "      <td>2011-06-30 13:45:00</td>\n",
       "      <td>2.08</td>\n",
       "      <td>14057.0</td>\n",
       "      <td>United Kingdom</td>\n",
       "      <td>12.48</td>\n",
       "    </tr>\n",
       "    <tr>\n",
       "      <th>26323</th>\n",
       "      <td>538508</td>\n",
       "      <td>21807</td>\n",
       "      <td>WHITE CHRISTMAS STAR DECORATION</td>\n",
       "      <td>12</td>\n",
       "      <td>2010-12-12 13:32:00</td>\n",
       "      <td>0.42</td>\n",
       "      <td>15998.0</td>\n",
       "      <td>United Kingdom</td>\n",
       "      <td>5.04</td>\n",
       "    </tr>\n",
       "    <tr>\n",
       "      <th>309819</th>\n",
       "      <td>564141</td>\n",
       "      <td>23165</td>\n",
       "      <td>LARGE CERAMIC TOP STORAGE JAR</td>\n",
       "      <td>1</td>\n",
       "      <td>2011-08-23 11:47:00</td>\n",
       "      <td>1.65</td>\n",
       "      <td>17841.0</td>\n",
       "      <td>United Kingdom</td>\n",
       "      <td>1.65</td>\n",
       "    </tr>\n",
       "    <tr>\n",
       "      <th>245464</th>\n",
       "      <td>558614</td>\n",
       "      <td>84631</td>\n",
       "      <td>FRUIT TREE AND BIRDS WALL PLAQUE</td>\n",
       "      <td>2</td>\n",
       "      <td>2011-06-30 15:56:00</td>\n",
       "      <td>7.46</td>\n",
       "      <td>NaN</td>\n",
       "      <td>United Kingdom</td>\n",
       "      <td>14.92</td>\n",
       "    </tr>\n",
       "    <tr>\n",
       "      <th>...</th>\n",
       "      <td>...</td>\n",
       "      <td>...</td>\n",
       "      <td>...</td>\n",
       "      <td>...</td>\n",
       "      <td>...</td>\n",
       "      <td>...</td>\n",
       "      <td>...</td>\n",
       "      <td>...</td>\n",
       "      <td>...</td>\n",
       "    </tr>\n",
       "    <tr>\n",
       "      <th>185823</th>\n",
       "      <td>552826</td>\n",
       "      <td>22912</td>\n",
       "      <td>YELLOW COAT RACK PARIS FASHION</td>\n",
       "      <td>6</td>\n",
       "      <td>2011-05-11 13:20:00</td>\n",
       "      <td>4.95</td>\n",
       "      <td>14277.0</td>\n",
       "      <td>France</td>\n",
       "      <td>29.70</td>\n",
       "    </tr>\n",
       "    <tr>\n",
       "      <th>41797</th>\n",
       "      <td>539958</td>\n",
       "      <td>84659A</td>\n",
       "      <td>WHITE TRAVEL ALARM CLOCK</td>\n",
       "      <td>4</td>\n",
       "      <td>2010-12-23 13:26:00</td>\n",
       "      <td>2.51</td>\n",
       "      <td>NaN</td>\n",
       "      <td>United Kingdom</td>\n",
       "      <td>10.04</td>\n",
       "    </tr>\n",
       "    <tr>\n",
       "      <th>448607</th>\n",
       "      <td>575063</td>\n",
       "      <td>23243</td>\n",
       "      <td>SET OF TEA COFFEE SUGAR TINS PANTRY</td>\n",
       "      <td>1</td>\n",
       "      <td>2011-11-08 12:32:00</td>\n",
       "      <td>4.95</td>\n",
       "      <td>16764.0</td>\n",
       "      <td>United Kingdom</td>\n",
       "      <td>4.95</td>\n",
       "    </tr>\n",
       "    <tr>\n",
       "      <th>293600</th>\n",
       "      <td>562608</td>\n",
       "      <td>23172</td>\n",
       "      <td>REGENCY TEA PLATE PINK</td>\n",
       "      <td>12</td>\n",
       "      <td>2011-08-08 11:45:00</td>\n",
       "      <td>1.65</td>\n",
       "      <td>15502.0</td>\n",
       "      <td>United Kingdom</td>\n",
       "      <td>19.80</td>\n",
       "    </tr>\n",
       "    <tr>\n",
       "      <th>216905</th>\n",
       "      <td>555857</td>\n",
       "      <td>23309</td>\n",
       "      <td>SET OF 60 I LOVE LONDON CAKE CASES</td>\n",
       "      <td>5</td>\n",
       "      <td>2011-06-07 14:03:00</td>\n",
       "      <td>0.55</td>\n",
       "      <td>16393.0</td>\n",
       "      <td>United Kingdom</td>\n",
       "      <td>2.75</td>\n",
       "    </tr>\n",
       "  </tbody>\n",
       "</table>\n",
       "<p>1000 rows × 9 columns</p>\n",
       "</div>"
      ],
      "text/plain": [
       "       InvoiceNo StockCode                          Description  Quantity  \\\n",
       "107592    545460     21468         BUTTERFLY CROCHET FOOD COVER         1   \n",
       "244975    558564     23201                   JUMBO BAG ALPHABET         6   \n",
       "26323     538508     21807      WHITE CHRISTMAS STAR DECORATION        12   \n",
       "309819    564141     23165        LARGE CERAMIC TOP STORAGE JAR         1   \n",
       "245464    558614     84631     FRUIT TREE AND BIRDS WALL PLAQUE         2   \n",
       "...          ...       ...                                  ...       ...   \n",
       "185823    552826     22912       YELLOW COAT RACK PARIS FASHION         6   \n",
       "41797     539958    84659A             WHITE TRAVEL ALARM CLOCK         4   \n",
       "448607    575063     23243  SET OF TEA COFFEE SUGAR TINS PANTRY         1   \n",
       "293600    562608     23172               REGENCY TEA PLATE PINK        12   \n",
       "216905    555857     23309  SET OF 60 I LOVE LONDON CAKE CASES          5   \n",
       "\n",
       "                InvoiceDate  UnitPrice  CustomerID         Country  TotalPrice  \n",
       "107592  2011-03-02 17:33:00       3.75     13230.0  United Kingdom        3.75  \n",
       "244975  2011-06-30 13:45:00       2.08     14057.0  United Kingdom       12.48  \n",
       "26323   2010-12-12 13:32:00       0.42     15998.0  United Kingdom        5.04  \n",
       "309819  2011-08-23 11:47:00       1.65     17841.0  United Kingdom        1.65  \n",
       "245464  2011-06-30 15:56:00       7.46         NaN  United Kingdom       14.92  \n",
       "...                     ...        ...         ...             ...         ...  \n",
       "185823  2011-05-11 13:20:00       4.95     14277.0          France       29.70  \n",
       "41797   2010-12-23 13:26:00       2.51         NaN  United Kingdom       10.04  \n",
       "448607  2011-11-08 12:32:00       4.95     16764.0  United Kingdom        4.95  \n",
       "293600  2011-08-08 11:45:00       1.65     15502.0  United Kingdom       19.80  \n",
       "216905  2011-06-07 14:03:00       0.55     16393.0  United Kingdom        2.75  \n",
       "\n",
       "[1000 rows x 9 columns]"
      ]
     },
     "execution_count": 13,
     "metadata": {},
     "output_type": "execute_result"
    }
   ],
   "source": [
    "df_sample = df_rm.sample(n=1000, random_state=42)\n",
    "df_sample"
   ]
  },
  {
   "cell_type": "code",
   "execution_count": 14,
   "id": "f6a820e8",
   "metadata": {
    "colab": {
     "base_uri": "https://localhost:8080/"
    },
    "id": "cDCm0_6nOeHs",
    "outputId": "def0253f-f652-4822-fe3e-dec35634874f"
   },
   "outputs": [
    {
     "name": "stdout",
     "output_type": "stream",
     "text": [
      "<class 'pandas.core.frame.DataFrame'>\n",
      "Int64Index: 1000 entries, 107592 to 216905\n",
      "Data columns (total 9 columns):\n",
      " #   Column       Non-Null Count  Dtype   \n",
      "---  ------       --------------  -----   \n",
      " 0   InvoiceNo    1000 non-null   category\n",
      " 1   StockCode    1000 non-null   category\n",
      " 2   Description  998 non-null    category\n",
      " 3   Quantity     1000 non-null   int32   \n",
      " 4   InvoiceDate  1000 non-null   category\n",
      " 5   UnitPrice    1000 non-null   float64 \n",
      " 6   CustomerID   741 non-null    float32 \n",
      " 7   Country      1000 non-null   category\n",
      " 8   TotalPrice   1000 non-null   float64 \n",
      "dtypes: category(5), float32(1), float64(2), int32(1)\n",
      "memory usage: 2.2 MB\n"
     ]
    }
   ],
   "source": [
    "df_sample.info()"
   ]
  },
  {
   "cell_type": "code",
   "execution_count": 15,
   "id": "78a1006b",
   "metadata": {
    "colab": {
     "base_uri": "https://localhost:8080/",
     "height": 429
    },
    "id": "ScO18XKVRskr",
    "outputId": "f6233118-6f35-472c-97a4-ee930efcc834"
   },
   "outputs": [
    {
     "data": {
      "image/png": "[encoded data removed]",
      "text/plain": [
       "<Figure size 432x288 with 1 Axes>"
      ]
     },
     "metadata": {
      "image/png": {
       "height": 248,
       "width": 374
      },
      "needs_background": "light"
     },
     "output_type": "display_data"
    }
   ],
   "source": [
    "df_sample['TotalPrice'].hist();"
   ]
  },
  {
   "cell_type": "code",
   "execution_count": 16,
   "id": "a97c088e",
   "metadata": {},
   "outputs": [
    {
     "data": {
      "text/html": [
       "<div>\n",
       "<style scoped>\n",
       "    .dataframe tbody tr th:only-of-type {\n",
       "        vertical-align: middle;\n",
       "    }\n",
       "\n",
       "    .dataframe tbody tr th {\n",
       "        vertical-align: top;\n",
       "    }\n",
       "\n",
       "    .dataframe thead th {\n",
       "        text-align: right;\n",
       "    }\n",
       "</style>\n",
       "<table border=\"1\" class=\"dataframe\">\n",
       "  <thead>\n",
       "    <tr style=\"text-align: right;\">\n",
       "      <th></th>\n",
       "      <th>InvoiceNo</th>\n",
       "      <th>StockCode</th>\n",
       "      <th>Description</th>\n",
       "      <th>Quantity</th>\n",
       "      <th>InvoiceDate</th>\n",
       "      <th>UnitPrice</th>\n",
       "      <th>CustomerID</th>\n",
       "      <th>Country</th>\n",
       "      <th>TotalPrice</th>\n",
       "    </tr>\n",
       "  </thead>\n",
       "  <tbody>\n",
       "    <tr>\n",
       "      <th>107592</th>\n",
       "      <td>545460</td>\n",
       "      <td>21468</td>\n",
       "      <td>BUTTERFLY CROCHET FOOD COVER</td>\n",
       "      <td>1</td>\n",
       "      <td>2011-03-02 17:33:00</td>\n",
       "      <td>3.75</td>\n",
       "      <td>13230.0</td>\n",
       "      <td>United Kingdom</td>\n",
       "      <td>3.75</td>\n",
       "    </tr>\n",
       "    <tr>\n",
       "      <th>244975</th>\n",
       "      <td>558564</td>\n",
       "      <td>23201</td>\n",
       "      <td>JUMBO BAG ALPHABET</td>\n",
       "      <td>6</td>\n",
       "      <td>2011-06-30 13:45:00</td>\n",
       "      <td>2.08</td>\n",
       "      <td>14057.0</td>\n",
       "      <td>United Kingdom</td>\n",
       "      <td>12.48</td>\n",
       "    </tr>\n",
       "    <tr>\n",
       "      <th>26323</th>\n",
       "      <td>538508</td>\n",
       "      <td>21807</td>\n",
       "      <td>WHITE CHRISTMAS STAR DECORATION</td>\n",
       "      <td>12</td>\n",
       "      <td>2010-12-12 13:32:00</td>\n",
       "      <td>0.42</td>\n",
       "      <td>15998.0</td>\n",
       "      <td>United Kingdom</td>\n",
       "      <td>5.04</td>\n",
       "    </tr>\n",
       "    <tr>\n",
       "      <th>309819</th>\n",
       "      <td>564141</td>\n",
       "      <td>23165</td>\n",
       "      <td>LARGE CERAMIC TOP STORAGE JAR</td>\n",
       "      <td>1</td>\n",
       "      <td>2011-08-23 11:47:00</td>\n",
       "      <td>1.65</td>\n",
       "      <td>17841.0</td>\n",
       "      <td>United Kingdom</td>\n",
       "      <td>1.65</td>\n",
       "    </tr>\n",
       "    <tr>\n",
       "      <th>245464</th>\n",
       "      <td>558614</td>\n",
       "      <td>84631</td>\n",
       "      <td>FRUIT TREE AND BIRDS WALL PLAQUE</td>\n",
       "      <td>2</td>\n",
       "      <td>2011-06-30 15:56:00</td>\n",
       "      <td>7.46</td>\n",
       "      <td>NaN</td>\n",
       "      <td>United Kingdom</td>\n",
       "      <td>14.92</td>\n",
       "    </tr>\n",
       "    <tr>\n",
       "      <th>...</th>\n",
       "      <td>...</td>\n",
       "      <td>...</td>\n",
       "      <td>...</td>\n",
       "      <td>...</td>\n",
       "      <td>...</td>\n",
       "      <td>...</td>\n",
       "      <td>...</td>\n",
       "      <td>...</td>\n",
       "      <td>...</td>\n",
       "    </tr>\n",
       "    <tr>\n",
       "      <th>185823</th>\n",
       "      <td>552826</td>\n",
       "      <td>22912</td>\n",
       "      <td>YELLOW COAT RACK PARIS FASHION</td>\n",
       "      <td>6</td>\n",
       "      <td>2011-05-11 13:20:00</td>\n",
       "      <td>4.95</td>\n",
       "      <td>14277.0</td>\n",
       "      <td>France</td>\n",
       "      <td>29.70</td>\n",
       "    </tr>\n",
       "    <tr>\n",
       "      <th>41797</th>\n",
       "      <td>539958</td>\n",
       "      <td>84659A</td>\n",
       "      <td>WHITE TRAVEL ALARM CLOCK</td>\n",
       "      <td>4</td>\n",
       "      <td>2010-12-23 13:26:00</td>\n",
       "      <td>2.51</td>\n",
       "      <td>NaN</td>\n",
       "      <td>United Kingdom</td>\n",
       "      <td>10.04</td>\n",
       "    </tr>\n",
       "    <tr>\n",
       "      <th>448607</th>\n",
       "      <td>575063</td>\n",
       "      <td>23243</td>\n",
       "      <td>SET OF TEA COFFEE SUGAR TINS PANTRY</td>\n",
       "      <td>1</td>\n",
       "      <td>2011-11-08 12:32:00</td>\n",
       "      <td>4.95</td>\n",
       "      <td>16764.0</td>\n",
       "      <td>United Kingdom</td>\n",
       "      <td>4.95</td>\n",
       "    </tr>\n",
       "    <tr>\n",
       "      <th>293600</th>\n",
       "      <td>562608</td>\n",
       "      <td>23172</td>\n",
       "      <td>REGENCY TEA PLATE PINK</td>\n",
       "      <td>12</td>\n",
       "      <td>2011-08-08 11:45:00</td>\n",
       "      <td>1.65</td>\n",
       "      <td>15502.0</td>\n",
       "      <td>United Kingdom</td>\n",
       "      <td>19.80</td>\n",
       "    </tr>\n",
       "    <tr>\n",
       "      <th>216905</th>\n",
       "      <td>555857</td>\n",
       "      <td>23309</td>\n",
       "      <td>SET OF 60 I LOVE LONDON CAKE CASES</td>\n",
       "      <td>5</td>\n",
       "      <td>2011-06-07 14:03:00</td>\n",
       "      <td>0.55</td>\n",
       "      <td>16393.0</td>\n",
       "      <td>United Kingdom</td>\n",
       "      <td>2.75</td>\n",
       "    </tr>\n",
       "  </tbody>\n",
       "</table>\n",
       "<p>1000 rows × 9 columns</p>\n",
       "</div>"
      ],
      "text/plain": [
       "       InvoiceNo StockCode                          Description  Quantity  \\\n",
       "107592    545460     21468         BUTTERFLY CROCHET FOOD COVER         1   \n",
       "244975    558564     23201                   JUMBO BAG ALPHABET         6   \n",
       "26323     538508     21807      WHITE CHRISTMAS STAR DECORATION        12   \n",
       "309819    564141     23165        LARGE CERAMIC TOP STORAGE JAR         1   \n",
       "245464    558614     84631     FRUIT TREE AND BIRDS WALL PLAQUE         2   \n",
       "...          ...       ...                                  ...       ...   \n",
       "185823    552826     22912       YELLOW COAT RACK PARIS FASHION         6   \n",
       "41797     539958    84659A             WHITE TRAVEL ALARM CLOCK         4   \n",
       "448607    575063     23243  SET OF TEA COFFEE SUGAR TINS PANTRY         1   \n",
       "293600    562608     23172               REGENCY TEA PLATE PINK        12   \n",
       "216905    555857     23309  SET OF 60 I LOVE LONDON CAKE CASES          5   \n",
       "\n",
       "                InvoiceDate  UnitPrice  CustomerID         Country  TotalPrice  \n",
       "107592  2011-03-02 17:33:00       3.75     13230.0  United Kingdom        3.75  \n",
       "244975  2011-06-30 13:45:00       2.08     14057.0  United Kingdom       12.48  \n",
       "26323   2010-12-12 13:32:00       0.42     15998.0  United Kingdom        5.04  \n",
       "309819  2011-08-23 11:47:00       1.65     17841.0  United Kingdom        1.65  \n",
       "245464  2011-06-30 15:56:00       7.46         NaN  United Kingdom       14.92  \n",
       "...                     ...        ...         ...             ...         ...  \n",
       "185823  2011-05-11 13:20:00       4.95     14277.0          France       29.70  \n",
       "41797   2010-12-23 13:26:00       2.51         NaN  United Kingdom       10.04  \n",
       "448607  2011-11-08 12:32:00       4.95     16764.0  United Kingdom        4.95  \n",
       "293600  2011-08-08 11:45:00       1.65     15502.0  United Kingdom       19.80  \n",
       "216905  2011-06-07 14:03:00       0.55     16393.0  United Kingdom        2.75  \n",
       "\n",
       "[1000 rows x 9 columns]"
      ]
     },
     "execution_count": 16,
     "metadata": {},
     "output_type": "execute_result"
    }
   ],
   "source": [
    "df_sample"
   ]
  },
  {
   "cell_type": "code",
   "execution_count": 17,
   "id": "962e6d34",
   "metadata": {},
   "outputs": [
    {
     "data": {
      "image/png": "[encoded data removed]",
      "text/plain": [
       "<Figure size 432x288 with 1 Axes>"
      ]
     },
     "metadata": {
      "image/png": {
       "height": 276,
       "width": 353
      },
      "needs_background": "light"
     },
     "output_type": "display_data"
    }
   ],
   "source": [
    "sns.boxplot(data=df_sample, x='TotalPrice')\n",
    "plt.title('Boxplot of TotalPrice in df_sample')\n",
    "plt.show()"
   ]
  },
  {
   "cell_type": "code",
   "execution_count": 18,
   "id": "a1ec5bb3",
   "metadata": {
    "colab": {
     "base_uri": "https://localhost:8080/"
    },
    "id": "ecfNiP0cKaUD",
    "outputId": "95bef804-792b-4d76-e5b8-561896f638e7"
   },
   "outputs": [
    {
     "name": "stdout",
     "output_type": "stream",
     "text": [
      "모집단 표준편차: 8.53365258897187\n",
      "모집단 평균: 10.17879868870142\n",
      "----------------------------------\n",
      "표본 표준편차: 8.513422175102768\n",
      "표본 평균: 9.83984\n"
     ]
    }
   ],
   "source": [
    "# 모집단의 TotalPrice에 대한 표준편차와 평균\n",
    "total_std = df_rm['TotalPrice'].std()\n",
    "total_mean = df_rm['TotalPrice'].mean()\n",
    "\n",
    "# 표본의 TotalPrice에 대한 표준편차와 평균\n",
    "sample_std = df_sample['TotalPrice'].std()\n",
    "sample_mean = df_sample['TotalPrice'].mean()\n",
    "\n",
    "\n",
    "print(f'모집단 표준편차: {total_std}')\n",
    "print(f'모집단 평균: {total_mean}')\n",
    "print('----------------------------------')\n",
    "print(f'표본 표준편차: {sample_std}')\n",
    "print(f'표본 평균: {sample_mean}')"
   ]
  },
  {
   "cell_type": "markdown",
   "id": "ae3ca10f",
   "metadata": {
    "id": "YfZX9EuAQgLv"
   },
   "source": [
    "모집단과 표본의 평균 차이: 이상치를 제거 후 모집단에서 무작위로 샘플링을 했지만 평균은 비슷하였습니다.<br>\n",
    "\n",
    "모집단과 표본의 표준편차 차이: 표본과 모집단의 데이터 모두 변량들의 거리가 가깝다는 것을 알 수 있었습니다.<br>\n",
    "\n",
    "\n",
    "중심극한정리에 따르면, 충분히 큰 표본의 표본 평균은 정규분포를 따르게 됩니다. 이는 중심극한정리에 따라 표본 평균들이 정규분포에 가까워진다는 것을 나타냅니다. 통계적 추론이 가능하다는 것을 보여줍니다."
   ]
  },
  {
   "cell_type": "code",
   "execution_count": 19,
   "id": "94ab1512",
   "metadata": {
    "colab": {
     "base_uri": "https://localhost:8080/",
     "height": 850
    },
    "id": "Y6UjWn6TKZ-K",
    "outputId": "0b06bdc5-f99c-4e69-cd18-50c914791a33"
   },
   "outputs": [
    {
     "data": {
      "image/png": "[encoded data removed]",
      "text/plain": [
       "<Figure size 720x720 with 4 Axes>"
      ]
     },
     "metadata": {
      "image/png": {
       "height": 589,
       "width": 620
      },
      "needs_background": "light"
     },
     "output_type": "display_data"
    }
   ],
   "source": [
    "df_rm.hist(bins=50, figsize=(10,10));"
   ]
  },
  {
   "cell_type": "code",
   "execution_count": 20,
   "id": "f20013e2",
   "metadata": {
    "colab": {
     "base_uri": "https://localhost:8080/",
     "height": 850
    },
    "id": "LIH1BP4SKZ2v",
    "outputId": "318bb84b-f06d-4e80-a49c-460bcda9b02e"
   },
   "outputs": [
    {
     "data": {
      "image/png": "[encoded data removed]",
      "text/plain": [
       "<Figure size 720x720 with 4 Axes>"
      ]
     },
     "metadata": {
      "image/png": {
       "height": 589,
       "width": 599
      },
      "needs_background": "light"
     },
     "output_type": "display_data"
    }
   ],
   "source": [
    "df_sample.hist(bins=50, figsize=(10,10));"
   ]
  },
  {
   "cell_type": "markdown",
   "id": "d09e654e",
   "metadata": {
    "id": "771d0d54"
   },
   "source": [
    "## 미션2) 'Country' 변수를 바탕으로 가장 빈도가 높은 두 개의 국가를 선택하고, 각 국가의 'TotalPrice' 평균에 차이가 있는지 검증하세요. 독립표본 t-검정을 사용하여 가설을 설정하고 검정하며, 1종 오류와 2종 오류에 대해 설명하세요.\n",
    "\n",
    "\n",
    "* 미션 진행 방법\n",
    "    <br>1) 데이터 로드 후 'TotalPrice'와 'Country' 컬럼을 찾아주세요.\n",
    "    <br>2) 데이터셋에서 주문이 가장 많은 상위 두 국가를 찾아주세요.\n",
    "    <br>3) 통계적 검증 수행하기\n",
    "    <br>4) 각 국가의 'TotalPrice' 평균을 계산하세요.\n",
    "    <br>5) 독립표본 t-검정을 사용하여 두 국가 간 'TotalPrice' 평균의 차이가 통계적으로 유의미한지 검증하세요. 이 때, scipy.stats 라이브러리의 ttest_ind 함수를 사용할 수 있습니다. equal_var=False 파라미터를 설정하여 두 집단의 분산이 다르다고 가정하세요.\n",
    "    <br>6) t-통계량과 p-값을 해석하여 결과를 설명하세요. 1종 오류와 2종 오류의 개념을 설명하고, 해당 데이터셋에 적용하여 설명해 주세요."
   ]
  },
  {
   "cell_type": "code",
   "execution_count": 21,
   "id": "c03f3865",
   "metadata": {
    "id": "c1dd5c1e"
   },
   "outputs": [],
   "source": [
    "from scipy.stats import ttest_ind"
   ]
  },
  {
   "cell_type": "code",
   "execution_count": 58,
   "id": "5217c060",
   "metadata": {
    "colab": {
     "base_uri": "https://localhost:8080/"
    },
    "id": "INn8LzU_U84y",
    "outputId": "1e49c9db-6af3-4567-c07d-2a996562840e"
   },
   "outputs": [
    {
     "name": "stdout",
     "output_type": "stream",
     "text": [
      "United Kingdom , Germany\n"
     ]
    }
   ],
   "source": [
    "data = df_rm[['TotalPrice','Country']]\n",
    "\n",
    "# 가장 많은 상위 두 국가\n",
    "top_countries = data['Country'].value_counts().head(2).index\n",
    "country1, country2 = top_countries[0], top_countries[1]\n",
    "print(country1,',', country2)"
   ]
  },
  {
   "cell_type": "code",
   "execution_count": 23,
   "id": "f408b5d9",
   "metadata": {
    "colab": {
     "base_uri": "https://localhost:8080/"
    },
    "id": "MvseMjg6ViV9",
    "outputId": "e9547c12-f96c-477f-b6da-db00cbb48e49"
   },
   "outputs": [
    {
     "name": "stdout",
     "output_type": "stream",
     "text": [
      "9.717274639823405 , 15.697480381504285\n"
     ]
    }
   ],
   "source": [
    "# 각 국가의 'TotalPrice' 평균\n",
    "mean_country1 = data[data['Country'] == country1]['TotalPrice'].mean()\n",
    "mean_country2 = data[data['Country'] == country2]['TotalPrice'].mean()\n",
    "\n",
    "print(mean_country1,',', mean_country2)"
   ]
  },
  {
   "cell_type": "code",
   "execution_count": 24,
   "id": "67e9dcb5",
   "metadata": {
    "colab": {
     "base_uri": "https://localhost:8080/"
    },
    "id": "UfwAAd-fViOS",
    "outputId": "6de1e58d-bed7-42c4-e20a-d866da63e74f"
   },
   "outputs": [
    {
     "data": {
      "text/plain": [
       "(-62.363007972677885, 0.0)"
      ]
     },
     "execution_count": 24,
     "metadata": {},
     "output_type": "execute_result"
    }
   ],
   "source": [
    "# 독립표본 t-검정\n",
    "uk = data[data['Country'] == country1]['TotalPrice']\n",
    "gm = data[data['Country'] == country2]['TotalPrice']\n",
    "t_stat, p_value = ttest_ind(uk, gm, equal_var=False)\n",
    "\n",
    "t_stat, p_value\n",
    "\n"
   ]
  },
  {
   "cell_type": "code",
   "execution_count": 25,
   "id": "0860f071",
   "metadata": {
    "colab": {
     "base_uri": "https://localhost:8080/"
    },
    "id": "1ujIp7c_ViJH",
    "outputId": "2e3443f3-6341-4e04-d2e7-c70176ad1b56"
   },
   "outputs": [
    {
     "name": "stdout",
     "output_type": "stream",
     "text": [
      "국가 'United Kingdom'의 'TotalPrice' 평균: 9.717274639823405\n",
      "국가 'Germany'의 'TotalPrice' 평균: 15.697480381504285\n",
      "--------------------------------------\n",
      "독립표본 t-검정 결과 - t-statistic: -62.363007972677885, p-value: 0.0\n",
      "----------------------------------\n",
      "통계적으로 유의미한 차이가 있음\n"
     ]
    }
   ],
   "source": [
    "# # 결과 출력\n",
    "print(f\"국가 '{country1}'의 'TotalPrice' 평균: {mean_country1}\")\n",
    "print(f\"국가 '{country2}'의 'TotalPrice' 평균: {mean_country2}\")\n",
    "print('--------------------------------------')\n",
    "print(f\"독립표본 t-검정 결과 - t-statistic: {t_stat}, p-value: {p_value}\")\n",
    "\n",
    "# 결과 해석\n",
    "print('----------------------------------')\n",
    "if p_value < 0.05:\n",
    "    print(\"통계적으로 유의미한 차이가 있음\")\n",
    "else:\n",
    "    print(\"통계적으로 유의미한 차이가 없음\")"
   ]
  },
  {
   "cell_type": "markdown",
   "id": "2a3fe43c",
   "metadata": {},
   "source": [
    "t-통계량은 유의미 하다는 것을 확인했습니다. <br>\n",
    "현재 음수이므로 gm의 평균값이 uk 평균값보다 작다는것을 나타냄 <br>\n",
    "\n",
    "\n",
    "1종 오류 (False Positive): 두 국가 간의 'TotalPrice' 평균에 차이가 없는데, 통계적으로 유의미한 차이가 있다고 잘못 결론 내리는 경우입니다. 여기서는 p-값이 매우 작아 귀무가설을 기각하였으므로 1종 오류는 발생하지 않았습니다.<br>\n",
    "\n",
    "2종 오류 (False Negative): 두 국가 간의 'TotalPrice' 평균에 차이가 있는데, 통계적으로 유의미한 차이가 없다고 잘못 결론 내리는 경우입니다. 이는 검정력(Statistical Power)와 관련이 있으며, 측정이나 표본 크기를 늘리면 2종 오류를 줄일 수 있습니다.<br>\n"
   ]
  },
  {
   "cell_type": "markdown",
   "id": "d06aba27",
   "metadata": {
    "id": "d05d88d5"
   },
   "source": [
    "## 미션 3) 주중, 주말에 따른 기술통계와 분위수 분석\n",
    "\n",
    "'UnitPrice'의 분포를 분석하기 위해 상자수염그림과 히스토그램을 그리세요. 데이터의 분위수, 중심경향치(평균, 중간값), 변산성(표준편차, 분산)을 계산하고, 이들이 데이터 분포에 대해 설명해 주세요. 다음의 주어진 코드를 활용해 주세요.\n",
    "\n",
    "\n",
    "```python\n",
    "# 'InvoiceDate' 컬럼을 이용하여 주중과 주말을 구분\n",
    "df['InvoiceDate'] = pd.to_datetime(df['InvoiceDate'])\n",
    "df['DayOfWeek'] = df['InvoiceDate'].dt.dayofweek\n",
    "\n",
    "\n",
    "df.loc[df['DayOfWeek'] <= 4, \"WeekEnd\"] = \"주중\"\n",
    "df.loc[df['DayOfWeek'] > 4, \"WeekEnd\"] = \"주말\"\n",
    "\n",
    "# 주중(월요일=0, 화요일=1, ..., 금요일=4)과 주말(토요일=5, 일요일=6)으로 데이터를 분리\n",
    "weekday_data = df[df['DayOfWeek'] <= 4]  # 주중\n",
    "weekend_data = df[df['DayOfWeek'] > 4]   # 주말\n",
    "```\n",
    "\n",
    "* 참고 : [pandas.DataFrame.describe — pandas documentation](https://pandas.pydata.org/docs/reference/api/pandas.DataFrame.describe.html)\n",
    "* 참고 : 슬라이드의 \"기술 통계\" 부분을 찾아보세요."
   ]
  },
  {
   "cell_type": "code",
   "execution_count": 26,
   "id": "a445ed2c",
   "metadata": {},
   "outputs": [
    {
     "name": "stdout",
     "output_type": "stream",
     "text": [
      "<class 'pandas.core.frame.DataFrame'>\n",
      "Int64Index: 496912 entries, 0 to 541908\n",
      "Data columns (total 9 columns):\n",
      " #   Column       Non-Null Count   Dtype   \n",
      "---  ------       --------------   -----   \n",
      " 0   InvoiceNo    496912 non-null  category\n",
      " 1   StockCode    496912 non-null  category\n",
      " 2   Description  495458 non-null  category\n",
      " 3   Quantity     496912 non-null  int32   \n",
      " 4   InvoiceDate  496912 non-null  category\n",
      " 5   UnitPrice    496912 non-null  float64 \n",
      " 6   CustomerID   367998 non-null  float32 \n",
      " 7   Country      496912 non-null  category\n",
      " 8   TotalPrice   496912 non-null  float64 \n",
      "dtypes: category(5), float32(1), float64(2), int32(1)\n",
      "memory usage: 37.8 MB\n"
     ]
    }
   ],
   "source": [
    "df_rm.info()"
   ]
  },
  {
   "cell_type": "code",
   "execution_count": 27,
   "id": "67a21df3",
   "metadata": {
    "id": "e365a76e"
   },
   "outputs": [
    {
     "name": "stderr",
     "output_type": "stream",
     "text": [
      "/tmp/ipykernel_190/2141609317.py:2: SettingWithCopyWarning: \n",
      "A value is trying to be set on a copy of a slice from a DataFrame.\n",
      "Try using .loc[row_indexer,col_indexer] = value instead\n",
      "\n",
      "See the caveats in the documentation: https://pandas.pydata.org/pandas-docs/stable/user_guide/indexing.html#returning-a-view-versus-a-copy\n",
      "  df_rm['InvoiceDate'] = pd.to_datetime(df_rm['InvoiceDate'])\n",
      "/tmp/ipykernel_190/2141609317.py:3: SettingWithCopyWarning: \n",
      "A value is trying to be set on a copy of a slice from a DataFrame.\n",
      "Try using .loc[row_indexer,col_indexer] = value instead\n",
      "\n",
      "See the caveats in the documentation: https://pandas.pydata.org/pandas-docs/stable/user_guide/indexing.html#returning-a-view-versus-a-copy\n",
      "  df_rm['DayOfWeek'] = df_rm['InvoiceDate'].dt.dayofweek\n",
      "/opt/conda/lib/python3.9/site-packages/pandas/core/indexing.py:1684: SettingWithCopyWarning: \n",
      "A value is trying to be set on a copy of a slice from a DataFrame.\n",
      "Try using .loc[row_indexer,col_indexer] = value instead\n",
      "\n",
      "See the caveats in the documentation: https://pandas.pydata.org/pandas-docs/stable/user_guide/indexing.html#returning-a-view-versus-a-copy\n",
      "  self.obj[key] = infer_fill_value(value)\n",
      "/opt/conda/lib/python3.9/site-packages/pandas/core/indexing.py:1817: SettingWithCopyWarning: \n",
      "A value is trying to be set on a copy of a slice from a DataFrame.\n",
      "Try using .loc[row_indexer,col_indexer] = value instead\n",
      "\n",
      "See the caveats in the documentation: https://pandas.pydata.org/pandas-docs/stable/user_guide/indexing.html#returning-a-view-versus-a-copy\n",
      "  self._setitem_single_column(loc, value, pi)\n"
     ]
    }
   ],
   "source": [
    "# 'InvoiceDate' 컬럼을 이용하여 주중과 주말을 구분\n",
    "df_rm['InvoiceDate'] = pd.to_datetime(df_rm['InvoiceDate'])\n",
    "df_rm['DayOfWeek'] = df_rm['InvoiceDate'].dt.dayofweek\n",
    "\n",
    "\n",
    "df_rm.loc[df_rm['DayOfWeek'] <= 4, \"WeekEnd\"] = \"주중\"\n",
    "df_rm.loc[df_rm['DayOfWeek'] > 4, \"WeekEnd\"] = \"주말\"\n",
    "\n",
    "# 주중(월요일=0, 화요일=1, ..., 금요일=4)과 주말(토요일=5, 일요일=6)으로 데이터를 분리\n",
    "weekday_data = df_rm[df_rm['DayOfWeek'] <= 4]  # 주중\n",
    "weekend_data = df_rm[df_rm['DayOfWeek'] > 4]   # 주말"
   ]
  },
  {
   "cell_type": "code",
   "execution_count": 28,
   "id": "5be726fd",
   "metadata": {},
   "outputs": [
    {
     "data": {
      "text/plain": [
       "38.26"
      ]
     },
     "execution_count": 28,
     "metadata": {},
     "output_type": "execute_result"
    }
   ],
   "source": [
    "df_rm['UnitPrice'].max()"
   ]
  },
  {
   "cell_type": "code",
   "execution_count": 29,
   "id": "d6db1ebb",
   "metadata": {},
   "outputs": [
    {
     "name": "stdout",
     "output_type": "stream",
     "text": [
      "<class 'pandas.core.frame.DataFrame'>\n",
      "Int64Index: 496912 entries, 0 to 541908\n",
      "Data columns (total 11 columns):\n",
      " #   Column       Non-Null Count   Dtype         \n",
      "---  ------       --------------   -----         \n",
      " 0   InvoiceNo    496912 non-null  category      \n",
      " 1   StockCode    496912 non-null  category      \n",
      " 2   Description  495458 non-null  category      \n",
      " 3   Quantity     496912 non-null  int32         \n",
      " 4   InvoiceDate  496912 non-null  datetime64[ns]\n",
      " 5   UnitPrice    496912 non-null  float64       \n",
      " 6   CustomerID   367998 non-null  float32       \n",
      " 7   Country      496912 non-null  category      \n",
      " 8   TotalPrice   496912 non-null  float64       \n",
      " 9   DayOfWeek    496912 non-null  int64         \n",
      " 10  WeekEnd      496912 non-null  object        \n",
      "dtypes: category(4), datetime64[ns](1), float32(1), float64(2), int32(1), int64(1), object(1)\n",
      "memory usage: 47.5+ MB\n"
     ]
    }
   ],
   "source": [
    "df_rm.info()"
   ]
  },
  {
   "cell_type": "code",
   "execution_count": 30,
   "id": "9b459305",
   "metadata": {},
   "outputs": [
    {
     "data": {
      "text/html": [
       "<div>\n",
       "<style scoped>\n",
       "    .dataframe tbody tr th:only-of-type {\n",
       "        vertical-align: middle;\n",
       "    }\n",
       "\n",
       "    .dataframe tbody tr th {\n",
       "        vertical-align: top;\n",
       "    }\n",
       "\n",
       "    .dataframe thead th {\n",
       "        text-align: right;\n",
       "    }\n",
       "</style>\n",
       "<table border=\"1\" class=\"dataframe\">\n",
       "  <thead>\n",
       "    <tr style=\"text-align: right;\">\n",
       "      <th></th>\n",
       "      <th>InvoiceNo</th>\n",
       "      <th>StockCode</th>\n",
       "      <th>Description</th>\n",
       "      <th>Quantity</th>\n",
       "      <th>InvoiceDate</th>\n",
       "      <th>UnitPrice</th>\n",
       "      <th>CustomerID</th>\n",
       "      <th>Country</th>\n",
       "      <th>TotalPrice</th>\n",
       "      <th>DayOfWeek</th>\n",
       "      <th>WeekEnd</th>\n",
       "    </tr>\n",
       "  </thead>\n",
       "  <tbody>\n",
       "    <tr>\n",
       "      <th>0</th>\n",
       "      <td>536365</td>\n",
       "      <td>85123A</td>\n",
       "      <td>WHITE HANGING HEART T-LIGHT HOLDER</td>\n",
       "      <td>6</td>\n",
       "      <td>2010-12-01 08:26:00</td>\n",
       "      <td>2.55</td>\n",
       "      <td>17850.0</td>\n",
       "      <td>United Kingdom</td>\n",
       "      <td>15.30</td>\n",
       "      <td>2</td>\n",
       "      <td>주중</td>\n",
       "    </tr>\n",
       "    <tr>\n",
       "      <th>1</th>\n",
       "      <td>536365</td>\n",
       "      <td>71053</td>\n",
       "      <td>WHITE METAL LANTERN</td>\n",
       "      <td>6</td>\n",
       "      <td>2010-12-01 08:26:00</td>\n",
       "      <td>3.39</td>\n",
       "      <td>17850.0</td>\n",
       "      <td>United Kingdom</td>\n",
       "      <td>20.34</td>\n",
       "      <td>2</td>\n",
       "      <td>주중</td>\n",
       "    </tr>\n",
       "    <tr>\n",
       "      <th>2</th>\n",
       "      <td>536365</td>\n",
       "      <td>84406B</td>\n",
       "      <td>CREAM CUPID HEARTS COAT HANGER</td>\n",
       "      <td>8</td>\n",
       "      <td>2010-12-01 08:26:00</td>\n",
       "      <td>2.75</td>\n",
       "      <td>17850.0</td>\n",
       "      <td>United Kingdom</td>\n",
       "      <td>22.00</td>\n",
       "      <td>2</td>\n",
       "      <td>주중</td>\n",
       "    </tr>\n",
       "    <tr>\n",
       "      <th>3</th>\n",
       "      <td>536365</td>\n",
       "      <td>84029G</td>\n",
       "      <td>KNITTED UNION FLAG HOT WATER BOTTLE</td>\n",
       "      <td>6</td>\n",
       "      <td>2010-12-01 08:26:00</td>\n",
       "      <td>3.39</td>\n",
       "      <td>17850.0</td>\n",
       "      <td>United Kingdom</td>\n",
       "      <td>20.34</td>\n",
       "      <td>2</td>\n",
       "      <td>주중</td>\n",
       "    </tr>\n",
       "    <tr>\n",
       "      <th>4</th>\n",
       "      <td>536365</td>\n",
       "      <td>84029E</td>\n",
       "      <td>RED WOOLLY HOTTIE WHITE HEART.</td>\n",
       "      <td>6</td>\n",
       "      <td>2010-12-01 08:26:00</td>\n",
       "      <td>3.39</td>\n",
       "      <td>17850.0</td>\n",
       "      <td>United Kingdom</td>\n",
       "      <td>20.34</td>\n",
       "      <td>2</td>\n",
       "      <td>주중</td>\n",
       "    </tr>\n",
       "    <tr>\n",
       "      <th>...</th>\n",
       "      <td>...</td>\n",
       "      <td>...</td>\n",
       "      <td>...</td>\n",
       "      <td>...</td>\n",
       "      <td>...</td>\n",
       "      <td>...</td>\n",
       "      <td>...</td>\n",
       "      <td>...</td>\n",
       "      <td>...</td>\n",
       "      <td>...</td>\n",
       "      <td>...</td>\n",
       "    </tr>\n",
       "    <tr>\n",
       "      <th>541904</th>\n",
       "      <td>581587</td>\n",
       "      <td>22613</td>\n",
       "      <td>PACK OF 20 SPACEBOY NAPKINS</td>\n",
       "      <td>12</td>\n",
       "      <td>2011-12-09 12:50:00</td>\n",
       "      <td>0.85</td>\n",
       "      <td>12680.0</td>\n",
       "      <td>France</td>\n",
       "      <td>10.20</td>\n",
       "      <td>4</td>\n",
       "      <td>주중</td>\n",
       "    </tr>\n",
       "    <tr>\n",
       "      <th>541905</th>\n",
       "      <td>581587</td>\n",
       "      <td>22899</td>\n",
       "      <td>CHILDREN'S APRON DOLLY GIRL</td>\n",
       "      <td>6</td>\n",
       "      <td>2011-12-09 12:50:00</td>\n",
       "      <td>2.10</td>\n",
       "      <td>12680.0</td>\n",
       "      <td>France</td>\n",
       "      <td>12.60</td>\n",
       "      <td>4</td>\n",
       "      <td>주중</td>\n",
       "    </tr>\n",
       "    <tr>\n",
       "      <th>541906</th>\n",
       "      <td>581587</td>\n",
       "      <td>23254</td>\n",
       "      <td>CHILDRENS CUTLERY DOLLY GIRL</td>\n",
       "      <td>4</td>\n",
       "      <td>2011-12-09 12:50:00</td>\n",
       "      <td>4.15</td>\n",
       "      <td>12680.0</td>\n",
       "      <td>France</td>\n",
       "      <td>16.60</td>\n",
       "      <td>4</td>\n",
       "      <td>주중</td>\n",
       "    </tr>\n",
       "    <tr>\n",
       "      <th>541907</th>\n",
       "      <td>581587</td>\n",
       "      <td>23255</td>\n",
       "      <td>CHILDRENS CUTLERY CIRCUS PARADE</td>\n",
       "      <td>4</td>\n",
       "      <td>2011-12-09 12:50:00</td>\n",
       "      <td>4.15</td>\n",
       "      <td>12680.0</td>\n",
       "      <td>France</td>\n",
       "      <td>16.60</td>\n",
       "      <td>4</td>\n",
       "      <td>주중</td>\n",
       "    </tr>\n",
       "    <tr>\n",
       "      <th>541908</th>\n",
       "      <td>581587</td>\n",
       "      <td>22138</td>\n",
       "      <td>BAKING SET 9 PIECE RETROSPOT</td>\n",
       "      <td>3</td>\n",
       "      <td>2011-12-09 12:50:00</td>\n",
       "      <td>4.95</td>\n",
       "      <td>12680.0</td>\n",
       "      <td>France</td>\n",
       "      <td>14.85</td>\n",
       "      <td>4</td>\n",
       "      <td>주중</td>\n",
       "    </tr>\n",
       "  </tbody>\n",
       "</table>\n",
       "<p>496912 rows × 11 columns</p>\n",
       "</div>"
      ],
      "text/plain": [
       "       InvoiceNo StockCode                          Description  Quantity  \\\n",
       "0         536365    85123A   WHITE HANGING HEART T-LIGHT HOLDER         6   \n",
       "1         536365     71053                  WHITE METAL LANTERN         6   \n",
       "2         536365    84406B       CREAM CUPID HEARTS COAT HANGER         8   \n",
       "3         536365    84029G  KNITTED UNION FLAG HOT WATER BOTTLE         6   \n",
       "4         536365    84029E       RED WOOLLY HOTTIE WHITE HEART.         6   \n",
       "...          ...       ...                                  ...       ...   \n",
       "541904    581587     22613          PACK OF 20 SPACEBOY NAPKINS        12   \n",
       "541905    581587     22899         CHILDREN'S APRON DOLLY GIRL          6   \n",
       "541906    581587     23254        CHILDRENS CUTLERY DOLLY GIRL          4   \n",
       "541907    581587     23255      CHILDRENS CUTLERY CIRCUS PARADE         4   \n",
       "541908    581587     22138        BAKING SET 9 PIECE RETROSPOT          3   \n",
       "\n",
       "               InvoiceDate  UnitPrice  CustomerID         Country  TotalPrice  \\\n",
       "0      2010-12-01 08:26:00       2.55     17850.0  United Kingdom       15.30   \n",
       "1      2010-12-01 08:26:00       3.39     17850.0  United Kingdom       20.34   \n",
       "2      2010-12-01 08:26:00       2.75     17850.0  United Kingdom       22.00   \n",
       "3      2010-12-01 08:26:00       3.39     17850.0  United Kingdom       20.34   \n",
       "4      2010-12-01 08:26:00       3.39     17850.0  United Kingdom       20.34   \n",
       "...                    ...        ...         ...             ...         ...   \n",
       "541904 2011-12-09 12:50:00       0.85     12680.0          France       10.20   \n",
       "541905 2011-12-09 12:50:00       2.10     12680.0          France       12.60   \n",
       "541906 2011-12-09 12:50:00       4.15     12680.0          France       16.60   \n",
       "541907 2011-12-09 12:50:00       4.15     12680.0          France       16.60   \n",
       "541908 2011-12-09 12:50:00       4.95     12680.0          France       14.85   \n",
       "\n",
       "        DayOfWeek WeekEnd  \n",
       "0               2      주중  \n",
       "1               2      주중  \n",
       "2               2      주중  \n",
       "3               2      주중  \n",
       "4               2      주중  \n",
       "...           ...     ...  \n",
       "541904          4      주중  \n",
       "541905          4      주중  \n",
       "541906          4      주중  \n",
       "541907          4      주중  \n",
       "541908          4      주중  \n",
       "\n",
       "[496912 rows x 11 columns]"
      ]
     },
     "execution_count": 30,
     "metadata": {},
     "output_type": "execute_result"
    }
   ],
   "source": [
    "df_rm"
   ]
  },
  {
   "cell_type": "code",
   "execution_count": 31,
   "id": "7d981c1a",
   "metadata": {
    "colab": {
     "base_uri": "https://localhost:8080/",
     "height": 561
    },
    "id": "b67acaaa",
    "outputId": "be5777c0-90f1-4708-9809-b775cd458451"
   },
   "outputs": [
    {
     "data": {
      "image/png": "[encoded data removed]",
      "text/plain": [
       "<Figure size 864x432 with 1 Axes>"
      ]
     },
     "metadata": {
      "image/png": {
       "height": 385,
       "width": 716
      },
      "needs_background": "light"
     },
     "output_type": "display_data"
    }
   ],
   "source": [
    "# 상자수염\n",
    "plt.figure(figsize=(12,6))\n",
    "sns.boxplot(data=df_rm,x='WeekEnd', y='UnitPrice')\n",
    "plt.title('주중과 주말의 상자수염')\n",
    "plt.show()"
   ]
  },
  {
   "cell_type": "code",
   "execution_count": 32,
   "id": "d8995fea",
   "metadata": {},
   "outputs": [
    {
     "data": {
      "image/png": "[encoded data removed]",
      "text/plain": [
       "<Figure size 864x432 with 1 Axes>"
      ]
     },
     "metadata": {
      "image/png": {
       "height": 385,
       "width": 744
      },
      "needs_background": "light"
     },
     "output_type": "display_data"
    }
   ],
   "source": [
    "# 히스토그램\n",
    "plt.figure(figsize=(12, 6))\n",
    "sns.histplot(data=df_rm, x='UnitPrice', bins=50, kde=True, hue='WeekEnd', multiple='stack')\n",
    "plt.xlabel('UnitPrice')\n",
    "plt.title('UnitPrice의 주중/주말 분포 비교')\n",
    "plt.show()\n"
   ]
  },
  {
   "cell_type": "code",
   "execution_count": 33,
   "id": "4a0ed059",
   "metadata": {
    "colab": {
     "base_uri": "https://localhost:8080/"
    },
    "id": "4a124bd7",
    "outputId": "ca32d3f8-17b8-48a8-ccff-eebaab1d6a4a"
   },
   "outputs": [
    {
     "name": "stdout",
     "output_type": "stream",
     "text": [
      "주중 'UnitPrice' 통계량:\n",
      "  1사분위수: 1.25\n",
      "  3사분위수: 4.13\n",
      "  평균값: 3.184443291066612\n",
      "  중앙값: 2.08\n",
      "  표준편차: 3.3223813811933214\n",
      "  분산: 11.038218042100041\n",
      "\n",
      "주말 'UnitPrice' 통계량:\n",
      "  1사분위수: 1.25\n",
      "  3사분위수: 3.29\n",
      "  평균값: 2.7012893425073954\n",
      "  중앙값: 1.69\n",
      "  표준편차: 2.695269483021313\n",
      "  분산: 7.264477586105976\n"
     ]
    }
   ],
   "source": [
    "# 주중과 주말의 분위수, 중심경향치, 변산성 계산\n",
    "quantiles_weekday = weekday_data['UnitPrice'].quantile([0.25, 0.75])\n",
    "quantiles_weekend = weekend_data['UnitPrice'].quantile([0.25, 0.75])\n",
    "\n",
    "mean_weekday = weekday_data['UnitPrice'].mean()\n",
    "median_weekday = weekday_data['UnitPrice'].median()\n",
    "std_weekday = weekday_data['UnitPrice'].std()\n",
    "var_weekday = weekday_data['UnitPrice'].var()\n",
    "\n",
    "mean_weekend = weekend_data['UnitPrice'].mean()\n",
    "median_weekend = weekend_data['UnitPrice'].median()\n",
    "std_weekend = weekend_data['UnitPrice'].std()\n",
    "var_weekend = weekend_data['UnitPrice'].var()\n",
    "\n",
    "# 결과 출력\n",
    "print(\"주중 'UnitPrice' 통계량:\")\n",
    "print(f\"  1사분위수: {quantiles_weekday[0.25]}\")\n",
    "print(f\"  3사분위수: {quantiles_weekday[0.75]}\")\n",
    "print(f\"  평균값: {mean_weekday}\")\n",
    "print(f\"  중앙값: {median_weekday}\")\n",
    "print(f\"  표준편차: {std_weekday}\")\n",
    "print(f\"  분산: {var_weekday}\\n\")\n",
    "\n",
    "print(\"주말 'UnitPrice' 통계량:\")\n",
    "print(f\"  1사분위수: {quantiles_weekend[0.25]}\")\n",
    "print(f\"  3사분위수: {quantiles_weekend[0.75]}\")\n",
    "print(f\"  평균값: {mean_weekend}\")\n",
    "print(f\"  중앙값: {median_weekend}\")\n",
    "print(f\"  표준편차: {std_weekend}\")\n",
    "print(f\"  분산: {var_weekend}\")"
   ]
  },
  {
   "cell_type": "markdown",
   "id": "c05afd50",
   "metadata": {
    "id": "EMM2RdVdgyMe"
   },
   "source": [
    "주중 'UnitPrice'의 통계량을 살펴보면 평균이 중앙값보다 훨씬 크게 나타납니다. 이는 데이터의 오른쪽 꼬리가 길어서 평균이 영향을 받았을 가능성이 있습니다. 표준편차도 크게 나타나 있어 데이터가 퍼져있음을 나타냅니다.\n",
    "주말 'UnitPrice'의 통계량에서는 주중처럼 오른쪽 꼬리가 길거라는 걸 알 수 있었습니다. 표준편차도 작아졌고, 데이터가 평균 주변에 집중되어 있음을 나타냅니다.\n",
    "<br>\n",
    "\n",
    "'UnitPrice'의 주중과 주말의 데이터 분포가 서로 다릅니다.\n",
    "주중에는 데이터가 평균 주변에 집중되어 있지 않습니다.상품이 높은 가격대에 판매되고 있다는 것을 시사할 수 있습니다.\n",
    "반면, 주말에는 데이터가 평균 주변에 더 집중되어 있어 일반적으로 주말에는 높은 가격 구매가 적다는 것을 알 수 있습니다."
   ]
  },
  {
   "cell_type": "markdown",
   "id": "17085f30",
   "metadata": {
    "id": "2f63e2de"
   },
   "source": [
    "## 미션4)  'TotalPrice'의 중간값이 특정 값과 다른지 검증하기 위해 비모수 검정 (예: 맨-휘트니 U-검정)을 사용하세요. 검증 결과에 대해 비즈니스 관점에서 분석해 주세요.\n",
    "\n",
    "* 비모수 검정은 데이터가 정규 분포를 따르지 않거나, 정규 분포에 대한 가정을 할 수 없을 때 사용됩니다. 특히, 작은 표본 크기, 이상치의 존재, 순위나 순서와 같은 비정량적 데이터에 적합합니다. 또한, 두 그룹 간의 중앙값이나 분포의 형태가 다를 때 비모수 검정을 사용할 수 있습니다.\n",
    "\n",
    "* 맨-휘트니 U-검정은 두 독립적인 표본 간에 중앙값의 차이를 비교하는 데 사용됩니다. 이 검정은 두 그룹의 데이터가 서로 독립적이며, 최소한 서열 척도로 측정되어야 합니다. 데이터의 분포 형태에 대한 가정이 필요 없으며, 크기가 다른 두 표본에 대해서도 사용할 수 있습니다. 이 검정은 데이터의 중앙값이 특정 값과 다른지 여부를 검증하는 데 유용합니다.\n",
    "\n",
    "다음의 주어진 코드를 활용해 주세요.\n",
    "\n",
    "```python\n",
    "from scipy.stats import mannwhitneyu\n",
    "# 'TotalPrice' 컬럼을 생성합니다. 이는 'Quantity'와 'UnitPrice'의 곱으로 정의됩니다.\n",
    "df['TotalPrice'] = df['Quantity'] * df['UnitPrice']\n",
    "```\n",
    "\n",
    "* 참고 : https://www.ibm.com/docs/ko/spss-statistics/beta?topic=tests-mann-whitney-u-test"
   ]
  },
  {
   "cell_type": "code",
   "execution_count": 34,
   "id": "c70e66dd",
   "metadata": {
    "id": "87a7c568"
   },
   "outputs": [
    {
     "name": "stderr",
     "output_type": "stream",
     "text": [
      "/tmp/ipykernel_190/309508690.py:4: SettingWithCopyWarning: \n",
      "A value is trying to be set on a copy of a slice from a DataFrame.\n",
      "Try using .loc[row_indexer,col_indexer] = value instead\n",
      "\n",
      "See the caveats in the documentation: https://pandas.pydata.org/pandas-docs/stable/user_guide/indexing.html#returning-a-view-versus-a-copy\n",
      "  df_rm['TotalPrice'] = df_rm['Quantity'] * df_rm['UnitPrice']\n"
     ]
    }
   ],
   "source": [
    "from scipy.stats import mannwhitneyu\n",
    "\n",
    "# 'TotalPrice' 컬럼을 생성합니다. 이는 'Quantity'와 'UnitPrice'의 곱으로 정의됩니다.\n",
    "df_rm['TotalPrice'] = df_rm['Quantity'] * df_rm['UnitPrice']"
   ]
  },
  {
   "cell_type": "code",
   "execution_count": 35,
   "id": "858f4684",
   "metadata": {
    "colab": {
     "base_uri": "https://localhost:8080/",
     "height": 912
    },
    "id": "KYCcEyFheNof",
    "outputId": "ec6425ec-9acf-49ff-8eb6-fd5ca5a69658"
   },
   "outputs": [
    {
     "data": {
      "text/html": [
       "<div>\n",
       "<style scoped>\n",
       "    .dataframe tbody tr th:only-of-type {\n",
       "        vertical-align: middle;\n",
       "    }\n",
       "\n",
       "    .dataframe tbody tr th {\n",
       "        vertical-align: top;\n",
       "    }\n",
       "\n",
       "    .dataframe thead th {\n",
       "        text-align: right;\n",
       "    }\n",
       "</style>\n",
       "<table border=\"1\" class=\"dataframe\">\n",
       "  <thead>\n",
       "    <tr style=\"text-align: right;\">\n",
       "      <th></th>\n",
       "      <th>InvoiceNo</th>\n",
       "      <th>StockCode</th>\n",
       "      <th>Description</th>\n",
       "      <th>Quantity</th>\n",
       "      <th>InvoiceDate</th>\n",
       "      <th>UnitPrice</th>\n",
       "      <th>CustomerID</th>\n",
       "      <th>Country</th>\n",
       "      <th>TotalPrice</th>\n",
       "      <th>DayOfWeek</th>\n",
       "      <th>WeekEnd</th>\n",
       "    </tr>\n",
       "  </thead>\n",
       "  <tbody>\n",
       "    <tr>\n",
       "      <th>0</th>\n",
       "      <td>536365</td>\n",
       "      <td>85123A</td>\n",
       "      <td>WHITE HANGING HEART T-LIGHT HOLDER</td>\n",
       "      <td>6</td>\n",
       "      <td>2010-12-01 08:26:00</td>\n",
       "      <td>2.55</td>\n",
       "      <td>17850.0</td>\n",
       "      <td>United Kingdom</td>\n",
       "      <td>15.30</td>\n",
       "      <td>2</td>\n",
       "      <td>주중</td>\n",
       "    </tr>\n",
       "    <tr>\n",
       "      <th>1</th>\n",
       "      <td>536365</td>\n",
       "      <td>71053</td>\n",
       "      <td>WHITE METAL LANTERN</td>\n",
       "      <td>6</td>\n",
       "      <td>2010-12-01 08:26:00</td>\n",
       "      <td>3.39</td>\n",
       "      <td>17850.0</td>\n",
       "      <td>United Kingdom</td>\n",
       "      <td>20.34</td>\n",
       "      <td>2</td>\n",
       "      <td>주중</td>\n",
       "    </tr>\n",
       "    <tr>\n",
       "      <th>2</th>\n",
       "      <td>536365</td>\n",
       "      <td>84406B</td>\n",
       "      <td>CREAM CUPID HEARTS COAT HANGER</td>\n",
       "      <td>8</td>\n",
       "      <td>2010-12-01 08:26:00</td>\n",
       "      <td>2.75</td>\n",
       "      <td>17850.0</td>\n",
       "      <td>United Kingdom</td>\n",
       "      <td>22.00</td>\n",
       "      <td>2</td>\n",
       "      <td>주중</td>\n",
       "    </tr>\n",
       "    <tr>\n",
       "      <th>3</th>\n",
       "      <td>536365</td>\n",
       "      <td>84029G</td>\n",
       "      <td>KNITTED UNION FLAG HOT WATER BOTTLE</td>\n",
       "      <td>6</td>\n",
       "      <td>2010-12-01 08:26:00</td>\n",
       "      <td>3.39</td>\n",
       "      <td>17850.0</td>\n",
       "      <td>United Kingdom</td>\n",
       "      <td>20.34</td>\n",
       "      <td>2</td>\n",
       "      <td>주중</td>\n",
       "    </tr>\n",
       "    <tr>\n",
       "      <th>4</th>\n",
       "      <td>536365</td>\n",
       "      <td>84029E</td>\n",
       "      <td>RED WOOLLY HOTTIE WHITE HEART.</td>\n",
       "      <td>6</td>\n",
       "      <td>2010-12-01 08:26:00</td>\n",
       "      <td>3.39</td>\n",
       "      <td>17850.0</td>\n",
       "      <td>United Kingdom</td>\n",
       "      <td>20.34</td>\n",
       "      <td>2</td>\n",
       "      <td>주중</td>\n",
       "    </tr>\n",
       "    <tr>\n",
       "      <th>...</th>\n",
       "      <td>...</td>\n",
       "      <td>...</td>\n",
       "      <td>...</td>\n",
       "      <td>...</td>\n",
       "      <td>...</td>\n",
       "      <td>...</td>\n",
       "      <td>...</td>\n",
       "      <td>...</td>\n",
       "      <td>...</td>\n",
       "      <td>...</td>\n",
       "      <td>...</td>\n",
       "    </tr>\n",
       "    <tr>\n",
       "      <th>541904</th>\n",
       "      <td>581587</td>\n",
       "      <td>22613</td>\n",
       "      <td>PACK OF 20 SPACEBOY NAPKINS</td>\n",
       "      <td>12</td>\n",
       "      <td>2011-12-09 12:50:00</td>\n",
       "      <td>0.85</td>\n",
       "      <td>12680.0</td>\n",
       "      <td>France</td>\n",
       "      <td>10.20</td>\n",
       "      <td>4</td>\n",
       "      <td>주중</td>\n",
       "    </tr>\n",
       "    <tr>\n",
       "      <th>541905</th>\n",
       "      <td>581587</td>\n",
       "      <td>22899</td>\n",
       "      <td>CHILDREN'S APRON DOLLY GIRL</td>\n",
       "      <td>6</td>\n",
       "      <td>2011-12-09 12:50:00</td>\n",
       "      <td>2.10</td>\n",
       "      <td>12680.0</td>\n",
       "      <td>France</td>\n",
       "      <td>12.60</td>\n",
       "      <td>4</td>\n",
       "      <td>주중</td>\n",
       "    </tr>\n",
       "    <tr>\n",
       "      <th>541906</th>\n",
       "      <td>581587</td>\n",
       "      <td>23254</td>\n",
       "      <td>CHILDRENS CUTLERY DOLLY GIRL</td>\n",
       "      <td>4</td>\n",
       "      <td>2011-12-09 12:50:00</td>\n",
       "      <td>4.15</td>\n",
       "      <td>12680.0</td>\n",
       "      <td>France</td>\n",
       "      <td>16.60</td>\n",
       "      <td>4</td>\n",
       "      <td>주중</td>\n",
       "    </tr>\n",
       "    <tr>\n",
       "      <th>541907</th>\n",
       "      <td>581587</td>\n",
       "      <td>23255</td>\n",
       "      <td>CHILDRENS CUTLERY CIRCUS PARADE</td>\n",
       "      <td>4</td>\n",
       "      <td>2011-12-09 12:50:00</td>\n",
       "      <td>4.15</td>\n",
       "      <td>12680.0</td>\n",
       "      <td>France</td>\n",
       "      <td>16.60</td>\n",
       "      <td>4</td>\n",
       "      <td>주중</td>\n",
       "    </tr>\n",
       "    <tr>\n",
       "      <th>541908</th>\n",
       "      <td>581587</td>\n",
       "      <td>22138</td>\n",
       "      <td>BAKING SET 9 PIECE RETROSPOT</td>\n",
       "      <td>3</td>\n",
       "      <td>2011-12-09 12:50:00</td>\n",
       "      <td>4.95</td>\n",
       "      <td>12680.0</td>\n",
       "      <td>France</td>\n",
       "      <td>14.85</td>\n",
       "      <td>4</td>\n",
       "      <td>주중</td>\n",
       "    </tr>\n",
       "  </tbody>\n",
       "</table>\n",
       "<p>496912 rows × 11 columns</p>\n",
       "</div>"
      ],
      "text/plain": [
       "       InvoiceNo StockCode                          Description  Quantity  \\\n",
       "0         536365    85123A   WHITE HANGING HEART T-LIGHT HOLDER         6   \n",
       "1         536365     71053                  WHITE METAL LANTERN         6   \n",
       "2         536365    84406B       CREAM CUPID HEARTS COAT HANGER         8   \n",
       "3         536365    84029G  KNITTED UNION FLAG HOT WATER BOTTLE         6   \n",
       "4         536365    84029E       RED WOOLLY HOTTIE WHITE HEART.         6   \n",
       "...          ...       ...                                  ...       ...   \n",
       "541904    581587     22613          PACK OF 20 SPACEBOY NAPKINS        12   \n",
       "541905    581587     22899         CHILDREN'S APRON DOLLY GIRL          6   \n",
       "541906    581587     23254        CHILDRENS CUTLERY DOLLY GIRL          4   \n",
       "541907    581587     23255      CHILDRENS CUTLERY CIRCUS PARADE         4   \n",
       "541908    581587     22138        BAKING SET 9 PIECE RETROSPOT          3   \n",
       "\n",
       "               InvoiceDate  UnitPrice  CustomerID         Country  TotalPrice  \\\n",
       "0      2010-12-01 08:26:00       2.55     17850.0  United Kingdom       15.30   \n",
       "1      2010-12-01 08:26:00       3.39     17850.0  United Kingdom       20.34   \n",
       "2      2010-12-01 08:26:00       2.75     17850.0  United Kingdom       22.00   \n",
       "3      2010-12-01 08:26:00       3.39     17850.0  United Kingdom       20.34   \n",
       "4      2010-12-01 08:26:00       3.39     17850.0  United Kingdom       20.34   \n",
       "...                    ...        ...         ...             ...         ...   \n",
       "541904 2011-12-09 12:50:00       0.85     12680.0          France       10.20   \n",
       "541905 2011-12-09 12:50:00       2.10     12680.0          France       12.60   \n",
       "541906 2011-12-09 12:50:00       4.15     12680.0          France       16.60   \n",
       "541907 2011-12-09 12:50:00       4.15     12680.0          France       16.60   \n",
       "541908 2011-12-09 12:50:00       4.95     12680.0          France       14.85   \n",
       "\n",
       "        DayOfWeek WeekEnd  \n",
       "0               2      주중  \n",
       "1               2      주중  \n",
       "2               2      주중  \n",
       "3               2      주중  \n",
       "4               2      주중  \n",
       "...           ...     ...  \n",
       "541904          4      주중  \n",
       "541905          4      주중  \n",
       "541906          4      주중  \n",
       "541907          4      주중  \n",
       "541908          4      주중  \n",
       "\n",
       "[496912 rows x 11 columns]"
      ]
     },
     "execution_count": 35,
     "metadata": {},
     "output_type": "execute_result"
    }
   ],
   "source": [
    "df_rm"
   ]
  },
  {
   "cell_type": "code",
   "execution_count": 36,
   "id": "a3dd9b3d",
   "metadata": {
    "id": "kuczDXYyeKOA"
   },
   "outputs": [],
   "source": [
    "df_sample['TotalPrice'] = df_sample['Quantity'] * df_sample['UnitPrice']"
   ]
  },
  {
   "cell_type": "code",
   "execution_count": 37,
   "id": "635904cb",
   "metadata": {
    "colab": {
     "base_uri": "https://localhost:8080/"
    },
    "id": "af80439b",
    "outputId": "67f7a869-03f2-42c6-cc0a-bd79410b87a9"
   },
   "outputs": [
    {
     "name": "stdout",
     "output_type": "stream",
     "text": [
      "u검정 결과 u-통계량: 254769989.0, p_value:0.1643\n"
     ]
    }
   ],
   "source": [
    "statistic, p_value = mannwhitneyu(df_rm['TotalPrice'],df_sample['TotalPrice'] )\n",
    "\n",
    "print(f'u검정 결과 u-통계량: {statistic}, p_value:{p_value:.4f}')"
   ]
  },
  {
   "cell_type": "code",
   "execution_count": 38,
   "id": "4a34d97a",
   "metadata": {
    "colab": {
     "base_uri": "https://localhost:8080/"
    },
    "id": "gCSZGqH5cn5w",
    "outputId": "2f1dd345-0e0a-4a20-acd0-39d932f8d3a5"
   },
   "outputs": [
    {
     "name": "stdout",
     "output_type": "stream",
     "text": [
      "통계적으로 유의미한 차이가 없음\n"
     ]
    }
   ],
   "source": [
    "if p_value < 0.05:\n",
    "    print(\"통계적으로 유의미한 차이가 있음\")\n",
    "else:\n",
    "    print(\"통계적으로 유의미한 차이가 없음\")\n",
    "\n",
    "\n",
    "# 귀무가설: 'TotalPrice'의 중간값이 특정 값과 같다\n",
    "# 대립가설: 'TotalPrice'의 중간값이 특정 값과 같지 않다.\n",
    "\n",
    "# U-통계량: 254769989.0\n",
    "# p-value: 0.1643\n",
    "\n",
    "#\n",
    "# p-value가 0.1643로 유의수준 0.05보다 크기 때문에 귀무가설을 기각할 충분한 통계적 증거가 없습니다.\n",
    "# 따라서, 'TotalPrice'의 중앙값이 특정 값과 다르다는 통계적인 증거는 부족합니다.\n",
    "\n",
    "# 비즈니스 관점에서의 분석:\n",
    "\n",
    "# 주어진 데이터로 보아 'TotalPrice'의 중앙값은 특정 값과 통계적으로 유의미한 차이가 없습니다.\n",
    "# 이는 'TotalPrice'가 특정 값에 대해 중앙값을 가지고 있지 않다는 것을 시사합니다.\n",
    "# 해당 결과는 'TotalPrice'의 중앙값이 예상과 다르다거나 특이점이 있다는 증거가 부족하다는 것을 의미할 수 있습니다."
   ]
  },
  {
   "cell_type": "markdown",
   "id": "53947748",
   "metadata": {
    "id": "2e9df6ec"
   },
   "source": [
    "## 미션5) UnitPrice 컬럼에 대한 95% 신뢰구간을 구하고  seaborn 으로 신뢰구간을 시각화 해주세요. 그리고 이 신뢰구간이 비즈니스 결정에 어떻게 활용될 수 있는지 설명하세요."
   ]
  },
  {
   "cell_type": "code",
   "execution_count": 39,
   "id": "ba65dd4a",
   "metadata": {
    "id": "380e6a99"
   },
   "outputs": [],
   "source": [
    "from scipy import stats\n"
   ]
  },
  {
   "cell_type": "code",
   "execution_count": 40,
   "id": "6b463cb2",
   "metadata": {
    "id": "e008a91c"
   },
   "outputs": [],
   "source": [
    "# 신뢰구간\n",
    "unitprice_data = df_rm['UnitPrice']\n",
    "confidence_level = 0.95\n",
    "n = len(unitprice_data)\n",
    "mean_unitprice = np.mean(unitprice_data)\n",
    "std_unitprice = np.std(unitprice_data, ddof=1)"
   ]
  },
  {
   "cell_type": "code",
   "execution_count": 41,
   "id": "e2489f07",
   "metadata": {
    "id": "2d675894"
   },
   "outputs": [],
   "source": [
    "# t_critical\n",
    "t_critical = stats.t.ppf((1 + confidence_level) / 2, df=n-1)"
   ]
  },
  {
   "cell_type": "code",
   "execution_count": 43,
   "id": "0c292f7a",
   "metadata": {},
   "outputs": [],
   "source": [
    "# 신뢰구간 계산\n",
    "margin_of_error = t_critical * (std_unitprice / np.sqrt(n))\n",
    "confidence_interval = (mean_unitprice - margin_of_error, mean_unitprice + margin_of_error)\n"
   ]
  },
  {
   "cell_type": "code",
   "execution_count": 44,
   "id": "c3bc5d7e",
   "metadata": {},
   "outputs": [
    {
     "data": {
      "text/plain": [
       "3.1158985530600627"
      ]
     },
     "execution_count": 44,
     "metadata": {},
     "output_type": "execute_result"
    }
   ],
   "source": [
    "confidence_interval[0]"
   ]
  },
  {
   "cell_type": "code",
   "execution_count": 45,
   "id": "86f9c528",
   "metadata": {},
   "outputs": [
    {
     "data": {
      "text/plain": [
       "3.134002210052922"
      ]
     },
     "execution_count": 45,
     "metadata": {},
     "output_type": "execute_result"
    }
   ],
   "source": [
    "confidence_interval[1]"
   ]
  },
  {
   "cell_type": "code",
   "execution_count": 46,
   "id": "c50a85ac",
   "metadata": {
    "colab": {
     "base_uri": "https://localhost:8080/",
     "height": 561
    },
    "id": "c197515b",
    "outputId": "0cb15c42-5d31-409c-f88e-9a5bc2985c61"
   },
   "outputs": [
    {
     "data": {
      "image/png": "[encoded data removed]",
      "text/plain": [
       "<Figure size 720x432 with 1 Axes>"
      ]
     },
     "metadata": {
      "image/png": {
       "height": 385,
       "width": 633
      },
      "needs_background": "light"
     },
     "output_type": "display_data"
    }
   ],
   "source": [
    "\n",
    "# Seaborn을 사용하여 신뢰구간 시각화\n",
    "plt.figure(figsize=(10, 6))\n",
    "sns.histplot(unitprice_data, bins=50, kde=True, color='skyblue')\n",
    "plt.axvline(confidence_interval[0], color='red', linestyle='dashed', linewidth=2, label='95% 신뢰구간 하한')\n",
    "plt.axvline(confidence_interval[1], color='green', linestyle='dashed', linewidth=2, label='95% 신뢰구간 상한')\n",
    "plt.title('UnitPrice의 95% 신뢰구간과 분포')\n",
    "plt.xlabel('UnitPrice')\n",
    "plt.ylabel('Frequency')\n",
    "plt.legend()\n",
    "plt.show()"
   ]
  },
  {
   "cell_type": "markdown",
   "id": "1abdd092",
   "metadata": {
    "id": "7e2f0836"
   },
   "source": [
    "3달러 내외의 가격으로 제품을 제공하는게 가장 좋을 것 같다."
   ]
  },
  {
   "cell_type": "code",
   "execution_count": null,
   "id": "be27866e",
   "metadata": {
    "id": "f179d70e"
   },
   "outputs": [],
   "source": []
  },
  {
   "cell_type": "code",
   "execution_count": null,
   "id": "d67e6981",
   "metadata": {
    "id": "7c402495"
   },
   "outputs": [],
   "source": []
  },
  {
   "cell_type": "code",
   "execution_count": null,
   "id": "6c5ccfca",
   "metadata": {
    "id": "234a9388"
   },
   "outputs": [],
   "source": []
  },
  {
   "cell_type": "code",
   "execution_count": null,
   "id": "4c365a40",
   "metadata": {
    "id": "ef075887"
   },
   "outputs": [],
   "source": []
  },
  {
   "cell_type": "code",
   "execution_count": null,
   "id": "05617505",
   "metadata": {
    "id": "60aafc28"
   },
   "outputs": [],
   "source": []
  }
 ],
 "metadata": {
  "colab": {
   "provenance": []
  },
  "kernelspec": {
   "display_name": "Python 3 (ipykernel)",
   "language": "python",
   "name": "python3"
  },
  "language_info": {
   "codemirror_mode": {
    "name": "ipython",
    "version": 3
   },
   "file_extension": ".py",
   "mimetype": "text/x-python",
   "name": "python",
   "nbconvert_exporter": "python",
   "pygments_lexer": "ipython3",
   "version": "3.9.7"
  },
  "toc": {
   "base_numbering": 1,
   "nav_menu": {},
   "number_sections": false,
   "sideBar": true,
   "skip_h1_title": false,
   "title_cell": "Table of Contents",
   "title_sidebar": "Contents",
   "toc_cell": false,
   "toc_position": {},
   "toc_section_display": true,
   "toc_window_display": true
  },
  "varInspector": {
   "cols": {
    "lenName": 16,
    "lenType": 16,
    "lenVar": 40
   },
   "kernels_config": {
    "python": {
     "delete_cmd_postfix": "",
     "delete_cmd_prefix": "del ",
     "library": "var_list.py",
     "varRefreshCmd": "print(var_dic_list())"
    },
    "r": {
     "delete_cmd_postfix": ") ",
     "delete_cmd_prefix": "rm(",
     "library": "var_list.r",
     "varRefreshCmd": "cat(var_dic_list()) "
    }
   },
   "types_to_exclude": [
    "module",
    "function",
    "builtin_function_or_method",
    "instance",
    "_Feature"
   ],
   "window_display": false
  }
 },
 "nbformat": 4,
 "nbformat_minor": 5
}
