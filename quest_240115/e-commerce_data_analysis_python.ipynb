{
 "cells": [
  {
   "cell_type": "code",
   "execution_count": 5,
   "id": "39a61d28",
   "metadata": {},
   "outputs": [
    {
     "data": {
      "text/plain": [
       "'/aiffel/aiffel/aiffel_quest/quest_240115'"
      ]
     },
     "execution_count": 5,
     "metadata": {},
     "output_type": "execute_result"
    }
   ],
   "source": [
    "pwd"
   ]
  },
  {
   "cell_type": "code",
   "execution_count": 6,
   "id": "37fa39c4",
   "metadata": {},
   "outputs": [],
   "source": [
    "import pandas as pd \n",
    "user_data = pd.read_csv('/aiffel/aiffel/aiffel_quest/quest_240115/customer_segmentation/user_data.csv')"
   ]
  },
  {
   "cell_type": "code",
   "execution_count": 7,
   "id": "9bb4c5df",
   "metadata": {},
   "outputs": [
    {
     "data": {
      "text/html": [
       "<div>\n",
       "<style scoped>\n",
       "    .dataframe tbody tr th:only-of-type {\n",
       "        vertical-align: middle;\n",
       "    }\n",
       "\n",
       "    .dataframe tbody tr th {\n",
       "        vertical-align: top;\n",
       "    }\n",
       "\n",
       "    .dataframe thead th {\n",
       "        text-align: right;\n",
       "    }\n",
       "</style>\n",
       "<table border=\"1\" class=\"dataframe\">\n",
       "  <thead>\n",
       "    <tr style=\"text-align: right;\">\n",
       "      <th></th>\n",
       "      <th>CustomerID</th>\n",
       "      <th>purchase_cnt</th>\n",
       "      <th>item_cnt</th>\n",
       "      <th>recency</th>\n",
       "      <th>user_total</th>\n",
       "      <th>user_average</th>\n",
       "      <th>unique_products</th>\n",
       "      <th>average_interval</th>\n",
       "      <th>total_transactions</th>\n",
       "      <th>cancel_frequency</th>\n",
       "      <th>cancel_rate</th>\n",
       "    </tr>\n",
       "  </thead>\n",
       "  <tbody>\n",
       "    <tr>\n",
       "      <th>0</th>\n",
       "      <td>13099</td>\n",
       "      <td>1</td>\n",
       "      <td>288</td>\n",
       "      <td>99</td>\n",
       "      <td>207.0</td>\n",
       "      <td>207.0</td>\n",
       "      <td>1</td>\n",
       "      <td>0.0</td>\n",
       "      <td>1</td>\n",
       "      <td>0</td>\n",
       "      <td>0.0</td>\n",
       "    </tr>\n",
       "    <tr>\n",
       "      <th>1</th>\n",
       "      <td>15945</td>\n",
       "      <td>1</td>\n",
       "      <td>52</td>\n",
       "      <td>365</td>\n",
       "      <td>181.0</td>\n",
       "      <td>181.0</td>\n",
       "      <td>2</td>\n",
       "      <td>0.0</td>\n",
       "      <td>1</td>\n",
       "      <td>0</td>\n",
       "      <td>0.0</td>\n",
       "    </tr>\n",
       "    <tr>\n",
       "      <th>2</th>\n",
       "      <td>14861</td>\n",
       "      <td>1</td>\n",
       "      <td>117</td>\n",
       "      <td>52</td>\n",
       "      <td>126.0</td>\n",
       "      <td>126.0</td>\n",
       "      <td>6</td>\n",
       "      <td>0.0</td>\n",
       "      <td>1</td>\n",
       "      <td>0</td>\n",
       "      <td>0.0</td>\n",
       "    </tr>\n",
       "    <tr>\n",
       "      <th>3</th>\n",
       "      <td>15944</td>\n",
       "      <td>1</td>\n",
       "      <td>50</td>\n",
       "      <td>276</td>\n",
       "      <td>325.0</td>\n",
       "      <td>325.0</td>\n",
       "      <td>6</td>\n",
       "      <td>0.0</td>\n",
       "      <td>1</td>\n",
       "      <td>0</td>\n",
       "      <td>0.0</td>\n",
       "    </tr>\n",
       "    <tr>\n",
       "      <th>4</th>\n",
       "      <td>13922</td>\n",
       "      <td>1</td>\n",
       "      <td>93</td>\n",
       "      <td>351</td>\n",
       "      <td>172.0</td>\n",
       "      <td>172.0</td>\n",
       "      <td>7</td>\n",
       "      <td>0.0</td>\n",
       "      <td>1</td>\n",
       "      <td>0</td>\n",
       "      <td>0.0</td>\n",
       "    </tr>\n",
       "  </tbody>\n",
       "</table>\n",
       "</div>"
      ],
      "text/plain": [
       "   CustomerID  purchase_cnt  item_cnt  recency  user_total  user_average  \\\n",
       "0       13099             1       288       99       207.0         207.0   \n",
       "1       15945             1        52      365       181.0         181.0   \n",
       "2       14861             1       117       52       126.0         126.0   \n",
       "3       15944             1        50      276       325.0         325.0   \n",
       "4       13922             1        93      351       172.0         172.0   \n",
       "\n",
       "   unique_products  average_interval  total_transactions  cancel_frequency  \\\n",
       "0                1               0.0                   1                 0   \n",
       "1                2               0.0                   1                 0   \n",
       "2                6               0.0                   1                 0   \n",
       "3                6               0.0                   1                 0   \n",
       "4                7               0.0                   1                 0   \n",
       "\n",
       "   cancel_rate  \n",
       "0          0.0  \n",
       "1          0.0  \n",
       "2          0.0  \n",
       "3          0.0  \n",
       "4          0.0  "
      ]
     },
     "execution_count": 7,
     "metadata": {},
     "output_type": "execute_result"
    }
   ],
   "source": [
    "user_data.head()"
   ]
  },
  {
   "cell_type": "code",
   "execution_count": null,
   "id": "091682bf",
   "metadata": {},
   "outputs": [],
   "source": []
  }
 ],
 "metadata": {
  "kernelspec": {
   "display_name": "Python 3 (ipykernel)",
   "language": "python",
   "name": "python3"
  },
  "language_info": {
   "codemirror_mode": {
    "name": "ipython",
    "version": 3
   },
   "file_extension": ".py",
   "mimetype": "text/x-python",
   "name": "python",
   "nbconvert_exporter": "python",
   "pygments_lexer": "ipython3",
   "version": "3.9.7"
  }
 },
 "nbformat": 4,
 "nbformat_minor": 5
}
