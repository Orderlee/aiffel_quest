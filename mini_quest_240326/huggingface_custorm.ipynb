{
 "cells": [
  {
   "cell_type": "markdown",
   "id": "85d29b86",
   "metadata": {},
   "source": [
    "# STEP 1. NSMC 데이터 분석 및 Huggingface dataset 구성\n",
    "- 데이터셋은 깃허브에서 다운받거나, [Huggingface datasets](https://huggingface.co/datasets)에서 가져올 수 있습니다. 앞에서 배운 방법들을 활용해봅시다!"
   ]
  },
  {
   "cell_type": "code",
   "execution_count": 1,
   "id": "84dc1eb4",
   "metadata": {
    "scrolled": false
   },
   "outputs": [
    {
     "name": "stderr",
     "output_type": "stream",
     "text": [
      "Using custom data configuration default\n",
      "Reusing dataset nsmc (/aiffel/.cache/huggingface/datasets/nsmc/default/1.1.0/bfd4729bf1a67114e5267e6916b9e4807010aeb238e4a3c2b95fbfa3a014b5f3)\n",
      "Using custom data configuration default\n",
      "Reusing dataset nsmc (/aiffel/.cache/huggingface/datasets/nsmc/default/1.1.0/bfd4729bf1a67114e5267e6916b9e4807010aeb238e4a3c2b95fbfa3a014b5f3)\n",
      "Using custom data configuration default\n",
      "Reusing dataset nsmc (/aiffel/.cache/huggingface/datasets/nsmc/default/1.1.0/bfd4729bf1a67114e5267e6916b9e4807010aeb238e4a3c2b95fbfa3a014b5f3)\n"
     ]
    }
   ],
   "source": [
    "import datasets\n",
    "from datasets import load_dataset, Dataset\n",
    "\n",
    "\n",
    "# huggingface_nsmc_dataset = load_dataset('nsmc')\n",
    "# print(huggingface_nsmc_dataset)\n",
    "\n",
    "train_data = load_dataset('nsmc', split='train[:7%]')\n",
    "val_data = load_dataset('nsmc' ,split='train[-3%:]')\n",
    "test_data = load_dataset('nsmc' ,split='test[:9%]')"
   ]
  },
  {
   "cell_type": "code",
   "execution_count": 2,
   "id": "c40552b4",
   "metadata": {},
   "outputs": [
    {
     "data": {
      "text/plain": [
       "Dataset({\n",
       "    features: ['id', 'document', 'label'],\n",
       "    num_rows: 10500\n",
       "})"
      ]
     },
     "execution_count": 2,
     "metadata": {},
     "output_type": "execute_result"
    }
   ],
   "source": [
    "train_data"
   ]
  },
  {
   "cell_type": "code",
   "execution_count": 3,
   "id": "8ef3d1b6",
   "metadata": {},
   "outputs": [
    {
     "data": {
      "text/plain": [
       "Dataset({\n",
       "    features: ['id', 'document', 'label'],\n",
       "    num_rows: 4500\n",
       "})"
      ]
     },
     "execution_count": 3,
     "metadata": {},
     "output_type": "execute_result"
    }
   ],
   "source": [
    "val_data"
   ]
  },
  {
   "cell_type": "code",
   "execution_count": 4,
   "id": "57a9ca6f",
   "metadata": {},
   "outputs": [
    {
     "data": {
      "text/plain": [
       "Dataset({\n",
       "    features: ['id', 'document', 'label'],\n",
       "    num_rows: 4500\n",
       "})"
      ]
     },
     "execution_count": 4,
     "metadata": {},
     "output_type": "execute_result"
    }
   ],
   "source": [
    "test_data"
   ]
  },
  {
   "cell_type": "markdown",
   "id": "e6d5c8e7",
   "metadata": {},
   "source": [
    "### 데이터 전처리"
   ]
  },
  {
   "cell_type": "code",
   "execution_count": 5,
   "id": "1fbcf106",
   "metadata": {},
   "outputs": [],
   "source": [
    "# import pandas as pd\n",
    "# train_df = pd.DataFrame(train_data, columns=['id', 'document', 'label'])"
   ]
  },
  {
   "cell_type": "code",
   "execution_count": 6,
   "id": "e15a2c40",
   "metadata": {},
   "outputs": [],
   "source": [
    "# train_df['document'].nunique(), train_df['label'].nunique()"
   ]
  },
  {
   "cell_type": "code",
   "execution_count": 7,
   "id": "452e92b3",
   "metadata": {},
   "outputs": [],
   "source": [
    "# train_df.drop_duplicates(subset=['document'], inplace=True)"
   ]
  },
  {
   "cell_type": "code",
   "execution_count": 8,
   "id": "8e929028",
   "metadata": {},
   "outputs": [],
   "source": [
    "# print('총 샘플의 수 :',len(train_df))"
   ]
  },
  {
   "cell_type": "code",
   "execution_count": 9,
   "id": "b55e1009",
   "metadata": {},
   "outputs": [],
   "source": [
    "# train_df['label'].value_counts().plot(kind='bar')"
   ]
  },
  {
   "cell_type": "code",
   "execution_count": 10,
   "id": "cc92f46f",
   "metadata": {},
   "outputs": [],
   "source": [
    "# print(train_df.groupby('label').size().reset_index(name='count'))"
   ]
  },
  {
   "cell_type": "code",
   "execution_count": 11,
   "id": "fdcd9713",
   "metadata": {},
   "outputs": [],
   "source": [
    "# print(train_df.isnull().values.any())"
   ]
  },
  {
   "cell_type": "code",
   "execution_count": 12,
   "id": "3abec197",
   "metadata": {},
   "outputs": [],
   "source": [
    "# # 한글과 공백을 제외하고 모두 제거\n",
    "# train_df['document'] = train_df['document'].str.replace(\"[^ㄱ-ㅎㅏ-ㅣ가-힣 ]\",\"\")\n",
    "# train_df[:5]"
   ]
  },
  {
   "cell_type": "code",
   "execution_count": 13,
   "id": "6fd20134",
   "metadata": {},
   "outputs": [],
   "source": [
    "# import numpy as np\n",
    "\n",
    "# # 공백만 있는 값들을 Null로 변경\n",
    "# train_df['document'] = train_df['document'].str.replace('^ +', \"\") # white space 데이터를 empty value로 변경\n",
    "# train_df['document'].replace('', np.nan, inplace=True)\n",
    "# print(train_df.isnull().sum())\n"
   ]
  },
  {
   "cell_type": "code",
   "execution_count": 14,
   "id": "e9c29768",
   "metadata": {},
   "outputs": [],
   "source": [
    "# train_df.loc[train_df.document.isnull()][:5]\n"
   ]
  },
  {
   "cell_type": "code",
   "execution_count": 15,
   "id": "d654a900",
   "metadata": {},
   "outputs": [],
   "source": [
    "# test_df = pd.DataFrame(test_data, columns=['id', 'document', 'label'])"
   ]
  },
  {
   "cell_type": "code",
   "execution_count": 16,
   "id": "7a5e04a9",
   "metadata": {},
   "outputs": [],
   "source": [
    "# test_df.drop_duplicates(subset = ['document'], inplace=True) # document 열에서 중복인 내용이 있다면 중복 제거\n",
    "# test_df['document'] = test_df['document'].str.replace(\"[^ㄱ-ㅎㅏ-ㅣ가-힣 ]\",\"\") # 정규 표현식 수행\n",
    "# test_df['document'] = test_df['document'].str.replace('^ +', \"\") # 공백은 empty 값으로 변경\n",
    "# test_df['document'].replace('', np.nan, inplace=True) # 공백은 Null 값으로 변경\n",
    "# test_df = test_df.dropna(how='any') # Null 값 제거\n",
    "# print('전처리 후 테스트용 샘플의 개수 :',len(test_df))"
   ]
  },
  {
   "cell_type": "code",
   "execution_count": 17,
   "id": "b4d61ef2",
   "metadata": {},
   "outputs": [],
   "source": [
    "# val_df = pd.DataFrame(val_data, columns=['id', 'document', 'label'])"
   ]
  },
  {
   "cell_type": "code",
   "execution_count": 18,
   "id": "1d45bcc2",
   "metadata": {},
   "outputs": [],
   "source": [
    "# val_df.drop_duplicates(subset = ['document'], inplace=True) # document 열에서 중복인 내용이 있다면 중복 제거\n",
    "# val_df['document'] = val_df['document'].str.replace(\"[^ㄱ-ㅎㅏ-ㅣ가-힣 ]\",\"\") # 정규 표현식 수행\n",
    "# val_df['document'] = val_df['document'].str.replace('^ +', \"\") # 공백은 empty 값으로 변경\n",
    "# val_df['document'].replace('', np.nan, inplace=True) # 공백은 Null 값으로 변경\n",
    "# val_df = val_df.dropna(how='any') # Null 값 제거\n",
    "# print('전처리 후 테스트용 샘플의 개수 :',len(val_df))"
   ]
  },
  {
   "cell_type": "code",
   "execution_count": 19,
   "id": "36c47378",
   "metadata": {},
   "outputs": [],
   "source": [
    "# train_dataset = Dataset.from_pandas(train_df)\n",
    "\n",
    "# # 변환 함수 적용\n",
    "# # transformed_dataset = train_dataset.map(transform, batched=True)"
   ]
  },
  {
   "cell_type": "code",
   "execution_count": 20,
   "id": "93274681",
   "metadata": {},
   "outputs": [],
   "source": [
    "# train_dataset"
   ]
  },
  {
   "cell_type": "code",
   "execution_count": 21,
   "id": "0168f057",
   "metadata": {},
   "outputs": [],
   "source": [
    "# train = huggingface_nsmc_dataset['train']\n",
    "# cols = train.column_names\n",
    "# cols"
   ]
  },
  {
   "cell_type": "code",
   "execution_count": 22,
   "id": "79dd561b",
   "metadata": {},
   "outputs": [],
   "source": [
    "# # for i in range(5):\n",
    "#     for col in cols:\n",
    "#         print(col, ':', train[col][i])\n",
    "#     print('\\n')"
   ]
  },
  {
   "cell_type": "markdown",
   "id": "86febccf",
   "metadata": {},
   "source": [
    "nsmc에는 train, 과 test로만 구성된것을 확인\n",
    "그리고 데이터 속 colum들도 확인한 결과 id, document, label 로 구성된것을 확인했다."
   ]
  },
  {
   "cell_type": "markdown",
   "id": "88be137d",
   "metadata": {},
   "source": [
    "# STEP 2. klue/bert-base model 및 tokenizer 불러오기"
   ]
  },
  {
   "cell_type": "code",
   "execution_count": 23,
   "id": "09ec743b",
   "metadata": {},
   "outputs": [
    {
     "name": "stderr",
     "output_type": "stream",
     "text": [
      "Some weights of the model checkpoint at klue/bert-base were not used when initializing BertForSequenceClassification: ['cls.predictions.transform.LayerNorm.weight', 'cls.seq_relationship.weight', 'cls.predictions.transform.dense.weight', 'cls.predictions.transform.LayerNorm.bias', 'cls.predictions.decoder.weight', 'cls.predictions.bias', 'cls.predictions.decoder.bias', 'cls.seq_relationship.bias', 'cls.predictions.transform.dense.bias']\n",
      "- This IS expected if you are initializing BertForSequenceClassification from the checkpoint of a model trained on another task or with another architecture (e.g. initializing a BertForSequenceClassification model from a BertForPreTraining model).\n",
      "- This IS NOT expected if you are initializing BertForSequenceClassification from the checkpoint of a model that you expect to be exactly identical (initializing a BertForSequenceClassification model from a BertForSequenceClassification model).\n",
      "Some weights of BertForSequenceClassification were not initialized from the model checkpoint at klue/bert-base and are newly initialized: ['classifier.bias', 'classifier.weight']\n",
      "You should probably TRAIN this model on a down-stream task to be able to use it for predictions and inference.\n"
     ]
    }
   ],
   "source": [
    "from transformers import AutoModel, AutoTokenizer, AutoModelForSequenceClassification\n",
    "\n",
    "model = AutoModelForSequenceClassification.from_pretrained(\"klue/bert-base\", num_labels=2)\n",
    "tokenizer = AutoTokenizer.from_pretrained(\"klue/bert-base\")\n",
    "\n",
    "\n",
    "# model = AutoModelForSequenceClassification.from_pretrained(\"klue/roberta-small\", num_labels=2)\n",
    "# tokenizer = AutoTokenizer.from_pretrained(\"klue/roberta-small\")\n"
   ]
  },
  {
   "cell_type": "code",
   "execution_count": 24,
   "id": "f87d9113",
   "metadata": {},
   "outputs": [],
   "source": [
    "def transform(data):\n",
    "    return tokenizer(\n",
    "        data['document'],\n",
    "        truncation=True,\n",
    "        padding='max_length',\n",
    "        return_token_type_ids=False,)"
   ]
  },
  {
   "cell_type": "code",
   "execution_count": 25,
   "id": "cc98d2e7",
   "metadata": {},
   "outputs": [
    {
     "name": "stderr",
     "output_type": "stream",
     "text": [
      "Loading cached processed dataset at /aiffel/.cache/huggingface/datasets/nsmc/default/1.1.0/bfd4729bf1a67114e5267e6916b9e4807010aeb238e4a3c2b95fbfa3a014b5f3/cache-a442af94df917b74.arrow\n",
      "Loading cached processed dataset at /aiffel/.cache/huggingface/datasets/nsmc/default/1.1.0/bfd4729bf1a67114e5267e6916b9e4807010aeb238e4a3c2b95fbfa3a014b5f3/cache-c0c2cd4ffd724df1.arrow\n",
      "Loading cached processed dataset at /aiffel/.cache/huggingface/datasets/nsmc/default/1.1.0/bfd4729bf1a67114e5267e6916b9e4807010aeb238e4a3c2b95fbfa3a014b5f3/cache-ddef61b6a2450974.arrow\n"
     ]
    }
   ],
   "source": [
    "train_data = train_data.map(transform, batched=True)\n",
    "test_data = test_data.map(transform, batched=True)\n",
    "val_data = val_data.map(transform, batched=True)"
   ]
  },
  {
   "cell_type": "code",
   "execution_count": null,
   "id": "bf43c0a9",
   "metadata": {},
   "outputs": [],
   "source": []
  },
  {
   "cell_type": "code",
   "execution_count": null,
   "id": "af333897",
   "metadata": {},
   "outputs": [],
   "source": []
  },
  {
   "cell_type": "code",
   "execution_count": null,
   "id": "adfb9839",
   "metadata": {},
   "outputs": [],
   "source": []
  },
  {
   "cell_type": "code",
   "execution_count": 26,
   "id": "c68fd31b",
   "metadata": {},
   "outputs": [],
   "source": [
    "# hf_dataset = huggingface_nsmc_dataset.map(transform, batched=True)\n",
    "\n",
    "# # train & validation & test split\n",
    "# # import random\n",
    "\n",
    "# # 무작위로 90000개의 데이터만 선택\n",
    "# hf_train_dataset = hf_dataset['train'][:]\n",
    "# # hf_train_dataset = hf_train_dataset.select(indices)\n",
    "# hf_test_dataset = hf_dataset['test'][:25000]\n",
    "# hf_val_dataset = hf_dataset['test'][25000:]"
   ]
  },
  {
   "cell_type": "code",
   "execution_count": 27,
   "id": "de657e2b",
   "metadata": {},
   "outputs": [],
   "source": [
    "# hf_test_dataset"
   ]
  },
  {
   "cell_type": "code",
   "execution_count": 28,
   "id": "22ac6ebd",
   "metadata": {},
   "outputs": [],
   "source": [
    "# hf_train_dataset"
   ]
  },
  {
   "cell_type": "markdown",
   "id": "3e6cd1a0",
   "metadata": {},
   "source": [
    "# STEP 3. 위에서 불러온 tokenizer으로 데이터셋을 전처리하고, model 학습 진행해 보기"
   ]
  },
  {
   "cell_type": "code",
   "execution_count": 29,
   "id": "ad129c04",
   "metadata": {},
   "outputs": [],
   "source": [
    "import os\n",
    "import numpy as np\n",
    "from transformers import Trainer, TrainingArguments\n",
    "\n",
    "output_dir = os.getenv(\"HOME\") + '/aiffel/aiffel_quest/mini_quest_240326'\n",
    "\n",
    "training_arguments = TrainingArguments(\n",
    "output_dir,                        # output이 저장될 경로\n",
    "evaluation_strategy='epoch',       # evaluation하는 빈도\n",
    "learning_rate=2e-5,                # learning_rate\n",
    "per_device_train_batch_size=14,     # 각 device 당 batch size(8)\n",
    "per_device_eval_batch_size=14,      # evaluation 시에 batch size(8)\n",
    "num_train_epochs=5,                # train 시킬 총 epochs\n",
    "weight_decay=0.01)                 # weight decay\n",
    "\n"
   ]
  },
  {
   "cell_type": "code",
   "execution_count": 30,
   "id": "4d3bf9ea",
   "metadata": {},
   "outputs": [],
   "source": [
    "# from datasets import load_metric\n",
    "# f1_metric = load_metric(\"f1\")\n",
    "# accuracy_metric = load_metric(\"accuracy\")\n",
    "\n",
    "# def compute_metrics(eval_pred):\n",
    "#     predictions, labels = eval_pred\n",
    "#     predictions = np.argmax(predictions, axis=1)\n",
    "    \n",
    "#     # F1 점수 계산\n",
    "#     f1_result = f1_metric.compute(predictions=predictions, references=labels)\n",
    "    \n",
    "#     # Accuracy 계산\n",
    "#     accuracy_result = accuracy_metric.compute(predictions=predictions, references=labels)\n",
    "    \n",
    "#     return {\"f1\": f1_result, \"accuracy\": accuracy_result}\n",
    "\n",
    "\n",
    "from datasets import load_metric\n",
    "metric = load_metric('accuracy')\n",
    "\n",
    "\n",
    "def compute_metrics(eval_pred):\n",
    "    predictions, labels = eval_pred\n",
    "    predictions = np.argmax(predictions, axis=1)\n",
    "    return metric.compute(predictions=predictions, references=labels)\n",
    "\n",
    "\n",
    "\n",
    "\n"
   ]
  },
  {
   "cell_type": "code",
   "execution_count": 31,
   "id": "15e228e3",
   "metadata": {},
   "outputs": [],
   "source": [
    "import torch\n",
    "\n",
    "# 코드 실행 중간에 GPU 메모리를 해제해야 하는 경우\n",
    "torch.cuda.empty_cache()\n"
   ]
  },
  {
   "cell_type": "code",
   "execution_count": 32,
   "id": "6cf15a56",
   "metadata": {},
   "outputs": [
    {
     "name": "stderr",
     "output_type": "stream",
     "text": [
      "The following columns in the training set  don't have a corresponding argument in `BertForSequenceClassification.forward` and have been ignored: document, id.\n",
      "***** Running training *****\n",
      "  Num examples = 10500\n",
      "  Num Epochs = 5\n",
      "  Instantaneous batch size per device = 14\n",
      "  Total train batch size (w. parallel, distributed & accumulation) = 14\n",
      "  Gradient Accumulation steps = 1\n",
      "  Total optimization steps = 3750\n"
     ]
    },
    {
     "data": {
      "text/html": [
       "\n",
       "    <div>\n",
       "      \n",
       "      <progress value='3750' max='3750' style='width:300px; height:20px; vertical-align: middle;'></progress>\n",
       "      [3750/3750 1:29:45, Epoch 5/5]\n",
       "    </div>\n",
       "    <table border=\"1\" class=\"dataframe\">\n",
       "  <thead>\n",
       "    <tr style=\"text-align: left;\">\n",
       "      <th>Epoch</th>\n",
       "      <th>Training Loss</th>\n",
       "      <th>Validation Loss</th>\n",
       "      <th>Accuracy</th>\n",
       "    </tr>\n",
       "  </thead>\n",
       "  <tbody>\n",
       "    <tr>\n",
       "      <td>1</td>\n",
       "      <td>0.373700</td>\n",
       "      <td>0.287949</td>\n",
       "      <td>0.877111</td>\n",
       "    </tr>\n",
       "    <tr>\n",
       "      <td>2</td>\n",
       "      <td>0.219700</td>\n",
       "      <td>0.306724</td>\n",
       "      <td>0.877333</td>\n",
       "    </tr>\n",
       "    <tr>\n",
       "      <td>3</td>\n",
       "      <td>0.125200</td>\n",
       "      <td>0.552791</td>\n",
       "      <td>0.880889</td>\n",
       "    </tr>\n",
       "    <tr>\n",
       "      <td>4</td>\n",
       "      <td>0.060100</td>\n",
       "      <td>0.698543</td>\n",
       "      <td>0.877778</td>\n",
       "    </tr>\n",
       "    <tr>\n",
       "      <td>5</td>\n",
       "      <td>0.037700</td>\n",
       "      <td>0.711291</td>\n",
       "      <td>0.879778</td>\n",
       "    </tr>\n",
       "  </tbody>\n",
       "</table><p>"
      ],
      "text/plain": [
       "<IPython.core.display.HTML object>"
      ]
     },
     "metadata": {},
     "output_type": "display_data"
    },
    {
     "name": "stderr",
     "output_type": "stream",
     "text": [
      "Saving model checkpoint to /aiffel/aiffel/aiffel_quest/mini_quest_240326/checkpoint-500\n",
      "Configuration saved in /aiffel/aiffel/aiffel_quest/mini_quest_240326/checkpoint-500/config.json\n",
      "Model weights saved in /aiffel/aiffel/aiffel_quest/mini_quest_240326/checkpoint-500/pytorch_model.bin\n",
      "The following columns in the evaluation set  don't have a corresponding argument in `BertForSequenceClassification.forward` and have been ignored: document, id.\n",
      "***** Running Evaluation *****\n",
      "  Num examples = 4500\n",
      "  Batch size = 14\n",
      "Saving model checkpoint to /aiffel/aiffel/aiffel_quest/mini_quest_240326/checkpoint-1000\n",
      "Configuration saved in /aiffel/aiffel/aiffel_quest/mini_quest_240326/checkpoint-1000/config.json\n",
      "Model weights saved in /aiffel/aiffel/aiffel_quest/mini_quest_240326/checkpoint-1000/pytorch_model.bin\n",
      "Saving model checkpoint to /aiffel/aiffel/aiffel_quest/mini_quest_240326/checkpoint-1500\n",
      "Configuration saved in /aiffel/aiffel/aiffel_quest/mini_quest_240326/checkpoint-1500/config.json\n",
      "Model weights saved in /aiffel/aiffel/aiffel_quest/mini_quest_240326/checkpoint-1500/pytorch_model.bin\n",
      "The following columns in the evaluation set  don't have a corresponding argument in `BertForSequenceClassification.forward` and have been ignored: document, id.\n",
      "***** Running Evaluation *****\n",
      "  Num examples = 4500\n",
      "  Batch size = 14\n",
      "Saving model checkpoint to /aiffel/aiffel/aiffel_quest/mini_quest_240326/checkpoint-2000\n",
      "Configuration saved in /aiffel/aiffel/aiffel_quest/mini_quest_240326/checkpoint-2000/config.json\n",
      "Model weights saved in /aiffel/aiffel/aiffel_quest/mini_quest_240326/checkpoint-2000/pytorch_model.bin\n",
      "The following columns in the evaluation set  don't have a corresponding argument in `BertForSequenceClassification.forward` and have been ignored: document, id.\n",
      "***** Running Evaluation *****\n",
      "  Num examples = 4500\n",
      "  Batch size = 14\n",
      "Saving model checkpoint to /aiffel/aiffel/aiffel_quest/mini_quest_240326/checkpoint-2500\n",
      "Configuration saved in /aiffel/aiffel/aiffel_quest/mini_quest_240326/checkpoint-2500/config.json\n",
      "Model weights saved in /aiffel/aiffel/aiffel_quest/mini_quest_240326/checkpoint-2500/pytorch_model.bin\n",
      "Saving model checkpoint to /aiffel/aiffel/aiffel_quest/mini_quest_240326/checkpoint-3000\n",
      "Configuration saved in /aiffel/aiffel/aiffel_quest/mini_quest_240326/checkpoint-3000/config.json\n",
      "Model weights saved in /aiffel/aiffel/aiffel_quest/mini_quest_240326/checkpoint-3000/pytorch_model.bin\n",
      "The following columns in the evaluation set  don't have a corresponding argument in `BertForSequenceClassification.forward` and have been ignored: document, id.\n",
      "***** Running Evaluation *****\n",
      "  Num examples = 4500\n",
      "  Batch size = 14\n",
      "Saving model checkpoint to /aiffel/aiffel/aiffel_quest/mini_quest_240326/checkpoint-3500\n",
      "Configuration saved in /aiffel/aiffel/aiffel_quest/mini_quest_240326/checkpoint-3500/config.json\n",
      "Model weights saved in /aiffel/aiffel/aiffel_quest/mini_quest_240326/checkpoint-3500/pytorch_model.bin\n",
      "The following columns in the evaluation set  don't have a corresponding argument in `BertForSequenceClassification.forward` and have been ignored: document, id.\n",
      "***** Running Evaluation *****\n",
      "  Num examples = 4500\n",
      "  Batch size = 14\n",
      "\n",
      "\n",
      "Training completed. Do not forget to share your model on huggingface.co/models =)\n",
      "\n",
      "\n"
     ]
    },
    {
     "name": "stdout",
     "output_type": "stream",
     "text": [
      "CPU times: user 1h 20min 5s, sys: 9min 36s, total: 1h 29min 42s\n",
      "Wall time: 1h 29min 51s\n"
     ]
    },
    {
     "data": {
      "text/plain": [
       "TrainOutput(global_step=3750, training_loss=0.16356908645629883, metrics={'train_runtime': 5386.8061, 'train_samples_per_second': 9.746, 'train_steps_per_second': 0.696, 'total_flos': 1.38133304064e+16, 'train_loss': 0.16356908645629883, 'epoch': 5.0})"
      ]
     },
     "execution_count": 32,
     "metadata": {},
     "output_type": "execute_result"
    }
   ],
   "source": [
    "%%time\n",
    "trainer = Trainer(\n",
    "    model=model,\n",
    "    args=training_arguments,\n",
    "    train_dataset=train_data,\n",
    "    eval_dataset=val_data,\n",
    "    compute_metrics=compute_metrics,)\n",
    "\n",
    "trainer.train()"
   ]
  },
  {
   "cell_type": "code",
   "execution_count": 33,
   "id": "558a1b0a",
   "metadata": {},
   "outputs": [
    {
     "name": "stderr",
     "output_type": "stream",
     "text": [
      "The following columns in the evaluation set  don't have a corresponding argument in `BertForSequenceClassification.forward` and have been ignored: document, id.\n",
      "***** Running Evaluation *****\n",
      "  Num examples = 4500\n",
      "  Batch size = 14\n"
     ]
    },
    {
     "data": {
      "text/html": [
       "\n",
       "    <div>\n",
       "      \n",
       "      <progress value='322' max='322' style='width:300px; height:20px; vertical-align: middle;'></progress>\n",
       "      [322/322 02:25]\n",
       "    </div>\n",
       "    "
      ],
      "text/plain": [
       "<IPython.core.display.HTML object>"
      ]
     },
     "metadata": {},
     "output_type": "display_data"
    },
    {
     "data": {
      "text/plain": [
       "{'eval_loss': 0.7022930383682251,\n",
       " 'eval_accuracy': 0.8782222222222222,\n",
       " 'eval_runtime': 146.1483,\n",
       " 'eval_samples_per_second': 30.791,\n",
       " 'eval_steps_per_second': 2.203,\n",
       " 'epoch': 5.0}"
      ]
     },
     "execution_count": 33,
     "metadata": {},
     "output_type": "execute_result"
    }
   ],
   "source": [
    "trainer.evaluate(test_data)"
   ]
  },
  {
   "cell_type": "markdown",
   "id": "55689f59",
   "metadata": {},
   "source": [
    "# STEP 4. Fine-tuning을 통하여 모델 성능(accuarcy) 향상시키기\n",
    "- 데이터 전처리, TrainingArguments 등을 조정하여 모델의 정확도를 90% 이상으로 끌어올려봅시다."
   ]
  },
  {
   "cell_type": "code",
   "execution_count": 34,
   "id": "15ad3367",
   "metadata": {},
   "outputs": [
    {
     "data": {
      "text/plain": [
       "38"
      ]
     },
     "execution_count": 34,
     "metadata": {},
     "output_type": "execute_result"
    }
   ],
   "source": [
    "import gc\n",
    "del training_arguments, trainer, model\n",
    "gc.collect()"
   ]
  },
  {
   "cell_type": "code",
   "execution_count": 35,
   "id": "5f7a4518",
   "metadata": {},
   "outputs": [
    {
     "name": "stderr",
     "output_type": "stream",
     "text": [
      "loading configuration file https://huggingface.co/klue/bert-base/resolve/main/config.json from cache at /aiffel/.cache/huggingface/transformers/fbd0b2ef898c4653902683fea8cc0dd99bf43f0e082645b913cda3b92429d1bb.99b3298ed554f2ad731c27cdb11a6215f39b90bc845ff5ce709bb4e74ba45621\n",
      "Model config BertConfig {\n",
      "  \"architectures\": [\n",
      "    \"BertForMaskedLM\"\n",
      "  ],\n",
      "  \"attention_probs_dropout_prob\": 0.1,\n",
      "  \"classifier_dropout\": null,\n",
      "  \"hidden_act\": \"gelu\",\n",
      "  \"hidden_dropout_prob\": 0.1,\n",
      "  \"hidden_size\": 768,\n",
      "  \"initializer_range\": 0.02,\n",
      "  \"intermediate_size\": 3072,\n",
      "  \"layer_norm_eps\": 1e-12,\n",
      "  \"max_position_embeddings\": 512,\n",
      "  \"model_type\": \"bert\",\n",
      "  \"num_attention_heads\": 12,\n",
      "  \"num_hidden_layers\": 12,\n",
      "  \"pad_token_id\": 0,\n",
      "  \"position_embedding_type\": \"absolute\",\n",
      "  \"transformers_version\": \"4.11.3\",\n",
      "  \"type_vocab_size\": 2,\n",
      "  \"use_cache\": true,\n",
      "  \"vocab_size\": 32000\n",
      "}\n",
      "\n",
      "loading weights file https://huggingface.co/klue/bert-base/resolve/main/pytorch_model.bin from cache at /aiffel/.cache/huggingface/transformers/05b36ee62545d769939a7746eca739b844a40a7a7553700f110b58b28ed6a949.7cb231256a5dbe886e12b902d05cb1241f330d8c19428508f91b2b28c1cfe0b6\n",
      "Some weights of the model checkpoint at klue/bert-base were not used when initializing BertForSequenceClassification: ['cls.predictions.transform.LayerNorm.weight', 'cls.seq_relationship.weight', 'cls.predictions.transform.dense.weight', 'cls.predictions.transform.LayerNorm.bias', 'cls.predictions.decoder.weight', 'cls.predictions.bias', 'cls.predictions.decoder.bias', 'cls.seq_relationship.bias', 'cls.predictions.transform.dense.bias']\n",
      "- This IS expected if you are initializing BertForSequenceClassification from the checkpoint of a model trained on another task or with another architecture (e.g. initializing a BertForSequenceClassification model from a BertForPreTraining model).\n",
      "- This IS NOT expected if you are initializing BertForSequenceClassification from the checkpoint of a model that you expect to be exactly identical (initializing a BertForSequenceClassification model from a BertForSequenceClassification model).\n",
      "Some weights of BertForSequenceClassification were not initialized from the model checkpoint at klue/bert-base and are newly initialized: ['classifier.bias', 'classifier.weight']\n",
      "You should probably TRAIN this model on a down-stream task to be able to use it for predictions and inference.\n",
      "loading configuration file https://huggingface.co/klue/bert-base/resolve/main/config.json from cache at /aiffel/.cache/huggingface/transformers/fbd0b2ef898c4653902683fea8cc0dd99bf43f0e082645b913cda3b92429d1bb.99b3298ed554f2ad731c27cdb11a6215f39b90bc845ff5ce709bb4e74ba45621\n",
      "Model config BertConfig {\n",
      "  \"architectures\": [\n",
      "    \"BertForMaskedLM\"\n",
      "  ],\n",
      "  \"attention_probs_dropout_prob\": 0.1,\n",
      "  \"classifier_dropout\": null,\n",
      "  \"hidden_act\": \"gelu\",\n",
      "  \"hidden_dropout_prob\": 0.1,\n",
      "  \"hidden_size\": 768,\n",
      "  \"initializer_range\": 0.02,\n",
      "  \"intermediate_size\": 3072,\n",
      "  \"layer_norm_eps\": 1e-12,\n",
      "  \"max_position_embeddings\": 512,\n",
      "  \"model_type\": \"bert\",\n",
      "  \"num_attention_heads\": 12,\n",
      "  \"num_hidden_layers\": 12,\n",
      "  \"pad_token_id\": 0,\n",
      "  \"position_embedding_type\": \"absolute\",\n",
      "  \"transformers_version\": \"4.11.3\",\n",
      "  \"type_vocab_size\": 2,\n",
      "  \"use_cache\": true,\n",
      "  \"vocab_size\": 32000\n",
      "}\n",
      "\n",
      "loading file https://huggingface.co/klue/bert-base/resolve/main/vocab.txt from cache at /aiffel/.cache/huggingface/transformers/1a36e69d48a008e522b75e43693002ffc8b6e6df72de7c53412c23466ec165eb.085110015ec67fc02ad067f712a7c83aafefaf31586a3361dd800bcac635b456\n",
      "loading file https://huggingface.co/klue/bert-base/resolve/main/tokenizer.json from cache at /aiffel/.cache/huggingface/transformers/310a974e892b181d75eed58b545cc0592d066ae4ef35cc760ea92e9b0bf65b3b.74f7933572f937b11a02b2cfb4e88a024059be36c84f53241b85b1fec49e21f7\n",
      "loading file https://huggingface.co/klue/bert-base/resolve/main/added_tokens.json from cache at None\n",
      "loading file https://huggingface.co/klue/bert-base/resolve/main/special_tokens_map.json from cache at /aiffel/.cache/huggingface/transformers/aeaaa3afd086a040be912f92ffe7b5f85008b744624f4517c4216bcc32b51cf0.054ece8d16bd524c8a00f0e8a976c00d5de22a755ffb79e353ee2954d9289e26\n",
      "loading file https://huggingface.co/klue/bert-base/resolve/main/tokenizer_config.json from cache at /aiffel/.cache/huggingface/transformers/f8f71eb411bb03f57b455cfb1b4e04ae124201312e67a3ad66e0a92d0c228325.78871951edcb66032caa0a9628d77b3557c23616c653dacdb7a1a8f33011a843\n",
      "loading configuration file https://huggingface.co/klue/bert-base/resolve/main/config.json from cache at /aiffel/.cache/huggingface/transformers/fbd0b2ef898c4653902683fea8cc0dd99bf43f0e082645b913cda3b92429d1bb.99b3298ed554f2ad731c27cdb11a6215f39b90bc845ff5ce709bb4e74ba45621\n",
      "Model config BertConfig {\n",
      "  \"architectures\": [\n",
      "    \"BertForMaskedLM\"\n",
      "  ],\n",
      "  \"attention_probs_dropout_prob\": 0.1,\n",
      "  \"classifier_dropout\": null,\n",
      "  \"hidden_act\": \"gelu\",\n",
      "  \"hidden_dropout_prob\": 0.1,\n",
      "  \"hidden_size\": 768,\n",
      "  \"initializer_range\": 0.02,\n",
      "  \"intermediate_size\": 3072,\n",
      "  \"layer_norm_eps\": 1e-12,\n",
      "  \"max_position_embeddings\": 512,\n",
      "  \"model_type\": \"bert\",\n",
      "  \"num_attention_heads\": 12,\n",
      "  \"num_hidden_layers\": 12,\n",
      "  \"pad_token_id\": 0,\n",
      "  \"position_embedding_type\": \"absolute\",\n",
      "  \"transformers_version\": \"4.11.3\",\n",
      "  \"type_vocab_size\": 2,\n",
      "  \"use_cache\": true,\n",
      "  \"vocab_size\": 32000\n",
      "}\n",
      "\n"
     ]
    }
   ],
   "source": [
    "model = AutoModelForSequenceClassification.from_pretrained(\"klue/bert-base\", num_labels=2)\n",
    "tokenizer = AutoTokenizer.from_pretrained(\"klue/bert-base\")\n",
    "\n",
    "# model = AutoModelForSequenceClassification.from_pretrained(\"klue/roberta-small\", num_labels=2)\n",
    "# tokenizer = AutoTokenizer.from_pretrained(\"klue/roberta-small\")"
   ]
  },
  {
   "cell_type": "code",
   "execution_count": 36,
   "id": "bc6c0781",
   "metadata": {},
   "outputs": [
    {
     "name": "stderr",
     "output_type": "stream",
     "text": [
      "PyTorch: setting up devices\n",
      "The default value for the training argument `--report_to` will change in v5 (from all installed integrations to none). In v5, you will need to use `--report_to all` to get the same behavior as now. You should start updating your code and make this info disappear :-).\n"
     ]
    }
   ],
   "source": [
    "output_dir = os.getenv(\"HOME\") + '/aiffel/aiffel_quest/mini_quest_240326'\n",
    "\n",
    "training_arguments = TrainingArguments(\n",
    "output_dir,                        # output이 저장될 경로\n",
    "evaluation_strategy='epoch',       # evaluation하는 빈도\n",
    "learning_rate=5e-5,                # learning_rate\n",
    "per_device_train_batch_size=14,     # 각 device 당 batch size(8)\n",
    "per_device_eval_batch_size=14,      # evaluation 시에 batch size(8)\n",
    "num_train_epochs=3,                # train 시킬 총 epochs\n",
    "weight_decay=0.01)                 # weight decay\n",
    "\n"
   ]
  },
  {
   "cell_type": "code",
   "execution_count": 37,
   "id": "a8a5d7b8",
   "metadata": {},
   "outputs": [
    {
     "name": "stderr",
     "output_type": "stream",
     "text": [
      "The following columns in the training set  don't have a corresponding argument in `BertForSequenceClassification.forward` and have been ignored: document, id.\n",
      "***** Running training *****\n",
      "  Num examples = 10500\n",
      "  Num Epochs = 3\n",
      "  Instantaneous batch size per device = 14\n",
      "  Total train batch size (w. parallel, distributed & accumulation) = 14\n",
      "  Gradient Accumulation steps = 1\n",
      "  Total optimization steps = 2250\n"
     ]
    },
    {
     "data": {
      "text/html": [
       "\n",
       "    <div>\n",
       "      \n",
       "      <progress value='2250' max='2250' style='width:300px; height:20px; vertical-align: middle;'></progress>\n",
       "      [2250/2250 54:34, Epoch 3/3]\n",
       "    </div>\n",
       "    <table border=\"1\" class=\"dataframe\">\n",
       "  <thead>\n",
       "    <tr style=\"text-align: left;\">\n",
       "      <th>Epoch</th>\n",
       "      <th>Training Loss</th>\n",
       "      <th>Validation Loss</th>\n",
       "      <th>Accuracy</th>\n",
       "    </tr>\n",
       "  </thead>\n",
       "  <tbody>\n",
       "    <tr>\n",
       "      <td>1</td>\n",
       "      <td>0.386900</td>\n",
       "      <td>0.327417</td>\n",
       "      <td>0.865111</td>\n",
       "    </tr>\n",
       "    <tr>\n",
       "      <td>2</td>\n",
       "      <td>0.215600</td>\n",
       "      <td>0.345009</td>\n",
       "      <td>0.876222</td>\n",
       "    </tr>\n",
       "    <tr>\n",
       "      <td>3</td>\n",
       "      <td>0.093100</td>\n",
       "      <td>0.558512</td>\n",
       "      <td>0.878889</td>\n",
       "    </tr>\n",
       "  </tbody>\n",
       "</table><p>"
      ],
      "text/plain": [
       "<IPython.core.display.HTML object>"
      ]
     },
     "metadata": {},
     "output_type": "display_data"
    },
    {
     "name": "stderr",
     "output_type": "stream",
     "text": [
      "Saving model checkpoint to /aiffel/aiffel/aiffel_quest/mini_quest_240326/checkpoint-500\n",
      "Configuration saved in /aiffel/aiffel/aiffel_quest/mini_quest_240326/checkpoint-500/config.json\n",
      "Model weights saved in /aiffel/aiffel/aiffel_quest/mini_quest_240326/checkpoint-500/pytorch_model.bin\n",
      "The following columns in the evaluation set  don't have a corresponding argument in `BertForSequenceClassification.forward` and have been ignored: document, id.\n",
      "***** Running Evaluation *****\n",
      "  Num examples = 4500\n",
      "  Batch size = 14\n",
      "Saving model checkpoint to /aiffel/aiffel/aiffel_quest/mini_quest_240326/checkpoint-1000\n",
      "Configuration saved in /aiffel/aiffel/aiffel_quest/mini_quest_240326/checkpoint-1000/config.json\n",
      "Model weights saved in /aiffel/aiffel/aiffel_quest/mini_quest_240326/checkpoint-1000/pytorch_model.bin\n",
      "Saving model checkpoint to /aiffel/aiffel/aiffel_quest/mini_quest_240326/checkpoint-1500\n",
      "Configuration saved in /aiffel/aiffel/aiffel_quest/mini_quest_240326/checkpoint-1500/config.json\n",
      "Model weights saved in /aiffel/aiffel/aiffel_quest/mini_quest_240326/checkpoint-1500/pytorch_model.bin\n",
      "The following columns in the evaluation set  don't have a corresponding argument in `BertForSequenceClassification.forward` and have been ignored: document, id.\n",
      "***** Running Evaluation *****\n",
      "  Num examples = 4500\n",
      "  Batch size = 14\n",
      "Saving model checkpoint to /aiffel/aiffel/aiffel_quest/mini_quest_240326/checkpoint-2000\n",
      "Configuration saved in /aiffel/aiffel/aiffel_quest/mini_quest_240326/checkpoint-2000/config.json\n",
      "Model weights saved in /aiffel/aiffel/aiffel_quest/mini_quest_240326/checkpoint-2000/pytorch_model.bin\n",
      "The following columns in the evaluation set  don't have a corresponding argument in `BertForSequenceClassification.forward` and have been ignored: document, id.\n",
      "***** Running Evaluation *****\n",
      "  Num examples = 4500\n",
      "  Batch size = 14\n",
      "\n",
      "\n",
      "Training completed. Do not forget to share your model on huggingface.co/models =)\n",
      "\n",
      "\n"
     ]
    },
    {
     "name": "stdout",
     "output_type": "stream",
     "text": [
      "CPU times: user 47min 58s, sys: 5min 46s, total: 53min 45s\n",
      "Wall time: 54min 35s\n"
     ]
    },
    {
     "data": {
      "text/plain": [
       "TrainOutput(global_step=2250, training_loss=0.22607358127170138, metrics={'train_runtime': 3275.6901, 'train_samples_per_second': 9.616, 'train_steps_per_second': 0.687, 'total_flos': 8287998243840000.0, 'train_loss': 0.22607358127170138, 'epoch': 3.0})"
      ]
     },
     "execution_count": 37,
     "metadata": {},
     "output_type": "execute_result"
    }
   ],
   "source": [
    "%%time\n",
    "trainer = Trainer(\n",
    "    model=model,\n",
    "    args=training_arguments,\n",
    "    train_dataset=train_data,\n",
    "    eval_dataset=val_data,\n",
    "    compute_metrics=compute_metrics,)\n",
    "\n",
    "trainer.train()"
   ]
  },
  {
   "cell_type": "code",
   "execution_count": 38,
   "id": "74cdf882",
   "metadata": {},
   "outputs": [
    {
     "name": "stderr",
     "output_type": "stream",
     "text": [
      "The following columns in the evaluation set  don't have a corresponding argument in `BertForSequenceClassification.forward` and have been ignored: document, id.\n",
      "***** Running Evaluation *****\n",
      "  Num examples = 4500\n",
      "  Batch size = 14\n"
     ]
    },
    {
     "data": {
      "text/html": [
       "\n",
       "    <div>\n",
       "      \n",
       "      <progress value='322' max='322' style='width:300px; height:20px; vertical-align: middle;'></progress>\n",
       "      [322/322 02:25]\n",
       "    </div>\n",
       "    "
      ],
      "text/plain": [
       "<IPython.core.display.HTML object>"
      ]
     },
     "metadata": {},
     "output_type": "display_data"
    },
    {
     "data": {
      "text/plain": [
       "{'eval_loss': 0.5776839256286621,\n",
       " 'eval_accuracy': 0.8722222222222222,\n",
       " 'eval_runtime': 145.7294,\n",
       " 'eval_samples_per_second': 30.879,\n",
       " 'eval_steps_per_second': 2.21,\n",
       " 'epoch': 3.0}"
      ]
     },
     "execution_count": 38,
     "metadata": {},
     "output_type": "execute_result"
    }
   ],
   "source": [
    "trainer.evaluate(test_data)"
   ]
  },
  {
   "cell_type": "markdown",
   "id": "664c3036",
   "metadata": {},
   "source": [
    "# STEP 5. Bucketing을 적용하여 학습시키고, STEP 4의 결과와의 비교\n",
    "- 아래 링크를 바탕으로 bucketing과 dynamic padding이 무엇인지 알아보고, 이들을 적용하여 model을 학습시킵니다.\n",
    "    - [Data Collator](https://huggingface.co/docs/transformers/v4.30.0/en/main_classes/data_collator)\n",
    "    - [Trainer.TrainingArguments 의 group_by_length](https://huggingface.co/docs/transformers/main_classes/trainer#transformers.TrainingArguments)\n",
    "- STEP 4에 학습한 결과와 bucketing을 적용하여 학습시킨 결과를 비교해보고, 모델 성능 향상과 훈련 시간 두 가지 측면에서 각각 어떤 이점이 있는지 비교해봅시다."
   ]
  },
  {
   "cell_type": "code",
   "execution_count": 44,
   "id": "ae965513",
   "metadata": {},
   "outputs": [
    {
     "data": {
      "text/plain": [
       "18"
      ]
     },
     "execution_count": 44,
     "metadata": {},
     "output_type": "execute_result"
    }
   ],
   "source": [
    "del training_arguments, trainer, model, tokenizer\n",
    "gc.collect()"
   ]
  },
  {
   "cell_type": "code",
   "execution_count": 45,
   "id": "a0a641e7",
   "metadata": {},
   "outputs": [
    {
     "name": "stderr",
     "output_type": "stream",
     "text": [
      "loading configuration file https://huggingface.co/klue/roberta-small/resolve/main/config.json from cache at /aiffel/.cache/huggingface/transformers/6aa0817a5b48e36ec821c3d9cb8267f2dda41a32b317311688f06c742b6b2a1d.7f009d6b27d54554dce063a5fc8273742e9a198f6f627aada4bc5ea2dbbc0313\n",
      "Model config RobertaConfig {\n",
      "  \"architectures\": [\n",
      "    \"RobertaForMaskedLM\"\n",
      "  ],\n",
      "  \"attention_probs_dropout_prob\": 0.1,\n",
      "  \"bos_token_id\": 0,\n",
      "  \"classifier_dropout\": null,\n",
      "  \"eos_token_id\": 2,\n",
      "  \"gradient_checkpointing\": false,\n",
      "  \"hidden_act\": \"gelu\",\n",
      "  \"hidden_dropout_prob\": 0.1,\n",
      "  \"hidden_size\": 768,\n",
      "  \"initializer_range\": 0.02,\n",
      "  \"intermediate_size\": 3072,\n",
      "  \"layer_norm_eps\": 1e-05,\n",
      "  \"max_position_embeddings\": 514,\n",
      "  \"model_type\": \"roberta\",\n",
      "  \"num_attention_heads\": 12,\n",
      "  \"num_hidden_layers\": 6,\n",
      "  \"pad_token_id\": 1,\n",
      "  \"position_embedding_type\": \"absolute\",\n",
      "  \"tokenizer_class\": \"BertTokenizer\",\n",
      "  \"transformers_version\": \"4.11.3\",\n",
      "  \"type_vocab_size\": 1,\n",
      "  \"use_cache\": true,\n",
      "  \"vocab_size\": 32000\n",
      "}\n",
      "\n",
      "loading weights file https://huggingface.co/klue/roberta-small/resolve/main/pytorch_model.bin from cache at /aiffel/.cache/huggingface/transformers/fafa42c8bb6f4b1313506774e000bc35d156dce6eb02c75a5e4a37405e0bac4a.57e9f25d17aa6a6c07d65c9c33f5319ede6e71bccfe0f3910dddf6a7598919d9\n",
      "Some weights of the model checkpoint at klue/roberta-small were not used when initializing RobertaForSequenceClassification: ['lm_head.dense.weight', 'lm_head.dense.bias', 'lm_head.layer_norm.bias', 'lm_head.decoder.bias', 'lm_head.bias', 'lm_head.decoder.weight', 'lm_head.layer_norm.weight']\n",
      "- This IS expected if you are initializing RobertaForSequenceClassification from the checkpoint of a model trained on another task or with another architecture (e.g. initializing a BertForSequenceClassification model from a BertForPreTraining model).\n",
      "- This IS NOT expected if you are initializing RobertaForSequenceClassification from the checkpoint of a model that you expect to be exactly identical (initializing a BertForSequenceClassification model from a BertForSequenceClassification model).\n",
      "Some weights of RobertaForSequenceClassification were not initialized from the model checkpoint at klue/roberta-small and are newly initialized: ['classifier.out_proj.bias', 'classifier.dense.bias', 'classifier.dense.weight', 'classifier.out_proj.weight']\n",
      "You should probably TRAIN this model on a down-stream task to be able to use it for predictions and inference.\n",
      "loading file https://huggingface.co/klue/roberta-small/resolve/main/vocab.txt from cache at /aiffel/.cache/huggingface/transformers/bdc674caf9fa028a31519ca20a1382eb8a04fd24d25e53cf739fdce04040a860.d1b86bed49516351c7bb29b19d7e7be2ab53b931bcb1f9b2aacfb71f2124d25a\n",
      "loading file https://huggingface.co/klue/roberta-small/resolve/main/tokenizer.json from cache at /aiffel/.cache/huggingface/transformers/53e1834914ad16bfb05201950994b448fbe4afaac39ec44ce2d02a1c7c27e20d.44c30ade4958fcfd446e66025e10a5b380cdd0bbe9b3fb7a794f357e7f0f34c2\n",
      "loading file https://huggingface.co/klue/roberta-small/resolve/main/added_tokens.json from cache at None\n",
      "loading file https://huggingface.co/klue/roberta-small/resolve/main/special_tokens_map.json from cache at /aiffel/.cache/huggingface/transformers/9ce71a5afff600bb47488785ec31125c4a485302e21d660291b10925f8bfcb67.70c17d6e4d492c8f24f5bb97ab56c7f272e947112c6faf9dd846da42ba13eb23\n",
      "loading file https://huggingface.co/klue/roberta-small/resolve/main/tokenizer_config.json from cache at /aiffel/.cache/huggingface/transformers/ba870c5a767afeacf58a256013d35f5293df17fa80a89b7b82e28ee08e290a27.5b0ba083b234382bb4c99ee0c9f4fca4cadaa053dd17c32dabfe0de2f629af1f\n"
     ]
    }
   ],
   "source": [
    "\n",
    "model = AutoModelForSequenceClassification.from_pretrained(\"klue/roberta-small\", num_labels=2)\n",
    "tokenizer = AutoTokenizer.from_pretrained(\"klue/roberta-small\", use_fast=True)\n"
   ]
  },
  {
   "cell_type": "code",
   "execution_count": 48,
   "id": "dd25aaee",
   "metadata": {},
   "outputs": [
    {
     "name": "stderr",
     "output_type": "stream",
     "text": [
      "PyTorch: setting up devices\n",
      "The default value for the training argument `--report_to` will change in v5 (from all installed integrations to none). In v5, you will need to use `--report_to all` to get the same behavior as now. You should start updating your code and make this info disappear :-).\n"
     ]
    }
   ],
   "source": [
    "output_dir = os.getenv(\"HOME\") + '/aiffel/aiffel_quest/mini_quest_240326'\n",
    "\n",
    "training_arguments = TrainingArguments(\n",
    "output_dir,                        # output이 저장될 경로\n",
    "evaluation_strategy='epoch',       # evaluation하는 빈도\n",
    "learning_rate=5e-5,                # learning_rate\n",
    "per_device_train_batch_size=10,     # 각 device 당 batch size(8)\n",
    "per_device_eval_batch_size=10,      # evaluation 시에 batch size(8)\n",
    "num_train_epochs=5,                # train 시킬 총 epochs\n",
    "group_by_length=True,\n",
    "weight_decay=0.01)                 # weight decay\n"
   ]
  },
  {
   "cell_type": "code",
   "execution_count": 49,
   "id": "aad6b16f",
   "metadata": {},
   "outputs": [
    {
     "name": "stderr",
     "output_type": "stream",
     "text": [
      "The following columns in the training set  don't have a corresponding argument in `RobertaForSequenceClassification.forward` and have been ignored: document, id.\n",
      "***** Running training *****\n",
      "  Num examples = 10500\n",
      "  Num Epochs = 5\n",
      "  Instantaneous batch size per device = 10\n",
      "  Total train batch size (w. parallel, distributed & accumulation) = 10\n",
      "  Gradient Accumulation steps = 1\n",
      "  Total optimization steps = 5250\n"
     ]
    },
    {
     "data": {
      "text/html": [
       "\n",
       "    <div>\n",
       "      \n",
       "      <progress value='5250' max='5250' style='width:300px; height:20px; vertical-align: middle;'></progress>\n",
       "      [5250/5250 46:27, Epoch 5/5]\n",
       "    </div>\n",
       "    <table border=\"1\" class=\"dataframe\">\n",
       "  <thead>\n",
       "    <tr style=\"text-align: left;\">\n",
       "      <th>Epoch</th>\n",
       "      <th>Training Loss</th>\n",
       "      <th>Validation Loss</th>\n",
       "      <th>Accuracy</th>\n",
       "    </tr>\n",
       "  </thead>\n",
       "  <tbody>\n",
       "    <tr>\n",
       "      <td>1</td>\n",
       "      <td>0.421300</td>\n",
       "      <td>0.363625</td>\n",
       "      <td>0.849333</td>\n",
       "    </tr>\n",
       "    <tr>\n",
       "      <td>2</td>\n",
       "      <td>0.329500</td>\n",
       "      <td>0.491835</td>\n",
       "      <td>0.850889</td>\n",
       "    </tr>\n",
       "    <tr>\n",
       "      <td>3</td>\n",
       "      <td>0.208200</td>\n",
       "      <td>0.608962</td>\n",
       "      <td>0.854889</td>\n",
       "    </tr>\n",
       "    <tr>\n",
       "      <td>4</td>\n",
       "      <td>0.130700</td>\n",
       "      <td>0.659481</td>\n",
       "      <td>0.858000</td>\n",
       "    </tr>\n",
       "    <tr>\n",
       "      <td>5</td>\n",
       "      <td>0.083100</td>\n",
       "      <td>0.782902</td>\n",
       "      <td>0.853111</td>\n",
       "    </tr>\n",
       "  </tbody>\n",
       "</table><p>"
      ],
      "text/plain": [
       "<IPython.core.display.HTML object>"
      ]
     },
     "metadata": {},
     "output_type": "display_data"
    },
    {
     "name": "stderr",
     "output_type": "stream",
     "text": [
      "Saving model checkpoint to /aiffel/aiffel/aiffel_quest/mini_quest_240326/checkpoint-500\n",
      "Configuration saved in /aiffel/aiffel/aiffel_quest/mini_quest_240326/checkpoint-500/config.json\n",
      "Model weights saved in /aiffel/aiffel/aiffel_quest/mini_quest_240326/checkpoint-500/pytorch_model.bin\n",
      "Saving model checkpoint to /aiffel/aiffel/aiffel_quest/mini_quest_240326/checkpoint-1000\n",
      "Configuration saved in /aiffel/aiffel/aiffel_quest/mini_quest_240326/checkpoint-1000/config.json\n",
      "Model weights saved in /aiffel/aiffel/aiffel_quest/mini_quest_240326/checkpoint-1000/pytorch_model.bin\n",
      "The following columns in the evaluation set  don't have a corresponding argument in `RobertaForSequenceClassification.forward` and have been ignored: document, id.\n",
      "***** Running Evaluation *****\n",
      "  Num examples = 4500\n",
      "  Batch size = 10\n",
      "Saving model checkpoint to /aiffel/aiffel/aiffel_quest/mini_quest_240326/checkpoint-1500\n",
      "Configuration saved in /aiffel/aiffel/aiffel_quest/mini_quest_240326/checkpoint-1500/config.json\n",
      "Model weights saved in /aiffel/aiffel/aiffel_quest/mini_quest_240326/checkpoint-1500/pytorch_model.bin\n",
      "Saving model checkpoint to /aiffel/aiffel/aiffel_quest/mini_quest_240326/checkpoint-2000\n",
      "Configuration saved in /aiffel/aiffel/aiffel_quest/mini_quest_240326/checkpoint-2000/config.json\n",
      "Model weights saved in /aiffel/aiffel/aiffel_quest/mini_quest_240326/checkpoint-2000/pytorch_model.bin\n",
      "The following columns in the evaluation set  don't have a corresponding argument in `RobertaForSequenceClassification.forward` and have been ignored: document, id.\n",
      "***** Running Evaluation *****\n",
      "  Num examples = 4500\n",
      "  Batch size = 10\n",
      "Saving model checkpoint to /aiffel/aiffel/aiffel_quest/mini_quest_240326/checkpoint-2500\n",
      "Configuration saved in /aiffel/aiffel/aiffel_quest/mini_quest_240326/checkpoint-2500/config.json\n",
      "Model weights saved in /aiffel/aiffel/aiffel_quest/mini_quest_240326/checkpoint-2500/pytorch_model.bin\n",
      "Saving model checkpoint to /aiffel/aiffel/aiffel_quest/mini_quest_240326/checkpoint-3000\n",
      "Configuration saved in /aiffel/aiffel/aiffel_quest/mini_quest_240326/checkpoint-3000/config.json\n",
      "Model weights saved in /aiffel/aiffel/aiffel_quest/mini_quest_240326/checkpoint-3000/pytorch_model.bin\n",
      "The following columns in the evaluation set  don't have a corresponding argument in `RobertaForSequenceClassification.forward` and have been ignored: document, id.\n",
      "***** Running Evaluation *****\n",
      "  Num examples = 4500\n",
      "  Batch size = 10\n",
      "Saving model checkpoint to /aiffel/aiffel/aiffel_quest/mini_quest_240326/checkpoint-3500\n",
      "Configuration saved in /aiffel/aiffel/aiffel_quest/mini_quest_240326/checkpoint-3500/config.json\n",
      "Model weights saved in /aiffel/aiffel/aiffel_quest/mini_quest_240326/checkpoint-3500/pytorch_model.bin\n",
      "Saving model checkpoint to /aiffel/aiffel/aiffel_quest/mini_quest_240326/checkpoint-4000\n",
      "Configuration saved in /aiffel/aiffel/aiffel_quest/mini_quest_240326/checkpoint-4000/config.json\n",
      "Model weights saved in /aiffel/aiffel/aiffel_quest/mini_quest_240326/checkpoint-4000/pytorch_model.bin\n",
      "The following columns in the evaluation set  don't have a corresponding argument in `RobertaForSequenceClassification.forward` and have been ignored: document, id.\n",
      "***** Running Evaluation *****\n",
      "  Num examples = 4500\n",
      "  Batch size = 10\n",
      "Saving model checkpoint to /aiffel/aiffel/aiffel_quest/mini_quest_240326/checkpoint-4500\n",
      "Configuration saved in /aiffel/aiffel/aiffel_quest/mini_quest_240326/checkpoint-4500/config.json\n",
      "Model weights saved in /aiffel/aiffel/aiffel_quest/mini_quest_240326/checkpoint-4500/pytorch_model.bin\n",
      "Saving model checkpoint to /aiffel/aiffel/aiffel_quest/mini_quest_240326/checkpoint-5000\n",
      "Configuration saved in /aiffel/aiffel/aiffel_quest/mini_quest_240326/checkpoint-5000/config.json\n",
      "Model weights saved in /aiffel/aiffel/aiffel_quest/mini_quest_240326/checkpoint-5000/pytorch_model.bin\n",
      "The following columns in the evaluation set  don't have a corresponding argument in `RobertaForSequenceClassification.forward` and have been ignored: document, id.\n",
      "***** Running Evaluation *****\n",
      "  Num examples = 4500\n",
      "  Batch size = 10\n",
      "\n",
      "\n",
      "Training completed. Do not forget to share your model on huggingface.co/models =)\n",
      "\n",
      "\n"
     ]
    },
    {
     "name": "stdout",
     "output_type": "stream",
     "text": [
      "CPU times: user 45min 23s, sys: 16.5 s, total: 45min 40s\n",
      "Wall time: 46min 32s\n"
     ]
    },
    {
     "data": {
      "text/plain": [
       "TrainOutput(global_step=5250, training_loss=0.24319228744506835, metrics={'train_runtime': 2787.9867, 'train_samples_per_second': 18.831, 'train_steps_per_second': 1.883, 'total_flos': 6954538429440000.0, 'train_loss': 0.24319228744506835, 'epoch': 5.0})"
      ]
     },
     "execution_count": 49,
     "metadata": {},
     "output_type": "execute_result"
    }
   ],
   "source": [
    "%%time\n",
    "trainer = Trainer(\n",
    "    model=model,\n",
    "    args=training_arguments,\n",
    "    train_dataset=train_data,\n",
    "    eval_dataset=val_data,\n",
    "    compute_metrics=compute_metrics,)\n",
    "\n",
    "trainer.train()"
   ]
  },
  {
   "cell_type": "code",
   "execution_count": 50,
   "id": "a43ba660",
   "metadata": {},
   "outputs": [
    {
     "name": "stderr",
     "output_type": "stream",
     "text": [
      "loading configuration file https://huggingface.co/klue/bert-base/resolve/main/config.json from cache at /aiffel/.cache/huggingface/transformers/fbd0b2ef898c4653902683fea8cc0dd99bf43f0e082645b913cda3b92429d1bb.99b3298ed554f2ad731c27cdb11a6215f39b90bc845ff5ce709bb4e74ba45621\n",
      "Model config BertConfig {\n",
      "  \"architectures\": [\n",
      "    \"BertForMaskedLM\"\n",
      "  ],\n",
      "  \"attention_probs_dropout_prob\": 0.1,\n",
      "  \"classifier_dropout\": null,\n",
      "  \"hidden_act\": \"gelu\",\n",
      "  \"hidden_dropout_prob\": 0.1,\n",
      "  \"hidden_size\": 768,\n",
      "  \"initializer_range\": 0.02,\n",
      "  \"intermediate_size\": 3072,\n",
      "  \"layer_norm_eps\": 1e-12,\n",
      "  \"max_position_embeddings\": 512,\n",
      "  \"model_type\": \"bert\",\n",
      "  \"num_attention_heads\": 12,\n",
      "  \"num_hidden_layers\": 12,\n",
      "  \"pad_token_id\": 0,\n",
      "  \"position_embedding_type\": \"absolute\",\n",
      "  \"transformers_version\": \"4.11.3\",\n",
      "  \"type_vocab_size\": 2,\n",
      "  \"use_cache\": true,\n",
      "  \"vocab_size\": 32000\n",
      "}\n",
      "\n",
      "loading file https://huggingface.co/klue/bert-base/resolve/main/vocab.txt from cache at /aiffel/.cache/huggingface/transformers/1a36e69d48a008e522b75e43693002ffc8b6e6df72de7c53412c23466ec165eb.085110015ec67fc02ad067f712a7c83aafefaf31586a3361dd800bcac635b456\n",
      "loading file https://huggingface.co/klue/bert-base/resolve/main/tokenizer.json from cache at /aiffel/.cache/huggingface/transformers/310a974e892b181d75eed58b545cc0592d066ae4ef35cc760ea92e9b0bf65b3b.74f7933572f937b11a02b2cfb4e88a024059be36c84f53241b85b1fec49e21f7\n",
      "loading file https://huggingface.co/klue/bert-base/resolve/main/added_tokens.json from cache at None\n",
      "loading file https://huggingface.co/klue/bert-base/resolve/main/special_tokens_map.json from cache at /aiffel/.cache/huggingface/transformers/aeaaa3afd086a040be912f92ffe7b5f85008b744624f4517c4216bcc32b51cf0.054ece8d16bd524c8a00f0e8a976c00d5de22a755ffb79e353ee2954d9289e26\n",
      "loading file https://huggingface.co/klue/bert-base/resolve/main/tokenizer_config.json from cache at /aiffel/.cache/huggingface/transformers/f8f71eb411bb03f57b455cfb1b4e04ae124201312e67a3ad66e0a92d0c228325.78871951edcb66032caa0a9628d77b3557c23616c653dacdb7a1a8f33011a843\n",
      "loading configuration file https://huggingface.co/klue/bert-base/resolve/main/config.json from cache at /aiffel/.cache/huggingface/transformers/fbd0b2ef898c4653902683fea8cc0dd99bf43f0e082645b913cda3b92429d1bb.99b3298ed554f2ad731c27cdb11a6215f39b90bc845ff5ce709bb4e74ba45621\n",
      "Model config BertConfig {\n",
      "  \"architectures\": [\n",
      "    \"BertForMaskedLM\"\n",
      "  ],\n",
      "  \"attention_probs_dropout_prob\": 0.1,\n",
      "  \"classifier_dropout\": null,\n",
      "  \"hidden_act\": \"gelu\",\n",
      "  \"hidden_dropout_prob\": 0.1,\n",
      "  \"hidden_size\": 768,\n",
      "  \"initializer_range\": 0.02,\n",
      "  \"intermediate_size\": 3072,\n",
      "  \"layer_norm_eps\": 1e-12,\n",
      "  \"max_position_embeddings\": 512,\n",
      "  \"model_type\": \"bert\",\n",
      "  \"num_attention_heads\": 12,\n",
      "  \"num_hidden_layers\": 12,\n",
      "  \"pad_token_id\": 0,\n",
      "  \"position_embedding_type\": \"absolute\",\n",
      "  \"transformers_version\": \"4.11.3\",\n",
      "  \"type_vocab_size\": 2,\n",
      "  \"use_cache\": true,\n",
      "  \"vocab_size\": 32000\n",
      "}\n",
      "\n"
     ]
    }
   ],
   "source": [
    "from transformers import DataCollatorWithPadding, DataCollatorWithPadding\n",
    "\n",
    "\n",
    "# 토크나이저와 데이터 콜레이터 정의\n",
    "tokenizer = AutoTokenizer.from_pretrained(\"klue/bert-base\", use_fast=True)\n",
    "data_collator = DataCollatorWithPadding(tokenizer=tokenizer)"
   ]
  },
  {
   "cell_type": "code",
   "execution_count": 70,
   "id": "e2f244eb",
   "metadata": {},
   "outputs": [
    {
     "data": {
      "application/vnd.jupyter.widget-view+json": {
       "model_id": "418311037c914a3fae210b85986a7df5",
       "version_major": 2,
       "version_minor": 0
      },
      "text/plain": [
       "  0%|          | 0/10500 [00:00<?, ?ex/s]"
      ]
     },
     "metadata": {},
     "output_type": "display_data"
    },
    {
     "data": {
      "application/vnd.jupyter.widget-view+json": {
       "model_id": "b4e5f43ad23d4602ac0ed437933ec5fa",
       "version_major": 2,
       "version_minor": 0
      },
      "text/plain": [
       "  0%|          | 0/4500 [00:00<?, ?ex/s]"
      ]
     },
     "metadata": {},
     "output_type": "display_data"
    },
    {
     "data": {
      "application/vnd.jupyter.widget-view+json": {
       "model_id": "38f7f29e61d244cd841595769d553ce5",
       "version_major": 2,
       "version_minor": 0
      },
      "text/plain": [
       "  0%|          | 0/4500 [00:00<?, ?ex/s]"
      ]
     },
     "metadata": {},
     "output_type": "display_data"
    }
   ],
   "source": [
    "def transform(data):\n",
    "    encoded_data = tokenizer(\n",
    "        data['document'],\n",
    "        truncation=True,\n",
    "        padding='max_length',\n",
    "        max_length=30,\n",
    "        return_tensors=\"pt\",\n",
    "        return_token_type_ids=False,)\n",
    "    \n",
    "    # 텐서를 리스트로 변환하여 반환\n",
    "    return {key: value.squeeze().tolist() for key, value in encoded_data.items()}\n",
    "\n",
    "\n",
    "train_data = train_data.map(transform)#, batched=True)\n",
    "test_data = test_data.map(transform)#, batched=True)\n",
    "val_data = val_data.map(transform)#, batched=True)"
   ]
  },
  {
   "cell_type": "code",
   "execution_count": 74,
   "id": "a7f7e312",
   "metadata": {},
   "outputs": [
    {
     "name": "stderr",
     "output_type": "stream",
     "text": [
      "PyTorch: setting up devices\n",
      "The default value for the training argument `--report_to` will change in v5 (from all installed integrations to none). In v5, you will need to use `--report_to all` to get the same behavior as now. You should start updating your code and make this info disappear :-).\n"
     ]
    }
   ],
   "source": [
    "output_dir = os.getenv(\"HOME\") + '/aiffel/aiffel_quest/mini_quest_240326'\n",
    "\n",
    "training_arguments = TrainingArguments(\n",
    "output_dir,                        # output이 저장될 경로\n",
    "evaluation_strategy='epoch',       # evaluation하는 빈도\n",
    "learning_rate=2e-5,                # learning_rate\n",
    "per_device_train_batch_size=10,     # 각 device 당 batch size(8)\n",
    "per_device_eval_batch_size=10,      # evaluation 시에 batch size(8)\n",
    "num_train_epochs=20,                # train 시킬 총 epochs\n",
    "group_by_length=True,\n",
    "weight_decay=0.01)                 # weight decay"
   ]
  },
  {
   "cell_type": "code",
   "execution_count": null,
   "id": "e41aa81a",
   "metadata": {},
   "outputs": [
    {
     "name": "stderr",
     "output_type": "stream",
     "text": [
      "The following columns in the training set  don't have a corresponding argument in `RobertaForSequenceClassification.forward` and have been ignored: document, id.\n",
      "***** Running training *****\n",
      "  Num examples = 10500\n",
      "  Num Epochs = 20\n",
      "  Instantaneous batch size per device = 10\n",
      "  Total train batch size (w. parallel, distributed & accumulation) = 10\n",
      "  Gradient Accumulation steps = 1\n",
      "  Total optimization steps = 21000\n"
     ]
    },
    {
     "data": {
      "text/html": [
       "\n",
       "    <div>\n",
       "      \n",
       "      <progress value='18335' max='21000' style='width:300px; height:20px; vertical-align: middle;'></progress>\n",
       "      [18335/21000 20:05 < 02:55, 15.21 it/s, Epoch 17.46/20]\n",
       "    </div>\n",
       "    <table border=\"1\" class=\"dataframe\">\n",
       "  <thead>\n",
       "    <tr style=\"text-align: left;\">\n",
       "      <th>Epoch</th>\n",
       "      <th>Training Loss</th>\n",
       "      <th>Validation Loss</th>\n",
       "      <th>Accuracy</th>\n",
       "    </tr>\n",
       "  </thead>\n",
       "  <tbody>\n",
       "    <tr>\n",
       "      <td>1</td>\n",
       "      <td>0.035500</td>\n",
       "      <td>1.116465</td>\n",
       "      <td>0.822222</td>\n",
       "    </tr>\n",
       "    <tr>\n",
       "      <td>2</td>\n",
       "      <td>0.045200</td>\n",
       "      <td>1.182217</td>\n",
       "      <td>0.831556</td>\n",
       "    </tr>\n",
       "    <tr>\n",
       "      <td>3</td>\n",
       "      <td>0.043600</td>\n",
       "      <td>1.103943</td>\n",
       "      <td>0.840889</td>\n",
       "    </tr>\n",
       "    <tr>\n",
       "      <td>4</td>\n",
       "      <td>0.039200</td>\n",
       "      <td>1.192465</td>\n",
       "      <td>0.830667</td>\n",
       "    </tr>\n",
       "    <tr>\n",
       "      <td>5</td>\n",
       "      <td>0.043600</td>\n",
       "      <td>1.175388</td>\n",
       "      <td>0.830889</td>\n",
       "    </tr>\n",
       "    <tr>\n",
       "      <td>6</td>\n",
       "      <td>0.025300</td>\n",
       "      <td>1.223011</td>\n",
       "      <td>0.839778</td>\n",
       "    </tr>\n",
       "    <tr>\n",
       "      <td>7</td>\n",
       "      <td>0.019200</td>\n",
       "      <td>1.170813</td>\n",
       "      <td>0.839111</td>\n",
       "    </tr>\n",
       "    <tr>\n",
       "      <td>8</td>\n",
       "      <td>0.022200</td>\n",
       "      <td>1.289116</td>\n",
       "      <td>0.839333</td>\n",
       "    </tr>\n",
       "    <tr>\n",
       "      <td>9</td>\n",
       "      <td>0.012200</td>\n",
       "      <td>1.337091</td>\n",
       "      <td>0.830889</td>\n",
       "    </tr>\n",
       "    <tr>\n",
       "      <td>10</td>\n",
       "      <td>0.016700</td>\n",
       "      <td>1.337301</td>\n",
       "      <td>0.839778</td>\n",
       "    </tr>\n",
       "    <tr>\n",
       "      <td>11</td>\n",
       "      <td>0.018600</td>\n",
       "      <td>1.228782</td>\n",
       "      <td>0.837556</td>\n",
       "    </tr>\n",
       "    <tr>\n",
       "      <td>12</td>\n",
       "      <td>0.016000</td>\n",
       "      <td>1.397204</td>\n",
       "      <td>0.839333</td>\n",
       "    </tr>\n",
       "    <tr>\n",
       "      <td>13</td>\n",
       "      <td>0.010200</td>\n",
       "      <td>1.434294</td>\n",
       "      <td>0.838444</td>\n",
       "    </tr>\n",
       "    <tr>\n",
       "      <td>14</td>\n",
       "      <td>0.008400</td>\n",
       "      <td>1.529660</td>\n",
       "      <td>0.834000</td>\n",
       "    </tr>\n",
       "    <tr>\n",
       "      <td>15</td>\n",
       "      <td>0.009900</td>\n",
       "      <td>1.495116</td>\n",
       "      <td>0.838222</td>\n",
       "    </tr>\n",
       "    <tr>\n",
       "      <td>16</td>\n",
       "      <td>0.009600</td>\n",
       "      <td>1.567165</td>\n",
       "      <td>0.831778</td>\n",
       "    </tr>\n",
       "    <tr>\n",
       "      <td>17</td>\n",
       "      <td>0.006600</td>\n",
       "      <td>1.556306</td>\n",
       "      <td>0.836222</td>\n",
       "    </tr>\n",
       "  </tbody>\n",
       "</table><p>"
      ],
      "text/plain": [
       "<IPython.core.display.HTML object>"
      ]
     },
     "metadata": {},
     "output_type": "display_data"
    },
    {
     "name": "stderr",
     "output_type": "stream",
     "text": [
      "Saving model checkpoint to /aiffel/aiffel/aiffel_quest/mini_quest_240326/checkpoint-500\n",
      "Configuration saved in /aiffel/aiffel/aiffel_quest/mini_quest_240326/checkpoint-500/config.json\n",
      "Model weights saved in /aiffel/aiffel/aiffel_quest/mini_quest_240326/checkpoint-500/pytorch_model.bin\n",
      "Saving model checkpoint to /aiffel/aiffel/aiffel_quest/mini_quest_240326/checkpoint-1000\n",
      "Configuration saved in /aiffel/aiffel/aiffel_quest/mini_quest_240326/checkpoint-1000/config.json\n",
      "Model weights saved in /aiffel/aiffel/aiffel_quest/mini_quest_240326/checkpoint-1000/pytorch_model.bin\n",
      "The following columns in the evaluation set  don't have a corresponding argument in `RobertaForSequenceClassification.forward` and have been ignored: document, id.\n",
      "***** Running Evaluation *****\n",
      "  Num examples = 4500\n",
      "  Batch size = 10\n",
      "Saving model checkpoint to /aiffel/aiffel/aiffel_quest/mini_quest_240326/checkpoint-1500\n",
      "Configuration saved in /aiffel/aiffel/aiffel_quest/mini_quest_240326/checkpoint-1500/config.json\n",
      "Model weights saved in /aiffel/aiffel/aiffel_quest/mini_quest_240326/checkpoint-1500/pytorch_model.bin\n",
      "Saving model checkpoint to /aiffel/aiffel/aiffel_quest/mini_quest_240326/checkpoint-2000\n",
      "Configuration saved in /aiffel/aiffel/aiffel_quest/mini_quest_240326/checkpoint-2000/config.json\n",
      "Model weights saved in /aiffel/aiffel/aiffel_quest/mini_quest_240326/checkpoint-2000/pytorch_model.bin\n",
      "The following columns in the evaluation set  don't have a corresponding argument in `RobertaForSequenceClassification.forward` and have been ignored: document, id.\n",
      "***** Running Evaluation *****\n",
      "  Num examples = 4500\n",
      "  Batch size = 10\n",
      "Saving model checkpoint to /aiffel/aiffel/aiffel_quest/mini_quest_240326/checkpoint-2500\n",
      "Configuration saved in /aiffel/aiffel/aiffel_quest/mini_quest_240326/checkpoint-2500/config.json\n",
      "Model weights saved in /aiffel/aiffel/aiffel_quest/mini_quest_240326/checkpoint-2500/pytorch_model.bin\n",
      "Saving model checkpoint to /aiffel/aiffel/aiffel_quest/mini_quest_240326/checkpoint-3000\n",
      "Configuration saved in /aiffel/aiffel/aiffel_quest/mini_quest_240326/checkpoint-3000/config.json\n",
      "Model weights saved in /aiffel/aiffel/aiffel_quest/mini_quest_240326/checkpoint-3000/pytorch_model.bin\n",
      "The following columns in the evaluation set  don't have a corresponding argument in `RobertaForSequenceClassification.forward` and have been ignored: document, id.\n",
      "***** Running Evaluation *****\n",
      "  Num examples = 4500\n",
      "  Batch size = 10\n",
      "Saving model checkpoint to /aiffel/aiffel/aiffel_quest/mini_quest_240326/checkpoint-3500\n",
      "Configuration saved in /aiffel/aiffel/aiffel_quest/mini_quest_240326/checkpoint-3500/config.json\n",
      "Model weights saved in /aiffel/aiffel/aiffel_quest/mini_quest_240326/checkpoint-3500/pytorch_model.bin\n",
      "Saving model checkpoint to /aiffel/aiffel/aiffel_quest/mini_quest_240326/checkpoint-4000\n",
      "Configuration saved in /aiffel/aiffel/aiffel_quest/mini_quest_240326/checkpoint-4000/config.json\n",
      "Model weights saved in /aiffel/aiffel/aiffel_quest/mini_quest_240326/checkpoint-4000/pytorch_model.bin\n",
      "The following columns in the evaluation set  don't have a corresponding argument in `RobertaForSequenceClassification.forward` and have been ignored: document, id.\n",
      "***** Running Evaluation *****\n",
      "  Num examples = 4500\n",
      "  Batch size = 10\n",
      "Saving model checkpoint to /aiffel/aiffel/aiffel_quest/mini_quest_240326/checkpoint-4500\n",
      "Configuration saved in /aiffel/aiffel/aiffel_quest/mini_quest_240326/checkpoint-4500/config.json\n",
      "Model weights saved in /aiffel/aiffel/aiffel_quest/mini_quest_240326/checkpoint-4500/pytorch_model.bin\n",
      "Saving model checkpoint to /aiffel/aiffel/aiffel_quest/mini_quest_240326/checkpoint-5000\n",
      "Configuration saved in /aiffel/aiffel/aiffel_quest/mini_quest_240326/checkpoint-5000/config.json\n",
      "Model weights saved in /aiffel/aiffel/aiffel_quest/mini_quest_240326/checkpoint-5000/pytorch_model.bin\n",
      "The following columns in the evaluation set  don't have a corresponding argument in `RobertaForSequenceClassification.forward` and have been ignored: document, id.\n",
      "***** Running Evaluation *****\n",
      "  Num examples = 4500\n",
      "  Batch size = 10\n",
      "Saving model checkpoint to /aiffel/aiffel/aiffel_quest/mini_quest_240326/checkpoint-5500\n",
      "Configuration saved in /aiffel/aiffel/aiffel_quest/mini_quest_240326/checkpoint-5500/config.json\n",
      "Model weights saved in /aiffel/aiffel/aiffel_quest/mini_quest_240326/checkpoint-5500/pytorch_model.bin\n",
      "Saving model checkpoint to /aiffel/aiffel/aiffel_quest/mini_quest_240326/checkpoint-6000\n",
      "Configuration saved in /aiffel/aiffel/aiffel_quest/mini_quest_240326/checkpoint-6000/config.json\n",
      "Model weights saved in /aiffel/aiffel/aiffel_quest/mini_quest_240326/checkpoint-6000/pytorch_model.bin\n",
      "The following columns in the evaluation set  don't have a corresponding argument in `RobertaForSequenceClassification.forward` and have been ignored: document, id.\n",
      "***** Running Evaluation *****\n",
      "  Num examples = 4500\n",
      "  Batch size = 10\n",
      "Saving model checkpoint to /aiffel/aiffel/aiffel_quest/mini_quest_240326/checkpoint-6500\n",
      "Configuration saved in /aiffel/aiffel/aiffel_quest/mini_quest_240326/checkpoint-6500/config.json\n",
      "Model weights saved in /aiffel/aiffel/aiffel_quest/mini_quest_240326/checkpoint-6500/pytorch_model.bin\n",
      "Saving model checkpoint to /aiffel/aiffel/aiffel_quest/mini_quest_240326/checkpoint-7000\n",
      "Configuration saved in /aiffel/aiffel/aiffel_quest/mini_quest_240326/checkpoint-7000/config.json\n",
      "Model weights saved in /aiffel/aiffel/aiffel_quest/mini_quest_240326/checkpoint-7000/pytorch_model.bin\n",
      "The following columns in the evaluation set  don't have a corresponding argument in `RobertaForSequenceClassification.forward` and have been ignored: document, id.\n",
      "***** Running Evaluation *****\n",
      "  Num examples = 4500\n",
      "  Batch size = 10\n",
      "Saving model checkpoint to /aiffel/aiffel/aiffel_quest/mini_quest_240326/checkpoint-7500\n",
      "Configuration saved in /aiffel/aiffel/aiffel_quest/mini_quest_240326/checkpoint-7500/config.json\n",
      "Model weights saved in /aiffel/aiffel/aiffel_quest/mini_quest_240326/checkpoint-7500/pytorch_model.bin\n",
      "Saving model checkpoint to /aiffel/aiffel/aiffel_quest/mini_quest_240326/checkpoint-8000\n",
      "Configuration saved in /aiffel/aiffel/aiffel_quest/mini_quest_240326/checkpoint-8000/config.json\n",
      "Model weights saved in /aiffel/aiffel/aiffel_quest/mini_quest_240326/checkpoint-8000/pytorch_model.bin\n",
      "The following columns in the evaluation set  don't have a corresponding argument in `RobertaForSequenceClassification.forward` and have been ignored: document, id.\n",
      "***** Running Evaluation *****\n",
      "  Num examples = 4500\n",
      "  Batch size = 10\n",
      "Saving model checkpoint to /aiffel/aiffel/aiffel_quest/mini_quest_240326/checkpoint-8500\n",
      "Configuration saved in /aiffel/aiffel/aiffel_quest/mini_quest_240326/checkpoint-8500/config.json\n",
      "Model weights saved in /aiffel/aiffel/aiffel_quest/mini_quest_240326/checkpoint-8500/pytorch_model.bin\n",
      "Saving model checkpoint to /aiffel/aiffel/aiffel_quest/mini_quest_240326/checkpoint-9000\n",
      "Configuration saved in /aiffel/aiffel/aiffel_quest/mini_quest_240326/checkpoint-9000/config.json\n",
      "Model weights saved in /aiffel/aiffel/aiffel_quest/mini_quest_240326/checkpoint-9000/pytorch_model.bin\n",
      "The following columns in the evaluation set  don't have a corresponding argument in `RobertaForSequenceClassification.forward` and have been ignored: document, id.\n",
      "***** Running Evaluation *****\n",
      "  Num examples = 4500\n",
      "  Batch size = 10\n",
      "Saving model checkpoint to /aiffel/aiffel/aiffel_quest/mini_quest_240326/checkpoint-9500\n",
      "Configuration saved in /aiffel/aiffel/aiffel_quest/mini_quest_240326/checkpoint-9500/config.json\n",
      "Model weights saved in /aiffel/aiffel/aiffel_quest/mini_quest_240326/checkpoint-9500/pytorch_model.bin\n",
      "Saving model checkpoint to /aiffel/aiffel/aiffel_quest/mini_quest_240326/checkpoint-10000\n",
      "Configuration saved in /aiffel/aiffel/aiffel_quest/mini_quest_240326/checkpoint-10000/config.json\n",
      "Model weights saved in /aiffel/aiffel/aiffel_quest/mini_quest_240326/checkpoint-10000/pytorch_model.bin\n",
      "Saving model checkpoint to /aiffel/aiffel/aiffel_quest/mini_quest_240326/checkpoint-10500\n",
      "Configuration saved in /aiffel/aiffel/aiffel_quest/mini_quest_240326/checkpoint-10500/config.json\n",
      "Model weights saved in /aiffel/aiffel/aiffel_quest/mini_quest_240326/checkpoint-10500/pytorch_model.bin\n",
      "The following columns in the evaluation set  don't have a corresponding argument in `RobertaForSequenceClassification.forward` and have been ignored: document, id.\n"
     ]
    },
    {
     "name": "stderr",
     "output_type": "stream",
     "text": [
      "***** Running Evaluation *****\n",
      "  Num examples = 4500\n",
      "  Batch size = 10\n",
      "Saving model checkpoint to /aiffel/aiffel/aiffel_quest/mini_quest_240326/checkpoint-11000\n",
      "Configuration saved in /aiffel/aiffel/aiffel_quest/mini_quest_240326/checkpoint-11000/config.json\n",
      "Model weights saved in /aiffel/aiffel/aiffel_quest/mini_quest_240326/checkpoint-11000/pytorch_model.bin\n",
      "Saving model checkpoint to /aiffel/aiffel/aiffel_quest/mini_quest_240326/checkpoint-11500\n",
      "Configuration saved in /aiffel/aiffel/aiffel_quest/mini_quest_240326/checkpoint-11500/config.json\n",
      "Model weights saved in /aiffel/aiffel/aiffel_quest/mini_quest_240326/checkpoint-11500/pytorch_model.bin\n",
      "The following columns in the evaluation set  don't have a corresponding argument in `RobertaForSequenceClassification.forward` and have been ignored: document, id.\n",
      "***** Running Evaluation *****\n",
      "  Num examples = 4500\n",
      "  Batch size = 10\n",
      "Saving model checkpoint to /aiffel/aiffel/aiffel_quest/mini_quest_240326/checkpoint-12000\n",
      "Configuration saved in /aiffel/aiffel/aiffel_quest/mini_quest_240326/checkpoint-12000/config.json\n",
      "Model weights saved in /aiffel/aiffel/aiffel_quest/mini_quest_240326/checkpoint-12000/pytorch_model.bin\n",
      "Saving model checkpoint to /aiffel/aiffel/aiffel_quest/mini_quest_240326/checkpoint-12500\n",
      "Configuration saved in /aiffel/aiffel/aiffel_quest/mini_quest_240326/checkpoint-12500/config.json\n",
      "Model weights saved in /aiffel/aiffel/aiffel_quest/mini_quest_240326/checkpoint-12500/pytorch_model.bin\n",
      "The following columns in the evaluation set  don't have a corresponding argument in `RobertaForSequenceClassification.forward` and have been ignored: document, id.\n",
      "***** Running Evaluation *****\n",
      "  Num examples = 4500\n",
      "  Batch size = 10\n",
      "Saving model checkpoint to /aiffel/aiffel/aiffel_quest/mini_quest_240326/checkpoint-13000\n",
      "Configuration saved in /aiffel/aiffel/aiffel_quest/mini_quest_240326/checkpoint-13000/config.json\n",
      "Model weights saved in /aiffel/aiffel/aiffel_quest/mini_quest_240326/checkpoint-13000/pytorch_model.bin\n",
      "Saving model checkpoint to /aiffel/aiffel/aiffel_quest/mini_quest_240326/checkpoint-13500\n",
      "Configuration saved in /aiffel/aiffel/aiffel_quest/mini_quest_240326/checkpoint-13500/config.json\n",
      "Model weights saved in /aiffel/aiffel/aiffel_quest/mini_quest_240326/checkpoint-13500/pytorch_model.bin\n",
      "The following columns in the evaluation set  don't have a corresponding argument in `RobertaForSequenceClassification.forward` and have been ignored: document, id.\n",
      "***** Running Evaluation *****\n",
      "  Num examples = 4500\n",
      "  Batch size = 10\n",
      "Saving model checkpoint to /aiffel/aiffel/aiffel_quest/mini_quest_240326/checkpoint-14000\n",
      "Configuration saved in /aiffel/aiffel/aiffel_quest/mini_quest_240326/checkpoint-14000/config.json\n",
      "Model weights saved in /aiffel/aiffel/aiffel_quest/mini_quest_240326/checkpoint-14000/pytorch_model.bin\n",
      "Saving model checkpoint to /aiffel/aiffel/aiffel_quest/mini_quest_240326/checkpoint-14500\n",
      "Configuration saved in /aiffel/aiffel/aiffel_quest/mini_quest_240326/checkpoint-14500/config.json\n",
      "Model weights saved in /aiffel/aiffel/aiffel_quest/mini_quest_240326/checkpoint-14500/pytorch_model.bin\n",
      "The following columns in the evaluation set  don't have a corresponding argument in `RobertaForSequenceClassification.forward` and have been ignored: document, id.\n",
      "***** Running Evaluation *****\n",
      "  Num examples = 4500\n",
      "  Batch size = 10\n",
      "Saving model checkpoint to /aiffel/aiffel/aiffel_quest/mini_quest_240326/checkpoint-15000\n",
      "Configuration saved in /aiffel/aiffel/aiffel_quest/mini_quest_240326/checkpoint-15000/config.json\n",
      "Model weights saved in /aiffel/aiffel/aiffel_quest/mini_quest_240326/checkpoint-15000/pytorch_model.bin\n",
      "Saving model checkpoint to /aiffel/aiffel/aiffel_quest/mini_quest_240326/checkpoint-15500\n",
      "Configuration saved in /aiffel/aiffel/aiffel_quest/mini_quest_240326/checkpoint-15500/config.json\n",
      "Model weights saved in /aiffel/aiffel/aiffel_quest/mini_quest_240326/checkpoint-15500/pytorch_model.bin\n",
      "The following columns in the evaluation set  don't have a corresponding argument in `RobertaForSequenceClassification.forward` and have been ignored: document, id.\n",
      "***** Running Evaluation *****\n",
      "  Num examples = 4500\n",
      "  Batch size = 10\n",
      "Saving model checkpoint to /aiffel/aiffel/aiffel_quest/mini_quest_240326/checkpoint-16000\n",
      "Configuration saved in /aiffel/aiffel/aiffel_quest/mini_quest_240326/checkpoint-16000/config.json\n",
      "Model weights saved in /aiffel/aiffel/aiffel_quest/mini_quest_240326/checkpoint-16000/pytorch_model.bin\n",
      "Saving model checkpoint to /aiffel/aiffel/aiffel_quest/mini_quest_240326/checkpoint-16500\n",
      "Configuration saved in /aiffel/aiffel/aiffel_quest/mini_quest_240326/checkpoint-16500/config.json\n",
      "Model weights saved in /aiffel/aiffel/aiffel_quest/mini_quest_240326/checkpoint-16500/pytorch_model.bin\n",
      "The following columns in the evaluation set  don't have a corresponding argument in `RobertaForSequenceClassification.forward` and have been ignored: document, id.\n",
      "***** Running Evaluation *****\n",
      "  Num examples = 4500\n",
      "  Batch size = 10\n",
      "Saving model checkpoint to /aiffel/aiffel/aiffel_quest/mini_quest_240326/checkpoint-17000\n",
      "Configuration saved in /aiffel/aiffel/aiffel_quest/mini_quest_240326/checkpoint-17000/config.json\n",
      "Model weights saved in /aiffel/aiffel/aiffel_quest/mini_quest_240326/checkpoint-17000/pytorch_model.bin\n",
      "Saving model checkpoint to /aiffel/aiffel/aiffel_quest/mini_quest_240326/checkpoint-17500\n",
      "Configuration saved in /aiffel/aiffel/aiffel_quest/mini_quest_240326/checkpoint-17500/config.json\n",
      "Model weights saved in /aiffel/aiffel/aiffel_quest/mini_quest_240326/checkpoint-17500/pytorch_model.bin\n",
      "The following columns in the evaluation set  don't have a corresponding argument in `RobertaForSequenceClassification.forward` and have been ignored: document, id.\n",
      "***** Running Evaluation *****\n",
      "  Num examples = 4500\n",
      "  Batch size = 10\n",
      "Saving model checkpoint to /aiffel/aiffel/aiffel_quest/mini_quest_240326/checkpoint-18000\n",
      "Configuration saved in /aiffel/aiffel/aiffel_quest/mini_quest_240326/checkpoint-18000/config.json\n",
      "Model weights saved in /aiffel/aiffel/aiffel_quest/mini_quest_240326/checkpoint-18000/pytorch_model.bin\n"
     ]
    }
   ],
   "source": [
    "%%time\n",
    "trainer = Trainer(\n",
    "    model=model,\n",
    "    args=training_arguments,\n",
    "    train_dataset=train_data,\n",
    "    eval_dataset=val_data,\n",
    "    compute_metrics=compute_metrics,)\n",
    "\n",
    "trainer.train()"
   ]
  },
  {
   "cell_type": "code",
   "execution_count": null,
   "id": "c6c64d46",
   "metadata": {},
   "outputs": [],
   "source": [
    "trainer.evaluate(test_data)"
   ]
  },
  {
   "cell_type": "markdown",
   "id": "2293248b",
   "metadata": {},
   "source": [
    "Bucketing 이란?<br>\n",
    "NLP에서의 Bucketing은 데이터를 효율적으로 처리하기 위한 전략 중 하나입니다. 특히, Sequence-to-Sequence 모델을 학습할 때 사용되며, 입력 문장의 길이에 따라 데이터를 그룹화하여 배치를 구성하는 방법입니다.\n",
    "\n",
    "일반적으로, 서로 다른 길이의 문장을 동일한 배치에 함께 처리할 때 모든 문장의 길이를 동일하게 맞추는 것이 일반적입니다. 그러나 이는 GPU의 메모리를 비효율적으로 사용할 수 있습니다. 예를 들어, 모든 배치에 포함된 문장의 최대 길이보다 더 긴 문장이 있을 경우, 모든 문장을 최대 길이에 맞추어 패딩(padding)을 추가해야 합니다. 이렇게 되면 패딩된 토큰들은 실제 의미를 가지지 않지만 연산에도 참여하게 되어 메모리와 계산 시간을 낭비하게 됩니다.\n",
    "\n",
    "Bucketing은 이러한 문제를 해결하기 위한 방법 중 하나입니다. Bucketing은 데이터를 여러 그룹으로 나누고, 각 그룹 내에서는 비슷한 길이의 문장들을 함께 배치로 만듭니다. 이렇게 하면 패딩의 양을 최소화하고 효율적으로 GPU 메모리를 사용할 수 있습니다.\n",
    "\n",
    "예를 들어, Bucketing을 사용하여 문장의 길이에 따라 다음과 같이 데이터를 그룹화할 수 있습니다:\n",
    "\n",
    "길이가 1-10 토큰인 문장들의 그룹\n",
    "길이가 11-20 토큰인 문장들의 그룹\n",
    "길이가 21-30 토큰인 문장들의 그룹\n",
    "...\n",
    "그런 다음 각 그룹에서는 비슷한 길이의 문장들을 배치로 만들어 처리합니다. 이렇게 함으로써 효율적인 학습이 가능해집니다.\n",
    "\n",
    "Bucketing은 특히 Transformer와 같은 Self-Attention 기반의 모델을 학습할 때 유용합니다. Transformer 모델의 Self-Attention 계산은 시퀀스 길이에 따라 계산량이 크게 달라지기 때문에, Bucketing을 통해 비슷한 길이의 문장들을 함께 처리하여 계산 효율을 높일 수 있습니다."
   ]
  },
  {
   "cell_type": "markdown",
   "id": "edba30dd",
   "metadata": {},
   "source": [
    "Dynamic padding이란?<br>\n",
    "Dynamic padding은 패딩을 적용할 때, 각 배치에 포함된 샘플들의 길이에 맞게 패딩을 조절하는 기법입니다. 정적 패딩(static padding)과는 달리, 각 배치마다 서로 다른 길이의 샘플을 가지고 있을 때, 최대한 적은 양의 패딩을 사용하여 효율적으로 메모리를 사용합니다.\n",
    "\n",
    "일반적으로 정적 패딩은 모든 샘플을 특정 길이로 맞추기 위해 최대 길이에 맞게 패딩을 적용하는 반면, 동적 패딩은 각 배치에 포함된 샘플 중 가장 긴 샘플의 길이에 맞게 패딩을 적용합니다. 이렇게 하면 모든 샘플이 동일한 길이로 패딩되는 것이 아니라, 각 샘플의 실제 길이에 맞게 패딩이 적용되어 메모리를 더 효율적으로 사용할 수 있습니다.\n",
    "\n",
    "동적 패딩은 주로 RNN(Recurrent Neural Network)이나 Transformer와 같은 시퀀스 모델에서 사용됩니다. 이러한 모델들은 입력 시퀀스의 길이가 다를 수 있으며, 동적 패딩은 이러한 모델에서 효율적인 배치 처리를 위해 중요한 역할을 합니다. Hugging Face의 Transformers 라이브러리에서도 동적 패딩을 쉽게 적용할 수 있습니다."
   ]
  },
  {
   "cell_type": "markdown",
   "id": "6180d5e9",
   "metadata": {},
   "source": [
    "# 회고\n"
   ]
  }
 ],
 "metadata": {
  "kernelspec": {
   "display_name": "Python 3 (ipykernel)",
   "language": "python",
   "name": "python3"
  },
  "language_info": {
   "codemirror_mode": {
    "name": "ipython",
    "version": 3
   },
   "file_extension": ".py",
   "mimetype": "text/x-python",
   "name": "python",
   "nbconvert_exporter": "python",
   "pygments_lexer": "ipython3",
   "version": "3.9.7"
  }
 },
 "nbformat": 4,
 "nbformat_minor": 5
}
