{
 "cells": [
  {
   "cell_type": "code",
   "execution_count": 2,
   "id": "952a4875",
   "metadata": {},
   "outputs": [
    {
     "name": "stdout",
     "output_type": "stream",
     "text": [
      "압축 해제가 완료되었습니다.\n"
     ]
    }
   ],
   "source": [
    "import zipfile\n",
    "import os\n",
    "\n",
    "base_dir = os.getenv('HOME') + '/aiffel/aiffel_quest/rock_scissor_paper_240306/'\n",
    "\n",
    "# 압축 파일 경로\n",
    "zip_file = base_dir + \"r_s_p.zip\"\n",
    "# 압축 해제할 폴더 경로\n",
    "extract_to_folder = base_dir + \"data\"\n",
    "\n",
    "# data 폴더가 없다면 생성\n",
    "os.makedirs(extract_to_folder, exist_ok=True)\n",
    "\n",
    "# zipfile 모듈을 사용하여 압축 해제\n",
    "with zipfile.ZipFile(zip_file, 'r') as zip_ref:\n",
    "    zip_ref.extractall(extract_to_folder)\n",
    "\n",
    "print(\"압축 해제가 완료되었습니다.\")"
   ]
  },
  {
   "cell_type": "code",
   "execution_count": 3,
   "id": "d7367864",
   "metadata": {},
   "outputs": [
    {
     "name": "stdout",
     "output_type": "stream",
     "text": [
      "PIL 라이브러리 import 완료!\n"
     ]
    }
   ],
   "source": [
    "from PIL import Image\n",
    "import glob\n",
    "import os\n",
    "\n",
    "print('PIL 라이브러리 import 완료!')"
   ]
  },
  {
   "cell_type": "markdown",
   "id": "e75b43fb",
   "metadata": {},
   "source": [
    "가위 버전을 두가지 버전으로 촬영을 해서 하나로 합침"
   ]
  },
  {
   "cell_type": "code",
   "execution_count": 4,
   "id": "1928788d",
   "metadata": {},
   "outputs": [],
   "source": [
    "# 지금은 필요없음\n",
    "# import os\n",
    "\n",
    "# def move_and_rename_images(source_folder, dest_folder):\n",
    "#     # scissor2 폴더 내의 모든 파일 가져오기\n",
    "#     images_folder2 = [os.path.join(source_folder, img) for img in os.listdir(source_folder) if img.endswith('.jpg')]\n",
    "    \n",
    "#     # scissor2 폴더의 파일명 변경 및 scissor 폴더로 이동\n",
    "#     for idx, img_path in enumerate(images_folder2):\n",
    "#         # 파일명 변경\n",
    "#         new_img_path = os.path.join(source_folder, f\"scissor2_{idx}.jpg\")\n",
    "#         os.rename(img_path, new_img_path)\n",
    "#         # scissor 폴더로 이동\n",
    "#         dest_img_path = os.path.join(dest_folder, f\"scissor2_{idx}.jpg\")\n",
    "#         os.rename(new_img_path, dest_img_path)\n",
    "\n",
    "# # scissor2 폴더와 scissor 폴더의 경로\n",
    "# source_folder = base_dir + \"scissor2\"\n",
    "# dest_folder = base_dir + \"scissor\"\n",
    "\n",
    "# # 이미지 파일 이동 및 파일명 변경\n",
    "# move_and_rename_images(source_folder, dest_folder)\n"
   ]
  },
  {
   "cell_type": "markdown",
   "id": "d6319f65",
   "metadata": {},
   "source": [
    "각 폴더에 있는 데이터 수를 확인해보자"
   ]
  },
  {
   "cell_type": "code",
   "execution_count": 5,
   "id": "e4888fe2",
   "metadata": {},
   "outputs": [
    {
     "name": "stdout",
     "output_type": "stream",
     "text": [
      "__MACOSX 폴더 내의 이미지 파일 개수: 0\n",
      ".ipynb_checkpoints 폴더 내의 이미지 파일 개수: 0\n",
      "scissor 폴더 내의 이미지 파일 개수: 1479\n",
      "test 폴더 내의 이미지 파일 개수: 0\n",
      "paper 폴더 내의 이미지 파일 개수: 981\n",
      "rock 폴더 내의 이미지 파일 개수: 1044\n"
     ]
    }
   ],
   "source": [
    "def count_images_in_folders(root_folder):\n",
    "    # 각 폴더의 이미지 파일 개수를 저장할 딕셔너리\n",
    "    image_counts = {}\n",
    "    \n",
    "    # root_folder 내의 모든 폴더 탐색\n",
    "    for folder_name in os.listdir(root_folder):\n",
    "        folder_path = os.path.join(root_folder, folder_name)\n",
    "        # 디렉토리인 경우에만 처리\n",
    "        if os.path.isdir(folder_path):\n",
    "            # 해당 폴더 내의 이미지 파일 개수 확인\n",
    "            image_files = [file for file in os.listdir(folder_path) if file.endswith('.jpg')]\n",
    "            image_counts[folder_name] = len(image_files)\n",
    "    \n",
    "    return image_counts\n",
    "\n",
    "# 이미지가 있는 폴더의 경로\n",
    "root_folder =base_dir + 'data'\n",
    "\n",
    "# 각 폴더의 이미지 파일 개수 확인\n",
    "image_counts = count_images_in_folders(root_folder)\n",
    "\n",
    "# 결과 출력\n",
    "for folder_name, count in image_counts.items():\n",
    "    print(f\"{folder_name} 폴더 내의 이미지 파일 개수:\", count)\n"
   ]
  },
  {
   "cell_type": "markdown",
   "id": "10acaf98",
   "metadata": {},
   "source": [
    "scissor 를 합치다 보니 데이터 수가 많아졌다.<br>\n",
    "각 데이터 숫자를 150개로 맞춰보자<br>\n",
    "이미지를 랜덤하게 뽑아서 900개로 만들자"
   ]
  },
  {
   "cell_type": "code",
   "execution_count": 6,
   "id": "3bac5867",
   "metadata": {},
   "outputs": [
    {
     "name": "stdout",
     "output_type": "stream",
     "text": [
      "이미지 이동 완료\n"
     ]
    }
   ],
   "source": [
    "import random\n",
    "import shutil\n",
    "\n",
    "def move_random_images(source_folder, dest_folder, num_images):\n",
    "    # 폴더가 없으면 생성\n",
    "    os.makedirs(dest_folder, exist_ok=True)\n",
    "    \n",
    "    # 폴더 내의 이미지 파일들 리스트 가져오기\n",
    "    image_files = [file for file in os.listdir(source_folder) if file.endswith('.jpg')]\n",
    "    \n",
    "    # 랜덤하게 이미지 파일 선택\n",
    "    selected_images = random.sample(image_files, min(num_images, len(image_files)))\n",
    "    \n",
    "    # 이미지 파일을 목적지 폴더로 이동\n",
    "    for image in selected_images:\n",
    "        source_path = os.path.join(source_folder, image)\n",
    "        dest_path = os.path.join(dest_folder, image)\n",
    "        shutil.move(source_path, dest_path)\n",
    "\n",
    "# 이미지가 있는 폴더의 경로\n",
    "base_folder = base_dir + 'data'\n",
    "folders = [\"rock\", \"scissor\", \"paper\"]\n",
    "\n",
    "# 랜덤하게 선택할 이미지 개수\n",
    "num_images = 900\n",
    "\n",
    "# 각 폴더에 대해 이미지 이동\n",
    "for folder in folders:\n",
    "    source_folder = os.path.join(base_folder, folder)\n",
    "    dest_folder = os.path.join(base_folder, \"train\", folder)\n",
    "    move_random_images(source_folder, dest_folder, num_images)\n",
    "\n",
    "print(\"이미지 이동 완료\")"
   ]
  },
  {
   "cell_type": "markdown",
   "id": "9fa2397a",
   "metadata": {},
   "source": [
    "학습 레이블이 모두 비슷하게 만들어보았다."
   ]
  },
  {
   "cell_type": "code",
   "execution_count": 7,
   "id": "fb1bad8f",
   "metadata": {},
   "outputs": [
    {
     "name": "stdout",
     "output_type": "stream",
     "text": [
      "900 images to be resized.\n",
      "900 images resized.\n",
      "900 images to be resized.\n",
      "900 images resized.\n",
      "900 images to be resized.\n",
      "900 images resized.\n",
      "이미지 resize 완료!\n"
     ]
    }
   ],
   "source": [
    "import os\n",
    "import glob\n",
    "from PIL import Image\n",
    "\n",
    "def resize_images(img_path):\n",
    "    images = glob.glob(img_path + '/*.jpg')\n",
    "    \n",
    "    print(len(images), 'images to be resized.')\n",
    "    \n",
    "    target_size = (28, 28)\n",
    "    for img in images:\n",
    "        old_img = Image.open(img)\n",
    "        new_img = old_img.resize(target_size, Image.ANTIALIAS)\n",
    "        new_img.save(img, \"JPEG\")\n",
    "        \n",
    "    print(len(images), \"images resized.\")\n",
    "\n",
    "# 이미지가 들어있는 폴더들을 반복하면서 이미지 크기를 변경합니다.\n",
    "base_dir = os.path.expanduser(\"~\") + \"/aiffel/aiffel_quest/rock_scissor_paper_240306/data/train\"\n",
    "folders = ['rock', 'scissor', 'paper']\n",
    "\n",
    "for folder in folders:\n",
    "    image_dir_path = os.path.join(base_dir, folder)\n",
    "    resize_images(image_dir_path)\n",
    "\n",
    "print(\"이미지 resize 완료!\")"
   ]
  },
  {
   "cell_type": "code",
   "execution_count": 8,
   "id": "e74c8247",
   "metadata": {},
   "outputs": [
    {
     "name": "stdout",
     "output_type": "stream",
     "text": [
      "학습데이터(x_train)의 이미지 개수는 2700 입니다.\n",
      "x_train shape: (2700, 28, 28, 3)\n",
      "y_train shape: (2700,)\n"
     ]
    }
   ],
   "source": [
    "import numpy as np\n",
    "\n",
    "def load_data(img_path, number_of_data=2700):  # 가위바위보 이미지 개수 총합에 주의하세요.\n",
    "    # 가위 : 0, 바위 : 1, 보 : 2\n",
    "    img_size=28\n",
    "    color=3\n",
    "    #이미지 데이터와 라벨(가위 : 0, 바위 : 1, 보 : 2) 데이터를 담을 행렬(matrix) 영역을 생성합니다.\n",
    "    imgs=np.zeros(number_of_data*img_size*img_size*color,dtype=np.int32).reshape(number_of_data,img_size,img_size,color)\n",
    "    labels=np.zeros(number_of_data,dtype=np.int32)\n",
    "\n",
    "    idx=0\n",
    "    for file in glob.iglob(img_path+'/scissor/*.jpg'):\n",
    "        img = np.array(Image.open(file),dtype=np.int32)\n",
    "        imgs[idx,:,:,:]=img    # 데이터 영역에 이미지 행렬을 복사\n",
    "        labels[idx]=0   # 가위 : 0\n",
    "        idx=idx+1\n",
    "\n",
    "    for file in glob.iglob(img_path+'/rock/*.jpg'):\n",
    "        img = np.array(Image.open(file),dtype=np.int32)\n",
    "        imgs[idx,:,:,:]=img    # 데이터 영역에 이미지 행렬을 복사\n",
    "        labels[idx]=1   # 바위 : 1\n",
    "        idx=idx+1  \n",
    "    \n",
    "    for file in glob.iglob(img_path+'/paper/*.jpg'):\n",
    "        img = np.array(Image.open(file),dtype=np.int32)\n",
    "        imgs[idx,:,:,:]=img    # 데이터 영역에 이미지 행렬을 복사\n",
    "        labels[idx]=2   # 보 : 2\n",
    "        idx=idx+1\n",
    "        \n",
    "    print(\"학습데이터(x_train)의 이미지 개수는\", idx,\"입니다.\")\n",
    "    return imgs, labels\n",
    "\n",
    "image_dir_path = base_dir\n",
    "(x_train, y_train)=load_data(image_dir_path)\n",
    "x_train_norm = x_train/255.0   # 입력은 0~1 사이의 값으로 정규화\n",
    "\n",
    "print(\"x_train shape: {}\".format(x_train.shape))\n",
    "print(\"y_train shape: {}\".format(y_train.shape))"
   ]
  },
  {
   "cell_type": "code",
   "execution_count": 9,
   "id": "5ae14977",
   "metadata": {},
   "outputs": [
    {
     "name": "stdout",
     "output_type": "stream",
     "text": [
      "라벨:  0\n"
     ]
    },
    {
     "data": {
      "image/png": "[encoded data removed]",
      "text/plain": [
       "<Figure size 432x288 with 1 Axes>"
      ]
     },
     "metadata": {
      "needs_background": "light"
     },
     "output_type": "display_data"
    }
   ],
   "source": [
    "import matplotlib.pyplot as plt\n",
    "\n",
    "plt.imshow(x_train[5])\n",
    "print('라벨: ', y_train[5])"
   ]
  },
  {
   "cell_type": "code",
   "execution_count": 10,
   "id": "e3d5d48f",
   "metadata": {},
   "outputs": [
    {
     "name": "stdout",
     "output_type": "stream",
     "text": [
      "Model: \"sequential\"\n",
      "_________________________________________________________________\n",
      "Layer (type)                 Output Shape              Param #   \n",
      "=================================================================\n",
      "conv2d (Conv2D)              (None, 26, 26, 32)        896       \n",
      "_________________________________________________________________\n",
      "max_pooling2d (MaxPooling2D) (None, 13, 13, 32)        0         \n",
      "_________________________________________________________________\n",
      "conv2d_1 (Conv2D)            (None, 11, 11, 64)        18496     \n",
      "_________________________________________________________________\n",
      "max_pooling2d_1 (MaxPooling2 (None, 5, 5, 64)          0         \n",
      "_________________________________________________________________\n",
      "flatten (Flatten)            (None, 1600)              0         \n",
      "_________________________________________________________________\n",
      "dense (Dense)                (None, 10)                16010     \n",
      "_________________________________________________________________\n",
      "dense_1 (Dense)              (None, 3)                 33        \n",
      "=================================================================\n",
      "Total params: 35,435\n",
      "Trainable params: 35,435\n",
      "Non-trainable params: 0\n",
      "_________________________________________________________________\n",
      "Epoch 1/10\n",
      "85/85 [==============================] - 6s 33ms/step - loss: 1.0606 - accuracy: 0.4122\n",
      "Epoch 2/10\n",
      "85/85 [==============================] - 3s 34ms/step - loss: 0.6870 - accuracy: 0.7656\n",
      "Epoch 3/10\n",
      "85/85 [==============================] - 3s 34ms/step - loss: 0.4116 - accuracy: 0.8567\n",
      "Epoch 4/10\n",
      "85/85 [==============================] - 3s 34ms/step - loss: 0.2970 - accuracy: 0.8930\n",
      "Epoch 5/10\n",
      "85/85 [==============================] - 3s 33ms/step - loss: 0.2226 - accuracy: 0.9248\n",
      "Epoch 6/10\n",
      "85/85 [==============================] - 3s 34ms/step - loss: 0.1879 - accuracy: 0.9367\n",
      "Epoch 7/10\n",
      "85/85 [==============================] - 3s 36ms/step - loss: 0.1411 - accuracy: 0.9533\n",
      "Epoch 8/10\n",
      "85/85 [==============================] - 3s 35ms/step - loss: 0.1094 - accuracy: 0.9663\n",
      "Epoch 9/10\n",
      "85/85 [==============================] - 3s 35ms/step - loss: 0.0923 - accuracy: 0.9763\n",
      "Epoch 10/10\n",
      "85/85 [==============================] - 3s 35ms/step - loss: 0.0775 - accuracy: 0.9774\n"
     ]
    },
    {
     "data": {
      "text/plain": [
       "<keras.callbacks.History at 0x7f9748cf71c0>"
      ]
     },
     "execution_count": 10,
     "metadata": {},
     "output_type": "execute_result"
    }
   ],
   "source": [
    "import tensorflow as tf\n",
    "from tensorflow import keras\n",
    "import numpy as np\n",
    "\n",
    "\n",
    "n_channel_1=32\n",
    "n_channel_2=64\n",
    "n_dense=10\n",
    "n_train_epoch=10\n",
    "\n",
    "model=keras.models.Sequential()\n",
    "model.add(keras.layers.Conv2D(n_channel_1, (3,3), activation='relu', input_shape=(28,28,3))) # 컬러기 때문에 3으로 진행\n",
    "model.add(keras.layers.MaxPool2D(2,2))\n",
    "model.add(keras.layers.Conv2D(n_channel_2, (3,3), activation='relu'))\n",
    "model.add(keras.layers.MaxPooling2D((2,2)))\n",
    "model.add(keras.layers.Flatten())\n",
    "model.add(keras.layers.Dense(n_dense, activation='relu'))\n",
    "model.add(keras.layers.Dense(3, activation='softmax'))\n",
    "\n",
    "model.summary()\n",
    "model.compile(optimizer='adam',\n",
    "             loss='sparse_categorical_crossentropy',\n",
    "             metrics=['accuracy'])\n",
    "\n",
    "history = model.fit(x_train_norm, y_train, epochs=n_train_epoch)\n",
    "history"
   ]
  },
  {
   "cell_type": "code",
   "execution_count": 31,
   "id": "a5755760",
   "metadata": {},
   "outputs": [
    {
     "data": {
      "image/png": "[encoded data removed]",
      "text/plain": [
       "<Figure size 432x288 with 1 Axes>"
      ]
     },
     "metadata": {
      "needs_background": "light"
     },
     "output_type": "display_data"
    }
   ],
   "source": [
    "accuracy_train = history.history['accuracy']\n",
    "accuracy_loss = history.history['loss']\n",
    "epochs_ = range(1, n_train_epoch + 1)\n",
    "\n",
    "# 정확도 그래프 플로팅\n",
    "plt.plot(epochs_, accuracy_train, label='Training accuracy', color='blue', marker='o')\n",
    "plt.plot(epochs_, accuracy_loss, label='loss', color='red', marker='^')\n",
    "plt.xlabel('Number of epochs')\n",
    "plt.ylabel('Accuracy')\n",
    "plt.title('Number of epochs vs. Accuracy')\n",
    "plt.legend()\n",
    "plt.show()"
   ]
  },
  {
   "cell_type": "code",
   "execution_count": 14,
   "id": "e5693915",
   "metadata": {},
   "outputs": [
    {
     "name": "stdout",
     "output_type": "stream",
     "text": [
      "압축 해제가 완료되었습니다.\n"
     ]
    }
   ],
   "source": [
    "base_dir = os.getenv('HOME') + '/aiffel/aiffel_quest/rock_scissor_paper_240306/'\n",
    "\n",
    "# 압축 파일 경로\n",
    "zip_file = base_dir + \"Archive.zip\"\n",
    "# 압축 해제할 폴더 경로\n",
    "extract_to_folder = base_dir + \"data/test\"\n",
    "\n",
    "# data 폴더가 없다면 생성\n",
    "os.makedirs(extract_to_folder, exist_ok=True)\n",
    "\n",
    "# zipfile 모듈을 사용하여 압축 해제\n",
    "with zipfile.ZipFile(zip_file, 'r') as zip_ref:\n",
    "    zip_ref.extractall(extract_to_folder)\n",
    "\n",
    "print(\"압축 해제가 완료되었습니다.\")"
   ]
  },
  {
   "cell_type": "code",
   "execution_count": 15,
   "id": "367ddc6b",
   "metadata": {},
   "outputs": [
    {
     "name": "stdout",
     "output_type": "stream",
     "text": [
      "365 images to be resized.\n",
      "365 images resized.\n",
      "392 images to be resized.\n",
      "392 images resized.\n",
      "376 images to be resized.\n",
      "376 images resized.\n",
      "이미지 resize 완료!\n"
     ]
    }
   ],
   "source": [
    "# 이미지가 들어있는 폴더들을 반복하면서 이미지 크기를 변경합니다.\n",
    "base_dir = os.getenv('HOME') + '/aiffel/aiffel_quest/rock_scissor_paper_240306/data/test/dy'\n",
    "folders = ['rock', 'scissor', 'paper']\n",
    "\n",
    "for folder in folders:\n",
    "    image_dir_path = os.path.join(base_dir, folder)\n",
    "#     print(image_dir_path)\n",
    "    resize_images(image_dir_path)\n",
    "\n",
    "print(\"이미지 resize 완료!\")"
   ]
  },
  {
   "cell_type": "code",
   "execution_count": 16,
   "id": "aac7b6ce",
   "metadata": {},
   "outputs": [
    {
     "name": "stdout",
     "output_type": "stream",
     "text": [
      "scissor 폴더 내의 이미지 파일 개수: 392\n",
      "paper 폴더 내의 이미지 파일 개수: 376\n",
      "rock 폴더 내의 이미지 파일 개수: 365\n"
     ]
    }
   ],
   "source": [
    "# 이미지가 있는 폴더의 경로\n",
    "root_folder = base_dir \n",
    "\n",
    "# 각 폴더의 이미지 파일 개수 확인\n",
    "image_counts = count_images_in_folders(root_folder)\n",
    "\n",
    "# 결과 출력\n",
    "for folder_name, count in image_counts.items():\n",
    "    print(f\"{folder_name} 폴더 내의 이미지 파일 개수:\", count)\n"
   ]
  },
  {
   "cell_type": "markdown",
   "id": "734ca804",
   "metadata": {},
   "source": [
    "test 데이터셋"
   ]
  },
  {
   "cell_type": "code",
   "execution_count": 17,
   "id": "30f2432f",
   "metadata": {},
   "outputs": [
    {
     "name": "stdout",
     "output_type": "stream",
     "text": [
      "학습데이터(x_test)의 이미지 개수는 1133 입니다.\n",
      "x_test shape: (1133, 28, 28, 3)\n",
      "y_test shape: (1133,)\n"
     ]
    }
   ],
   "source": [
    "def load_data(img_path, number_of_data=1133):  # 가위바위보 이미지 개수 총합에 주의하세요.\n",
    "    # 가위 : 0, 바위 : 1, 보 : 2\n",
    "    img_size=28\n",
    "    color=3\n",
    "    #이미지 데이터와 라벨(가위 : 0, 바위 : 1, 보 : 2) 데이터를 담을 행렬(matrix) 영역을 생성합니다.\n",
    "    imgs=np.zeros(number_of_data*img_size*img_size*color,dtype=np.int32).reshape(number_of_data,img_size,img_size,color)\n",
    "    labels=np.zeros(number_of_data,dtype=np.int32)\n",
    "\n",
    "    idx=0\n",
    "    for file in glob.iglob(img_path+'/scissor/*.jpg'):\n",
    "        img = np.array(Image.open(file),dtype=np.int32)\n",
    "        imgs[idx,:,:,:]=img    # 데이터 영역에 이미지 행렬을 복사\n",
    "        labels[idx]=0   # 가위 : 0\n",
    "        idx=idx+1\n",
    "\n",
    "    for file in glob.iglob(img_path+'/rock/*.jpg'):\n",
    "        img = np.array(Image.open(file),dtype=np.int32)\n",
    "        imgs[idx,:,:,:]=img    # 데이터 영역에 이미지 행렬을 복사\n",
    "        labels[idx]=1   # 바위 : 1\n",
    "        idx=idx+1  \n",
    "    \n",
    "    for file in glob.iglob(img_path+'/paper/*.jpg'):\n",
    "        img = np.array(Image.open(file),dtype=np.int32)\n",
    "        imgs[idx,:,:,:]=img    # 데이터 영역에 이미지 행렬을 복사\n",
    "        labels[idx]=2   # 보 : 2\n",
    "        idx=idx+1\n",
    "        \n",
    "    print(\"학습데이터(x_test)의 이미지 개수는\", idx,\"입니다.\")\n",
    "    return imgs, labels\n",
    "\n",
    "\n",
    "\n",
    "\n",
    "\n",
    "(x_test, y_test)=load_data(base_dir)\n",
    "# print(base_dir)\n",
    "# x_test.shape\n",
    "x_test_norm = x_test/255.0   # 입력은 0~1 사이의 값으로 정규화\n",
    "\n",
    "\n",
    "print(\"x_test shape: {}\".format(x_test_norm.shape))\n",
    "print(\"y_test shape: {}\".format(y_test.shape))"
   ]
  },
  {
   "cell_type": "code",
   "execution_count": 18,
   "id": "e1c6a686",
   "metadata": {},
   "outputs": [
    {
     "name": "stdout",
     "output_type": "stream",
     "text": [
      "36/36 - 0s - loss: 3.3167 - accuracy: 0.3892\n",
      "test_loss: 3.316736936569214\n",
      "test_accuracy: 0.3892321288585663\n"
     ]
    }
   ],
   "source": [
    "test_loss, test_accuracy = model.evaluate(x_test_norm, y_test, verbose=2) \n",
    "print(f'test_loss: {test_loss}')\n",
    "print(f'test_accuracy: {test_accuracy}')\n"
   ]
  },
  {
   "cell_type": "markdown",
   "id": "0af4c193",
   "metadata": {},
   "source": [
    "정확도가 낮고 loss값이 너무 높다 이미지가 적어서 그런가?"
   ]
  },
  {
   "cell_type": "code",
   "execution_count": null,
   "id": "7e40b774",
   "metadata": {},
   "outputs": [],
   "source": [
    "import matplotlib.pyplot as plt\n",
    "\n",
    "# 결과 저장\n",
    "test_loss_values = [test_loss]\n",
    "test_accuracy_values = [test_accuracy]\n",
    "metrics_names = ['Loss', 'Accuracy']\n",
    "\n",
    "# 막대 그래프 그리기\n",
    "fig, ax = plt.subplots()\n",
    "index = range(len(metrics_names))\n",
    "bar_width = 0.35\n",
    "\n",
    "bar1 = ax.bar(index, test_loss_values, bar_width, label='Loss')\n",
    "bar2 = ax.bar([i + bar_width for i in index], test_accuracy_values, bar_width, label='Accuracy')\n",
    "\n",
    "ax.set_xlabel('Metrics')\n",
    "ax.set_ylabel('Values')\n",
    "ax.set_title('Test Metrics')\n",
    "ax.set_xticks([i + bar_width/2 for i in index])\n",
    "ax.set_xticklabels(metrics_names)\n",
    "ax.legend()\n",
    "\n",
    "# 값 표시\n",
    "for bars in [bar1, bar2]:\n",
    "    for bar in bars:\n",
    "        yval = bar.get_height()\n",
    "        ax.text(bar.get_x() + bar.get_width()/2, yval, round(yval, 2), va='bottom')\n",
    "\n",
    "plt.show()\n"
   ]
  },
  {
   "cell_type": "code",
   "execution_count": 28,
   "id": "25a27690",
   "metadata": {},
   "outputs": [
    {
     "name": "stdout",
     "output_type": "stream",
     "text": [
      "Model: \"sequential_8\"\n",
      "_________________________________________________________________\n",
      "Layer (type)                 Output Shape              Param #   \n",
      "=================================================================\n",
      "conv2d_16 (Conv2D)           (None, 26, 26, 64)        1792      \n",
      "_________________________________________________________________\n",
      "max_pooling2d_16 (MaxPooling (None, 13, 13, 64)        0         \n",
      "_________________________________________________________________\n",
      "conv2d_17 (Conv2D)           (None, 11, 11, 128)       73856     \n",
      "_________________________________________________________________\n",
      "max_pooling2d_17 (MaxPooling (None, 5, 5, 128)         0         \n",
      "_________________________________________________________________\n",
      "dropout_7 (Dropout)          (None, 5, 5, 128)         0         \n",
      "_________________________________________________________________\n",
      "flatten_8 (Flatten)          (None, 3200)              0         \n",
      "_________________________________________________________________\n",
      "dense_16 (Dense)             (None, 128)               409728    \n",
      "_________________________________________________________________\n",
      "dense_17 (Dense)             (None, 3)                 387       \n",
      "=================================================================\n",
      "Total params: 485,763\n",
      "Trainable params: 485,763\n",
      "Non-trainable params: 0\n",
      "_________________________________________________________________\n",
      "Epoch 1/20\n",
      "85/85 [==============================] - 8s 84ms/step - loss: 1.0551 - accuracy: 0.4300\n",
      "Epoch 2/20\n",
      "85/85 [==============================] - 7s 84ms/step - loss: 0.4776 - accuracy: 0.8070\n",
      "Epoch 3/20\n",
      "85/85 [==============================] - 7s 84ms/step - loss: 0.2484 - accuracy: 0.9004\n",
      "Epoch 4/20\n",
      "85/85 [==============================] - 7s 84ms/step - loss: 0.1386 - accuracy: 0.9470\n",
      "Epoch 5/20\n",
      "85/85 [==============================] - 7s 83ms/step - loss: 0.0949 - accuracy: 0.9626\n",
      "Epoch 7/20\n",
      "85/85 [==============================] - 7s 84ms/step - loss: 0.0749 - accuracy: 0.9759\n",
      "Epoch 8/20\n",
      "85/85 [==============================] - 7s 84ms/step - loss: 0.0540 - accuracy: 0.9800\n",
      "Epoch 9/20\n",
      "85/85 [==============================] - 7s 83ms/step - loss: 0.0426 - accuracy: 0.9881\n",
      "Epoch 10/20\n",
      "85/85 [==============================] - 7s 84ms/step - loss: 0.0343 - accuracy: 0.9896\n",
      "Epoch 11/20\n",
      "85/85 [==============================] - 7s 83ms/step - loss: 0.0293 - accuracy: 0.9911\n",
      "Epoch 12/20\n",
      "85/85 [==============================] - 7s 83ms/step - loss: 0.0363 - accuracy: 0.9885\n",
      "Epoch 13/20\n",
      "85/85 [==============================] - 7s 84ms/step - loss: 0.0250 - accuracy: 0.9930\n",
      "Epoch 14/20\n",
      "85/85 [==============================] - 7s 84ms/step - loss: 0.0226 - accuracy: 0.9930\n",
      "Epoch 15/20\n",
      "85/85 [==============================] - 7s 83ms/step - loss: 0.0262 - accuracy: 0.9889\n",
      "Epoch 16/20\n",
      "85/85 [==============================] - 7s 83ms/step - loss: 0.0393 - accuracy: 0.9870\n",
      "Epoch 17/20\n",
      "85/85 [==============================] - 7s 83ms/step - loss: 0.0356 - accuracy: 0.9893\n",
      "Epoch 18/20\n",
      "85/85 [==============================] - 7s 83ms/step - loss: 0.0120 - accuracy: 0.9967\n",
      "Epoch 19/20\n",
      "85/85 [==============================] - 7s 84ms/step - loss: 0.0140 - accuracy: 0.9948\n",
      "Epoch 20/20\n",
      "85/85 [==============================] - 7s 83ms/step - loss: 0.0101 - accuracy: 0.9967\n"
     ]
    },
    {
     "data": {
      "text/plain": [
       "<keras.callbacks.History at 0x7f97d0569520>"
      ]
     },
     "execution_count": 28,
     "metadata": {},
     "output_type": "execute_result"
    }
   ],
   "source": [
    "# 모델 구성\n",
    "n_channel_1 = 64\n",
    "n_channel_2 = 128\n",
    "n_dense = 128\n",
    "n_train_epoch = 20\n",
    "\n",
    "model = keras.models.Sequential([\n",
    "    keras.layers.Conv2D(n_channel_1, (3, 3), activation='relu', input_shape=(28, 28, 3)),\n",
    "    keras.layers.MaxPool2D(2, 2),\n",
    "    keras.layers.Conv2D(n_channel_2, (3, 3), activation='relu'),\n",
    "    keras.layers.MaxPooling2D((2, 2)),\n",
    "    keras.layers.Dropout(0.5),  # 드롭아웃 추가\n",
    "    keras.layers.Flatten(),\n",
    "    keras.layers.Dense(n_dense, activation='relu'),\n",
    "    keras.layers.Dense(3, activation='softmax')\n",
    "])\n",
    "\n",
    "model.summary()\n",
    "\n",
    "\n",
    "model.compile(optimizer='adam',\n",
    "             loss='sparse_categorical_crossentropy',\n",
    "             metrics=['accuracy'])\n",
    "\n",
    "history = model.fit(x_train_norm, y_train, epochs=n_train_epoch)\n",
    "history"
   ]
  },
  {
   "cell_type": "code",
   "execution_count": 32,
   "id": "7fd26905",
   "metadata": {},
   "outputs": [
    {
     "data": {
      "image/png": "[encoded data removed]",
      "text/plain": [
       "<Figure size 432x288 with 1 Axes>"
      ]
     },
     "metadata": {
      "needs_background": "light"
     },
     "output_type": "display_data"
    }
   ],
   "source": [
    "accuracy_train = history.history['accuracy']\n",
    "accuracy_loss = history.history['loss']\n",
    "epochs_ = range(1, n_train_epoch + 1)\n",
    "\n",
    "# 정확도 그래프 플로팅\n",
    "plt.plot(epochs_, accuracy_train, label='Training accuracy', color='blue', marker='o')\n",
    "plt.plot(epochs_, accuracy_loss, label='loss', color='red', marker='^')\n",
    "plt.xlabel('Number of epochs')\n",
    "plt.ylabel('Accuracy')\n",
    "plt.title('Number of epochs vs. Accuracy')\n",
    "plt.legend()\n",
    "plt.show()"
   ]
  },
  {
   "cell_type": "code",
   "execution_count": 36,
   "id": "86070eb5",
   "metadata": {},
   "outputs": [
    {
     "name": "stdout",
     "output_type": "stream",
     "text": [
      "36/36 - 1s - loss: 3.6784 - accuracy: 0.3786\n",
      "test_loss: 3.678389072418213\n",
      "test_accuracy: 0.3786407709121704\n"
     ]
    }
   ],
   "source": [
    "test_loss, test_accuracy = model.evaluate(x_test_norm, y_test, verbose=2) \n",
    "print(f'test_loss: {test_loss}')\n",
    "print(f'test_accuracy: {test_accuracy}')\n"
   ]
  },
  {
   "cell_type": "code",
   "execution_count": 33,
   "id": "6dffa66d",
   "metadata": {},
   "outputs": [
    {
     "name": "stdout",
     "output_type": "stream",
     "text": [
      "model.predict() 결과 :  [1.7275187e-06 5.4208612e-01 4.5791218e-01]\n",
      "model이 추론한 가장 가능성이 높은 결과 : 1\n",
      "실제 데이터의 라벨: 0\n"
     ]
    }
   ],
   "source": [
    "predicted_result = model.predict(x_test_norm)\n",
    "predicted_labels = np.argmax(predicted_result, axis=1)\n",
    "\n",
    "idx=0\n",
    "print('model.predict() 결과 : ', predicted_result[idx])\n",
    "print('model이 추론한 가장 가능성이 높은 결과 :', predicted_labels[idx])\n",
    "print('실제 데이터의 라벨:', y_test[idx])"
   ]
  },
  {
   "cell_type": "code",
   "execution_count": 38,
   "id": "71654069",
   "metadata": {},
   "outputs": [
    {
     "data": {
      "text/plain": [
       "array([[1.7275187e-06, 5.4208612e-01, 4.5791218e-01],\n",
       "       [8.1576908e-01, 8.4424049e-02, 9.9806905e-02],\n",
       "       [7.6715000e-02, 8.4430259e-01, 7.8982390e-02],\n",
       "       ...,\n",
       "       [1.3789385e-04, 6.5623522e-02, 9.3423861e-01],\n",
       "       [9.8540735e-01, 1.4592084e-02, 5.6360648e-07],\n",
       "       [5.2183113e-06, 5.0020106e-02, 9.4997466e-01]], dtype=float32)"
      ]
     },
     "execution_count": 38,
     "metadata": {},
     "output_type": "execute_result"
    }
   ],
   "source": [
    "predicted_result"
   ]
  },
  {
   "cell_type": "code",
   "execution_count": 42,
   "id": "f36045fd",
   "metadata": {},
   "outputs": [],
   "source": [
    "import pandas as pd"
   ]
  },
  {
   "cell_type": "code",
   "execution_count": 46,
   "id": "06558699",
   "metadata": {},
   "outputs": [
    {
     "data": {
      "text/plain": [
       "1    549\n",
       "0    317\n",
       "2    267\n",
       "dtype: int64"
      ]
     },
     "execution_count": 46,
     "metadata": {},
     "output_type": "execute_result"
    }
   ],
   "source": [
    "pd.Series(predicted_labels).value_counts()"
   ]
  },
  {
   "cell_type": "code",
   "execution_count": 34,
   "id": "1866455a",
   "metadata": {},
   "outputs": [
    {
     "data": {
      "image/png": "[encoded data removed]",
      "text/plain": [
       "<Figure size 432x288 with 1 Axes>"
      ]
     },
     "metadata": {
      "needs_background": "light"
     },
     "output_type": "display_data"
    }
   ],
   "source": [
    "plt.imshow(x_test[idx], cmap=plt.cm.binary)\n",
    "plt.show()"
   ]
  },
  {
   "cell_type": "code",
   "execution_count": 35,
   "id": "5803fe47",
   "metadata": {},
   "outputs": [
    {
     "name": "stdout",
     "output_type": "stream",
     "text": [
      "예측확률분포: [1.6178311e-04 6.5766108e-01 3.4217709e-01]\n",
      "라벨: 2, 예측결과: 1\n"
     ]
    },
    {
     "data": {
      "image/png": "[encoded data removed]",
      "text/plain": [
       "<Figure size 432x288 with 1 Axes>"
      ]
     },
     "metadata": {
      "needs_background": "light"
     },
     "output_type": "display_data"
    },
    {
     "name": "stdout",
     "output_type": "stream",
     "text": [
      "예측확률분포: [9.9899822e-01 9.8717737e-04 1.4625447e-05]\n",
      "라벨: 1, 예측결과: 0\n"
     ]
    },
    {
     "data": {
      "image/png": "[encoded data removed]",
      "text/plain": [
       "<Figure size 432x288 with 1 Axes>"
      ]
     },
     "metadata": {
      "needs_background": "light"
     },
     "output_type": "display_data"
    },
    {
     "name": "stdout",
     "output_type": "stream",
     "text": [
      "예측확률분포: [2.0897803e-06 9.8857540e-01 1.1422509e-02]\n",
      "라벨: 2, 예측결과: 1\n"
     ]
    },
    {
     "data": {
      "image/png": "[encoded data removed]",
      "text/plain": [
       "<Figure size 432x288 with 1 Axes>"
      ]
     },
     "metadata": {
      "needs_background": "light"
     },
     "output_type": "display_data"
    },
    {
     "name": "stdout",
     "output_type": "stream",
     "text": [
      "예측확률분포: [0.00383973 0.85351664 0.14264368]\n",
      "라벨: 0, 예측결과: 1\n"
     ]
    },
    {
     "data": {
      "image/png": "[encoded data removed]",
      "text/plain": [
       "<Figure size 432x288 with 1 Axes>"
      ]
     },
     "metadata": {
      "needs_background": "light"
     },
     "output_type": "display_data"
    },
    {
     "name": "stdout",
     "output_type": "stream",
     "text": [
      "예측확률분포: [4.4953698e-01 5.5046284e-01 2.2360483e-07]\n",
      "라벨: 2, 예측결과: 1\n"
     ]
    },
    {
     "data": {
      "image/png": "[encoded data removed]",
      "text/plain": [
       "<Figure size 432x288 with 1 Axes>"
      ]
     },
     "metadata": {
      "needs_background": "light"
     },
     "output_type": "display_data"
    }
   ],
   "source": [
    "import random\n",
    "\n",
    "wrong_predict_list=[]\n",
    "for i, _ in enumerate(predicted_labels):\n",
    "    # i번째 test_labels과 y_test이 다른 경우만 모아 봅시다. \n",
    "    if predicted_labels[i] != y_test[i]:\n",
    "        wrong_predict_list.append(i)\n",
    "\n",
    "# wrong_predict_list 에서 랜덤하게 5개만 뽑아봅시다.\n",
    "samples = random.choices(population=wrong_predict_list, k=5)\n",
    "\n",
    "for n in samples:\n",
    "    print(\"예측확률분포: \" + str(predicted_result[n]))\n",
    "    print(\"라벨: \" + str(y_test[n]) + \", 예측결과: \" + str(predicted_labels[n]))\n",
    "    plt.imshow(x_test[n], cmap=plt.cm.binary)\n",
    "    plt.show()"
   ]
  },
  {
   "cell_type": "markdown",
   "id": "f348826e",
   "metadata": {},
   "source": [
    "### 회고\n",
    "- 이미지 학습을 진행하는데 재미가 있었다.\n",
    "- 각각 이미지를 촬영을 하고 학습데이터로 사용을 하는게 재미있었다.\n",
    "- 꽤 많은 이미지를 학습했다고 했는데 생각보다 정확도가 낮아서 아쉽다.\n",
    "- 추후에 이미지 augumet를 해서 진행을 해보아야겠다.\n",
    "- 이미지 반전 및 회전을 해서 이미지를 더 늘려보아야겠다."
   ]
  },
  {
   "cell_type": "code",
   "execution_count": null,
   "id": "7cc88eec",
   "metadata": {},
   "outputs": [],
   "source": []
  },
  {
   "cell_type": "code",
   "execution_count": null,
   "id": "3a261c18",
   "metadata": {},
   "outputs": [],
   "source": []
  }
 ],
 "metadata": {
  "kernelspec": {
   "display_name": "Python 3 (ipykernel)",
   "language": "python",
   "name": "python3"
  },
  "language_info": {
   "codemirror_mode": {
    "name": "ipython",
    "version": 3
   },
   "file_extension": ".py",
   "mimetype": "text/x-python",
   "name": "python",
   "nbconvert_exporter": "python",
   "pygments_lexer": "ipython3",
   "version": "3.9.7"
  }
 },
 "nbformat": 4,
 "nbformat_minor": 5
}
